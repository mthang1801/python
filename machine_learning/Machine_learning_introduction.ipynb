{
  "nbformat": 4,
  "nbformat_minor": 0,
  "metadata": {
    "colab": {
      "name": "Machine_learning_introduction.ipynb",
      "provenance": [],
      "collapsed_sections": [],
      "toc_visible": true
    },
    "kernelspec": {
      "name": "python3",
      "display_name": "Python 3"
    },
    "language_info": {
      "name": "python"
    }
  },
  "cells": [
    {
      "cell_type": "markdown",
      "metadata": {
        "id": "O3jJnBObTQll"
      },
      "source": [
        "## Giới thiệu về Machine Learning \n",
        "\n",
        "Trước khi bước vào thế giới của máy học, chắc có lẽ trong số nhiều bạn sẽ có suy nghĩ nó là một thứ gì đó đặc biệt ghê gớm, vì nghe đến máy mà còn có khả năng học được thì xét về khả năng thông minh nó đâu có thua gì con người. Nhưng khi, đọc bài viết này bạn sẽ thay đổi được suy nghĩ đó. Bài viết sẽ cung cấp cho bạn một cái nhìn tổng quan về các loại vấn đề phổ biến nhất mà máy học thường được sử dụng để giải quyết vấn đề. Đồng thời cung cấp cho bạn một trình tự tham khảo để bạn có thể tiếp cận với lĩnh vực máy học này.\n",
        "\n",
        "Đầu tiên, chúng ta cần làm rõ một số khái niệm. Ngoài máy học, có thể bạn đã tùng nghe qua trí tuệ nhân tạo (AI), khoa học dữ liệu (Data science). Vậy điểm khác biệt giữa chúng là gì? Ba chủ đề này có thể khó hiểu vì không có định nghĩa chính thức nhưng để tránh nhầm lẫn chúng ta sẽ đợn giản các khái niệm như sau : \n",
        "+ Khoa học dữ liệu tạo ra thông tin chi tiết, biểu đồ trực quan hóa dữ liệu. Khoa học dữ liệu được áp dụng cho lĩnh vực suy luận thống kê, thiết kế thử nghiệm, giao tiếp \n",
        "+ Machine learning đưa ra dự đoán\n",
        "+ AI tạo ra các hành động cho máy móc, thiết bị thực thi. VD Các thuật toán chơi trò chơi, Lý thuyết điều khiển và rô bốt (lập kế hoạch chuyển động, đi bộ rô bốt hai chân), tối ưu (lựa chọn đường đi ngắn nhất trên Google Map) \n",
        "\n",
        "![](https://static.javatpoint.com/tutorial/machine-learning/images/data-science-vs-machine-learning.png)\n",
        "\n",
        "\n",
        "\n",
        "\n",
        "\n"
      ]
    },
    {
      "cell_type": "markdown",
      "metadata": {
        "id": "tPe-Qh_DXqPP"
      },
      "source": [
        "## Các bước để tiến hành một dự án Machine learning \n",
        "\n",
        "Quy trình để xây dụng mô hình trong máy học có thể được chia thành ba bước chính. Thu thập dữ liệu, xây dựng, đào tạo và triển khai mô hình.\n",
        "\n",
        "Bạn có thể bắt đầu một dự án bằng cách thu thập dữ liệu -> train dữ liệu với mô hình nó -> nếu nhận thấy dữ liệu bạn thu thập được là kém, có thể thu thập dữ liệu khác hoặc tăng thêm dữ liệu -> train dữ liệu với mô hình một lần nữa -> tìm một mô hình tốt hơn -> triển khải mô hình, nếu thấy nó không hoạt động, hãy tạo một mô hình khác -> triển khai mô hình. Đó là một chu kỳ.\n",
        "\n",
        "> 🔑 Mô hình hóa dữ liệu có nghĩa là gì? Deployment nghĩa là gì? Làm cách nào để thu thập dữ liệu?\n",
        "> \n",
        ">  **Mô hình hóa dữ liệu** hay lập mô hình đề cập đến việc sử dụng thuật toán máy học để tìm thông tin chi tiết các đặc trưng trong dữ liệu đã thu thập.\n",
        ">\n",
        "> **Triển khai mô hình** là quá trình cung cấp các mô hình của bạn trong thành môi trường production, nơi chúng có thể cung cấp các dự đoán cho các hệ thống phần mềm khác nhau. Chỉ khi các mô hình được triển khai vào production thì chúng mới bắt đầu có giá trị, khiến việc triển khai trở thành một bước quan trọng. Tuy nhiên, có sự phức tạp trong việc triển khai các mô hình học máy\n",
        "\n",
        "Bài viết này tập trung vào mô hình dữ liệu. Giả định rằng bạn đã thu thập dữ liệu và đang tìm cách xây dựng bằng các khái niệm máy học.\n",
        "\n",
        "![](https://images.ctfassets.net/tln063yrioga/4YSvrVkIueU3s5ZJp88GDr/b5ba4e66440ba02f3b2ed91c9af5ac80/ml101-6-step-ml-framework.png?h=250)\n",
        "*Các dự án máy học có thể được chia thành ba bước, thu thập dữ liệu, mô hình hóa dữ liệu và triển khai. Bài viết này tập trung vào các bước trong giai đoạn lập mô hình dữ liệu và giả định rằng bạn đã có dữ liệu. Phiên bản đầy đủ trên https://whimsical.com/9g65jgoRYTxMXxDosndYTB*\n",
        "\n",
        "1. **Định nghĩa vấn đề** Chúng tôi đang cố gắng giải quyết vấn đề kinh doanh nào? Làm thế nào nó có thể được diễn giải như một vấn đề học máy?\n",
        "2. **Dữ liệu** Nếu máy học đang lấy thông tin chi tiết từ dữ liệu, thì chúng ta có dữ liệu nào? Làm thế nào để nó phù hợp với vấn đề cần giải quyết? Dữ liệu của chúng ta có cấu trúc hay không có cấu trúc? Dữ liệu tĩnh hay động?\n",
        "3. **Đánh giá** Mô hình train như thế nào, độ chính xác bao nhiêu thì được gọi là thành công ?\n",
        "4. **Các đặc tính của dữ liệu** Chúng ta sẽ sử dụng những phần dữ liệu nào để giúp mô hình có thể train và nhận dạng được các đặc trưng riêng cho label khác nhau.\n",
        "5. **Lập mô hình** : Đối với từng vấn đề cụ thể, sẽ có những mô hình đặc trưng phục vụ cho vấn đề đó. Ngoài ra còn xét đến khả năng cải thiện mô hình, so sánh giữa các mô hình khác nhau. \n",
        "6. **Thử nghiệm** Thử nghiệm bằng cách đánh giá mô hình, so sánh các giá trị dự đoán với giá trị thực tế\n",
        "\n",
        "\n",
        "\n",
        "\n",
        "\n",
        "\n",
        "Cách bạn thu thập dữ liệu sẽ phụ thuộc vào vấn đề của bạn. Chúng ta sẽ xem xét các ví dụ sau một phút. Nhưng một cách có thể là khách hàng của bạn mua hàng trong bảng tính.\n",
        "\n",
        "\n",
        "\n",
        "\n"
      ]
    },
    {
      "cell_type": "markdown",
      "metadata": {
        "id": "bJFEpzhJjzLk"
      },
      "source": [
        "## Định nghĩa vấn đề - Diễn đạt lại vấn đề dưới dạng học máy\n",
        "\n",
        "Để giúp quyết định xem vấn đề mà bạn đang gặp phải có thể sử dụng máy học hay không, bước đầu tiên là phải đối chiếu với vấn đề  mà bạn đang cố gắng giải quyết có nằm trong các trường hợp có thể áp dụng được máy học hay không. Bốn loại máy học chính là học có **giám sát (supervised learning), học không giám sát (unsupervised learning), transfer learning và học tăng cường (reinforcement) (cũng có bán giám sát nhưng đã bỏ qua cho ngắn gọn)**. Ba cách được sử dụng nhiều nhất trong các ứng dụng kinh doanh là **học có giám sát, học không giám sát và transfer learning**.\n",
        "\n",
        "\n",
        "\n",
        "\n",
        "\n"
      ]
    },
    {
      "cell_type": "markdown",
      "metadata": {
        "id": "brdRpTzVk1me"
      },
      "source": [
        "### Học có giám sát (supervised learning) \n",
        "Học có giám sát, được gọi là có giám sát vì bạn có dữ liệu đặc trưng và một label. Một thuật toán học máy cố gắng tìm hiểu những đặc trưng nào trong dữ liệu để khi nó học xong nó sẽ nhớ rằng với dữ liệu đó thì label phải là như vậy. Phần được giám sát xảy ra trong quá trình đào tạo. Nếu thuật toán đoán sai label, nó sẽ cố gắng sửa lại.\n",
        "\n",
        "Giả sử bạn đã có mô hình được train trên dữ liệu từ bệnh nhân bị nhiễm COVID-19 bao gồm các triệu chứng, nhịp tim, nồng độ oxy trong máu... Vào ngày hôm nay, khi có rất nhiều ca bệnh khiến cho các thiết bị xét nghiệm không thể đáp ứng kịp, bạn được yêu cầu dự đoán xem bệnh nhân nào đang mắc COVID-19 để có thể tiến hành nhập viện và điều trị cho bênh nhân đó ngay lập tức. Và thế là mô hình bạn sẽ dựa trên dữ liệu lâm sàng để dự  đoán người đó có khả năng nhiễm bệnh hay không. Điều quan trọng cần nhớ là dự đoán này không chắc chắn. Nó chỉ trả về kết quả dự đoán như một xác suất. Thuật toán cho biết, \"dựa trên những gì tôi đã thấy trước đây, có vẻ như hồ sơ bệnh án của những bệnh nhân mới này phù hợp 70% với những người đã từng bị nhiễm COVID-19.\"\n",
        "\n",
        "\n",
        "\n",
        "\n"
      ]
    },
    {
      "cell_type": "markdown",
      "metadata": {
        "id": "BQOKNbCKneEz"
      },
      "source": [
        "### Học không giám sát (Unsupervised learning) \n",
        "\n",
        "Học không giám sát là khi bạn có dữ liệu nhưng không có label. Dữ liệu có thể là lịch sử mua hàng của khách hàng trên sàn giao dịch thương mại điện tử như Shopee, Lazada hay Tiki. Sử dụng dữ liệu này, bạn có thể muốn nhóm những khách hàng tương tự lại với nhau để có thể cung cấp cho họ những quảng cáo, những mặt hàng tương tự khi tiến hành sale. Bạn có thể sử dụng thuật toán máy học để nhóm khách hàng của mình theo lịch sử mua hàng.\n",
        "\n",
        "Sau khi điều tra các nhóm đối tượng khác nhau, bạn cung cấp các label cho từng nhóm cụ thể. Có thể có một nhóm quan tâm đến thời trang, nhóm thì quan tâm đến dịch vụ ăn uống, nhóm khác lại là thiết bị công nghệ... Việc tách từng nhóm đối tượng này thành còn được gọi là **clustering**\n",
        "\n",
        "Điều quan trọng cần nhớ ở đây là thuật toán không cung cấp các label. Nó tìm thấy dựa vào những đặc trưng, những điểm tương đồng giữa những khách hàng với nhau. Từ đó, nó sẽ tạo thành từng nhóm dựa trên những điểm tương đồng đó. "
      ]
    },
    {
      "cell_type": "markdown",
      "metadata": {
        "id": "-ga1HmGKpFbj"
      },
      "source": [
        "### Transfer learning \n",
        "\n",
        "Sau khi thu thập được dữ liệu, bạn sẽ tiến hành xây dựng mô hình và train các đặc tính của dữ liệu trên mô hình. Nhưng với **transfer learning**, bạn không cần phải xây dựng lại mô hình từ ban đầu, vì những vấn đề mà bạn đang gặp phải thì có thể có nhiều người trước đó đã trải qua rồi, và họ cũng tạo mô hình đề giải quyết vấn đề đó rồi. Do đó, thay vị phải mất thời gian xây dựng lại mô hình từ đầu, bạn có thể sử dụng mô hình đã được train trước đó và áp dụng vào dữ liệu của bạn. Điều đó giúp tiết kiệm đáng kể thời gian cũng như đạt hiệu quả khá tốt cho những vấn đề bạn mới bắt đầu."
      ]
    },
    {
      "cell_type": "markdown",
      "metadata": {
        "id": "PyN9nooIvQm5"
      },
      "source": [
        "Có 3 loại học trong machine learning gồm : \n",
        "\n",
        "+ **Phân loại** : Dự đoán kết quả dữ liệu đó là gì trong danh sách kết quả được cho trước. \n",
        "  + Phân loại nhị phân : Dự đoán đối tượng trong dữ liệu chỉ gồm 2 class là có (1) hay không(0). Chẳng hạn, dự đoán người đó có bị nhiễm COVID-19 hay không.\n",
        "  + Phân loại nhiều class : Dự đoán đối tượng đó thuộc class nào trong danh sách có từ 2 class trở lên. VD : dự đoán khách hàng thuộc nhóm A trong danh sách [A,B,C,D]. \n",
        "+ **Hồi quy** : Dự đoán một con số cụ thể dựa trên dữ liệu đặc trưng cho sẵn. VD : Dự đoán giá ngôi có 4 mặt tiền, nằm trên đường Nguyễn Thị Minh Khai Q1 😄. \n",
        "+ **Giới thiệu** : Bạn có muốn giới thiệu điều gì đó cho ai đó không? Chẳng hạn như các sản phẩm để mua dựa trên những lần mua trước đó của họ? Hoặc các bài báo để đọc dựa trên lịch sử đọc của họ?\n",
        "\n",
        "\n"
      ]
    },
    {
      "cell_type": "markdown",
      "metadata": {
        "id": "-vLjXTX9ubNn"
      },
      "source": [
        "## Dữ liệu \n",
        "\n",
        "Dữ liệu bạn có hoặc cần thu thập sẽ phụ thuộc vào vấn đề bạn muốn giải quyết. Dữ liệu gồm 2 dạng : **có cấu trúc** và **không có cấu trúc**. Bên trong mỗi dạng này gồm có dữ liệu kiểu tĩnh và dữ liệu động. \n",
        "\n",
        "+ **Dữ liệu có cấu trúc** : Là những dữ liệu được sắp xếp đúng theo từng cột. VD, dữ liệu của bênh nhân gồm : Mã số, Tên, ngày sinh, giới tính, nhịp tim, huyết áp, chuẩn đoán bênh, tiền sử bênh án...\n",
        "![](https://www.researchgate.net/profile/Kok-Seng-Wong/publication/278023531/figure/tbl1/AS:668912945487878@1536492682537/Sample-medical-dataset.png)\n",
        "\n",
        "+ **Dữ liệu không có cấu trúc** Là những dữ liệu chúng ta đọc không hiểu được ý nghĩa của nó là gì, chỉ toàn thấy các con số, hoặc các ma trận. Những dữ liệu không có cấu trúc gồm dữ liệu hình ảnh, âm thanh, video, ngôn ngữ tự nhiên \n",
        "\n",
        "+ **Dữ liệu tĩnh** : Là những dữ liệu lịch sử đã tồn tại sẵn và không thể thay đổi. VD : danh sách khách hàng đã mua hàng của công ty. \n",
        "+ **Dữ liệu động** : Là những dữ liệu có thể thay đổi, cập nhật liên tục, dữ liệu lịch sử cũng có thể thay đổi, dữ liệu mới được thêm vào liên tục theo thời gian. \n",
        "\n",
        "![](https://www.datamation.com/wp-content/uploads/2020/12/structured-vs-unstructured-data_5fce9d4546034.jpeg)\n",
        "\n",
        "Đối với học có giám sát, điều này liên quan đến việc sử dụng (các) biến giải thích (dữ liệu đưa vào mô hình để tìm đặc trưng) để dự đoán (các) biến mục tiêu (label). \n",
        "\n",
        "![](https://images.ctfassets.net/tln063yrioga/1r1AhN6N9l1gFBBehKRCrJ/4455010b2e5babb4390ce3eb590666c5/ml101-different-data-types.png?h=250)\n",
        "\n",
        "Đối với học không giám sát, bạn sẽ không có label cho dữ liệu, nhưng mô hình sẽ tìm các đặc trưng trong các dữ liệu và tạo mối liên kết giữa các dữ liệu lại thành 1 nhóm.\n",
        "\n",
        "Hãy nhớ rằng, nếu bạn đang sử dụng dữ liệu khách hàng để cải thiện doanh nghiệp của mình hoặc để cung cấp cho họ dịch vụ tốt hơn, thì điều quan trọng là phải cho họ biết. Đây là lý do tại sao bạn thấy các cửa sổ bật lên “trang web này sử dụng cookie” ở khắp mọi nơi. Trang web sử dụng cách bạn duyệt trang web, có thể cùng với một số loại máy học để cải thiện dịch vụ của họ.\n",
        "\n",
        "\n",
        "\n",
        "\n",
        "\n",
        "\n",
        "\n"
      ]
    },
    {
      "cell_type": "markdown",
      "metadata": {
        "id": "mTr0Ahosyf4r"
      },
      "source": [
        "## Đánh giá\n",
        "\n",
        "Giả sử bạn đã xác định vấn đề kinh doanh của mình theo thuật ngữ máy học và bạn có dữ liệu. Bây giờ cần xác định khả năng đào tạo mô hình bằng cách đo lường các sai số, độ chính xác của mô hình dự đoán dữ liệu. Với mỗi vấn đề phân loại, hồi quy và khuyến nghị sẽ có phương pháp đo lường, đánh giá khác nhau. Tùy thuộc vào mục tiêu giải quyết để chọn cho phù hợp.\n",
        "\n",
        "\n",
        "\n"
      ]
    },
    {
      "cell_type": "markdown",
      "metadata": {
        "id": "MFI8Ywi471Ye"
      },
      "source": [
        "### Vấn đề phân loại \n",
        "\n",
        "Với vấn đề phân loại, bạn cần lưu ý một số trường hợp : \n",
        "- **False negatives** : Mô hình dự đoán 0 nhưng giá trị thực là 1.\n",
        "- **False positives** : Mô hình dự đoán 1 nhưng giá trị thực là 0.\n",
        "- **True negatives** : Mô hình dự đoán 0 và giá trị thực là 0.  \n",
        "- **True positives** : Mô hình dự đoán 1 và giá trị thực là 1. \n",
        "\n",
        "Một số phương pháp đánh giá : \n",
        "\n",
        "- **Precision** : Tỉ lệ positive được dự đoán chính xác trong tổng số các dự đoán positive \n",
        "- **Recall** : Tỉ lệ positive được dự đoán chính xác trong tổng số\n",
        "- **F1-score** : Sự kết hợp của **Precision** và **Recall** \n",
        "- **Receiver operating characteristic (ROC) curve & Area under the curve (AUC)** : Đường cong ROC là một đồ thị so sánh tỷ lệ True positive và  False positive. Số liệu AUC là diện tích bên dưới đường cong ROC. Mô hình dự đoán sai 100% thì AUC là 0, mô hình có dự đoán đúng 100% có AUC là 1.\n",
        "\n",
        "![](https://bsppjournals.onlinelibrary.wiley.com/cms/asset/fa5570cf-05c5-4291-a478-e9be005d591c/ppa12808-fig-0001-m.jpg)\n",
        "\n",
        "Đối với các vấn đề hồi quy (trong đó bạn muốn dự đoán một con số), bạn sẽ luôn mong muốn giá trị dự đoán càng gần với giá trị thực tế càng tốt. Chẳng hạn Nếu bạn đang cố gắng dự đoán giá một ngôi nhà sẽ bán có giá thực tế khoảng 200.000$, bạn sẽ muốn mô hình của mình dự đoán giá của nó càng gần với giá trị này càng tốt. Để đánh giá mức chênh lệch giữa giá trị dự đoán với thực tế, chúng ta thường sử dụng MAE, RMSE. \n",
        "\n",
        "- **Sai số trung bình tuyệt đối (Mean absolute error) - MAE** : Sự chênh lệch trung bình giữa các dự đoán của mô hình với giá trị thực tế. \n",
        "- **Lỗi trung bình bình phương gốc (RMSE)** : Căn bậc hai của trung bình của sự khác biệt bình phương giữa các dự đoán của mô hình của bạn và các con số thực tế.\n",
        "\n",
        "Đối với các bài toán khuyến nghị khó kiểm tra hơn trong thực nghiệm. Một cách để làm như vậy là lấy một phần dữ liệu của bạn và ẩn nó đi. Khi mô hình của bạn được tạo, hãy sử dụng mô hình đó để dự đoán các đề xuất cho dữ liệu ẩn và xem nó sắp xếp như thế nào. Giả sử bạn đang cố gắng giới thiệu sản phẩm cho khách hàng trên cửa hàng trực tuyến của mình. Bạn có dữ liệu mua hàng trước đây từ năm 2010–2021. Bạn có thể xây dựng một mô hình dựa trên dữ liệu 2010–2020 và sau đó sử dụng nó để dự đoán các giao dịch mua năm 2021. Sau đó, nó trở thành vấn đề phân loại vì bạn đang cố gắng phân loại xem ai đó có khả năng mua một mặt hàng hay không.\n",
        "\n",
        "Tuy nhiên, các chỉ số phân loại truyền thống không phải là cách tốt nhất cho các vấn đề về đề xuất.\n",
        "\n",
        "Nếu mô hình học máy của bạn trả lại danh sách 10 đề xuất sẽ được hiển thị cho khách hàng trên trang web của bạn, bạn muốn những đề xuất tốt nhất được hiển thị trước tiên phải không? Nếu thực sự như vậy bạn nên sử dụng : \n",
        "\n",
        "- **Precision @ k (precision up to k)** : Tương tự như độ chính xác thông thường, tuy nhiên, bạn chọn điểm cắt, k. Ví dụ: độ chính xác ở mức 5, có nghĩa là chúng ta chỉ quan tâm đến 5 đề xuất hàng đầu. Bạn có thể có 10.000 sản phẩm. Nhưng bạn không thể giới thiệu tất cả chúng cho khách hàng của mình.\n",
        "\n",
        " \n",
        "\n",
        "\n",
        "\n",
        "\n",
        "\n",
        "\n",
        "\n"
      ]
    },
    {
      "cell_type": "markdown",
      "metadata": {
        "id": "PXpeWVSfBYpu"
      },
      "source": [
        "## 4. Các đặc tính của dữ liệu \n",
        "\n",
        "Không phải tất cả dữ liệu đều giống nhau. Và khi bạn nghe ai đó đề cập đến các đặc tính, họ đang đề cập đến các đặc trưng khác nhau của dữ liệu.\n",
        "\n",
        "Có 2 loại dữ liệu được sử dụng trong học máy : \n",
        "+ **Dữ liệu phân loại (classification)** : Dữ liệu phân loại đại diện cho các đặc điểm. Do đó, nó có thể đại diện cho những thứ như giới tính, ngôn ngữ của một người, v.v. Dữ liệu phân loại cũng có thể nhận các giá trị số (Ví dụ: 1 cho nữ và 0 cho nam). Lưu ý rằng những con số đó không có ý nghĩa toán học.\n",
        "  + **Dữ liệu ẩn danh** : Giá trị danh nghĩa đại diện cho các đơn vị rời rạc và được sử dụng để gắn nhãn các biến không có giá trị định lượng. Chỉ nghĩ về chúng như là “nhãn”. Lưu ý rằng dữ liệu danh nghĩa không có thứ tự. Do đó, nếu bạn thay đổi thứ tự các giá trị của nó, ý nghĩa sẽ không thay đổi. Bạn có thể xem hai ví dụ về các tính năng danh nghĩa bên dưới:\n",
        "  + **Dữ liệu thông thường** : Giá trị thứ tự đại diện cho các đơn vị rời rạc và có thứ tự. Do đó, nó gần giống với dữ liệu danh nghĩa, ngoại trừ vấn đề thứ tự của nó\n",
        "+ **Dữ liệu số** : \n",
        "  + **Dữ liệu rời rạc** : Chúng ta nói về dữ liệu rời rạc nếu các giá trị của nó là khác biệt và riêng biệt. Nói cách khác: Chúng ta nói về dữ liệu rời rạc nếu dữ liệu chỉ có thể nhận một số giá trị nhất định. Loại dữ liệu này **không thể đo được nhưng có thể đếm được**. Về cơ bản, nó đại diện cho thông tin có thể được phân loại thành một phân loại. Một ví dụ là số đầu trong 100 lần tung đồng xu.\n",
        "  + **Dữ liệu liên tục** : Dữ liệu liên tục đại diện cho các phép đo và do đó giá trị của chúng không thể được đếm nhưng có thể đo được . Một ví dụ sẽ là chiều cao của một người, bạn có thể mô tả bằng cách sử dụng các khoảng trên dòng số thực.\n",
        "    + **Dữ liệu khoảng thời gian** : Giá trị khoảng thời gian đại diện cho các đơn vị được sắp xếp có cùng sự khác biệt . Do đó, chúng ta nói về dữ liệu khoảng thời gian khi chúng ta có một biến chứa các giá trị số được sắp xếp theo thứ tự và nơi chúng ta biết sự khác biệt chính xác giữa các giá trị. Một ví dụ sẽ là một đối tượng địa lý có chứa nhiệt độ của một nơi nhất định.\n",
        "  + **Dữ liệu tỷ lệ** : Giá trị tỷ lệ cũng là các đơn vị được sắp xếp có cùng sự khác biệt. Giá trị tỷ lệ giống như giá trị khoảng, với sự khác biệt là chúng có giá trị không tuyệt đối . Ví dụ điển hình là chiều cao, cân nặng, chiều dài, v.v.\n",
        "\n",
        "> Văn bản, hình ảnh, âm thanh... tất cả đều là dữ liệu, chúng có thể được chuyển thành số trước khi thuật toán học máy có thể lập mô hình.\n",
        "\n",
        "\n",
        "\n",
        "\n",
        "\n",
        "\n",
        "\n",
        "\n",
        "\n",
        "\n",
        "\n",
        "\n",
        "\n",
        "\n",
        "\n",
        "\n"
      ]
    },
    {
      "cell_type": "markdown",
      "metadata": {
        "id": "2_XCDZSijX4O"
      },
      "source": [
        "### Tại sao Kiểu dữ liệu lại quan trọng?\n",
        "\n",
        "Kiểu dữ liệu là một khái niệm quan trọng vì các phương pháp thống kê chỉ có thể được sử dụng với một số kiểu dữ liệu nhất định. Bạn phải phân tích dữ liệu liên tục khác với dữ liệu phân loại nếu không sẽ dẫn đến phân tích sai. Do đó, việc biết loại dữ liệu bạn đang xử lý sẽ cho phép bạn chọn phương pháp phân tích chính xác.\n",
        " \n"
      ]
    },
    {
      "cell_type": "markdown",
      "metadata": {
        "id": "rIvc1xusjmLl"
      },
      "source": [
        "## Lập mô hình\n",
        "\n",
        "Quá trình lập mô hình gồm 3 bước : lựa chọn mô hình, cải thiện mô hình và so sánh với những mô hình khác\n"
      ]
    },
    {
      "cell_type": "markdown",
      "metadata": {
        "id": "k_u5Ri1oSBTu"
      },
      "source": [
        "### Lựa chọn mô hình \n",
        "\n",
        "Khi lựa chọn mô hình, bạn cần cân nhắc một số yếu tố sau : \n",
        "+ **Khả năng diễn giải và dễ dàng debug** : - Tại sao một mô hình lại đưa ra quyết định như vậy? Làm thế nào để fix các lỗi ? \n",
        "+ **Lượng dữ liệu** : Cần bao nhiều lượng dữ liệu? Điều này có thay đổi gì đến quá trình train mô hình?\n",
        "+ **Giới hạn đào tạo và dự đoán** : Điều này liên quan đến những điều trên, bạn có bao nhiêu thời gian và nguồn lực để đào tạo và dự đoán?\n",
        "\n",
        "Để giải quyết những vấn đề này, một mô hình hiện đại có thể dễ dàng để đạt được một mục tiêu nào đó. Nhưng nếu nó yêu cầu gấp 10 lần tài nguyên máy tính để đào tạo và thời gian dự đoán dài hơn gấp 5 lần để tăng 2% trong chỉ số đánh giá của bạn, thì đó có thể không phải là lựa chọn tốt nhất.\n",
        "\n",
        "Các mô hình tuyến tính như hồi quy logistic thường dễ hiểu hơn, đào tạo rất nhanh và dự đoán nhanh hơn các mô hình deep learning như neural network.\n",
        "\n",
        "Nhưng có thể dữ liệu của bạn là từ thế giới thực. Dữ liệu từ thế giới thực không phải lúc nào cũng tuyến tính.\n",
        "\n",
        "Tập hợp cây quyết định và các thuật toán tăng cường độ dốc (từ ngữ ưa thích, định nghĩa không quan trọng hiện nay) thường hoạt động tốt nhất trên dữ liệu có cấu trúc, như bảng Excel và khung dữ liệu. Xem thêm random forest, [XGBoost](https://xgboost.ai/) và [CatBoost](https://catboost.ai/).\n",
        "\n",
        "Các mô hình deep learning như neural network thường hoạt động tốt nhất trên dữ liệu phi cấu trúc như hình ảnh, tệp âm thanh và văn bản ngôn ngữ tự nhiên. Tuy nhiên, sự đánh đổi là chúng thường mất nhiều thời gian hơn để đào tạo, khó gỡ lỗi hơn và thời gian dự đoán cũng lâu hơn. Nhưng điều này không có nghĩa là bạn không nên sử dụng chúng.\n",
        "\n",
        "Transfer learning là một cách tiếp cận tận dụng các mô hình deep learning và mô hình tuyến tính. Nó liên quan đến việc lấy một mô hình được đào tạo trước và sử dụng các đặc trưng mà nó đã học được làm input cho mô hình tuyến tính. Điều này giúp tiết kiệm đáng kể thời gian đào tạo và cho phép bạn thử nghiệm nhanh hơn.\n",
        "\n",
        "Các mô hình được đào tạo trước có sẵn trên [PyTorch](https://pytorch.org/hub), [TensorFlow Hub](https://www.tensorflow.org/hub).\n",
        "\n",
        "\n",
        "\n",
        "\n",
        "\n",
        "\n",
        "\n",
        "\n",
        "\n",
        "\n",
        "\n",
        "\n"
      ]
    },
    {
      "cell_type": "markdown",
      "metadata": {
        "id": "dRkHDydIVYo8"
      },
      "source": [
        "### Tinh chỉnh và cải thiện mô hình \n",
        "\n",
        "Kết quả đầu tiên của một mô hình không phải là kết quả cuối cùng. Giống như khi bạn test dàn loa, bạn cần điều chỉnh rất nhiều nút để có thể âm thanh được tốt hơn, các mô hình máy học cũng như vậy, nó có thể được điều chỉnh để cải thiện hiệu suất.\n",
        "\n",
        "Điều chỉnh mô hình liên quan đến việc thay đổi các hyperparameter như tốc độ học tập hoặc trình tối ưu hóa. Hoặc các yếu tố kiến ​​trúc cụ thể theo mô hình như số lượng cây trong random forest hay số lượng layer cho các neural network.\n",
        "\n",
        "Sử dụng mô hình được đào tạo trước thông qua transfer learning để tận dụng các bước này\n",
        "\n",
        "\n",
        "\n",
        "\n"
      ]
    },
    {
      "cell_type": "markdown",
      "metadata": {
        "id": "S-M-vsJmWh58"
      },
      "source": [
        "### So sánh với mô hình khác\n",
        "\n",
        "Cách để cho thấy mô hình nào tốt nhất là chúng ta cần so sánh các chỉ số đo để xác định chính xác khả năng của mỗi mô hình trên cùng 1 tập dữ liệu thử nghiệm. "
      ]
    },
    {
      "cell_type": "markdown",
      "metadata": {
        "id": "t7vmw2h_W66M"
      },
      "source": [
        "## 6. Thử nghiệm\n",
        "\n",
        "Bước này liên quan đến tất cả các bước trên. Vì học máy là một quá trình lặp đi lặp lại nhiều, nên bạn cần đảm bảo rằng các thử nghiệm của mình có thể thực hiện được.\n",
        "\n",
        "Mục tiêu lớn nhất của bạn là giảm thiểu thời gian giữa thử nghiệm ngoại tuyến và thử nghiệm trực tuyến. Thử nghiệm ngoại tuyến là các bước bạn thực hiện khi dự án của bạn chưa giao tiếp với khách hàng. Thử nghiệm trực tuyến xảy ra khi mô hình học máy của bạn đã triển khai thành production và có khách hàng sử dụng. \n",
        "\n",
        "Tất cả các thử nghiệm phải được tiến hành trên các phần khác nhau của dữ liệu của bạn.\n",
        "\n",
        "- **Bộ dữ liệu train** - Sử dụng bộ này để đào tạo mô hình, chiếm 70–80% dữ liệu của bạn là tiêu chuẩn. \n",
        "- **Bộ dữ liệu kiểm định/ phát triển** - Sử dụng bộ này để điều chỉnh mô hình, chiếm 10–15% dữ liệu của bạn là tiêu chuẩn.\n",
        " - **Bộ dữ liệu thử nghiệm** - Sử dụng bộ này để kiểm tra và so sánh mô hình, chiếm 10–15% dữ liệu của bạn là tiêu chuẩn.\n",
        "\n",
        "Những lượng dữ liệu trên có thể dao động một chút, tùy thuộc vào từng vấn đề và lượng dữ liệu bạn có.\n",
        "\n",
        "Nếu Hiệu suất kém trên dữ liệu đào tạo có nghĩa là mô hình đã không học đúng cách. Hãy thử một mô hình khác, cải thiện mô hình hiện có, thu thập nhiều dữ liệu hơn, thu thập dữ liệu tốt hơn.\n",
        "\n",
        "Nếu Hiệu suất kém trên dữ liệu thử nghiệm có nghĩa là mô hình của bạn không có khả năng tổng quát hóa tốt. Nó học quá nhiều dữ liệu đào tạo như là học thuộc lòng nên khi áp dụng dữ liệu chưa từng biết nó trở nên bối rối. Có thể sử dụng mô hình đơn giản hơn hoặc thu thập nhiều dữ liệu hơn.\n",
        "\n",
        " Hiệu suất kém sau khi được triển khai (trong thế giới thực) có nghĩa là có sự khác biệt về những gì bạn đã đào tạo và thử nghiệm mô hình của mình và những gì đang thực sự xảy ra. Xem lại bước 1 & 2. Đảm bảo dữ liệu của bạn khớp với vấn đề bạn đang cố gắng giải quyết. Khi bạn triển khai một thay đổi thử nghiệm lớn, hãy ghi lại nội dung và lý do. Hãy nhớ rằng, giống như điều chỉnh mô hình, một người nào đó, bao gồm cả bản thân bạn trong tương lai, sẽ có thể tái tạo những gì bạn đã làm. Điều này có nghĩa là lưu các mô hình được cập nhật và bộ dữ liệu được cập nhật thường xuyên.\n",
        "\n",
        "\n",
        "\n",
        "\n",
        "\n"
      ]
    },
    {
      "cell_type": "markdown",
      "metadata": {
        "id": "wSPKmcZ3cJCT"
      },
      "source": [
        "## Kết luận\n",
        "\n",
        "Nhiều doanh nghiệp đã nghe nói về học máy nhưng không biết bắt đầu từ đâu. Một trong những cách tốt nhất để bắt đầu là sử dụng sáu bước ở trên để xây dựng mô hình.\n",
        "\n",
        "Không nên được coi các khái niệm này là thứ để thay đổi cách thức hoạt động kinh doanh của bạn mà là một cuộc khám phá xem liệu học máy có thể mang lại giá trị cho doanh nghiệp của bạn hay không.\n",
        "\n",
        "Suy cho cùng, bạn cần quan tâm là giải pháp để tăng giá trị cho hoạt động kinh doanh của mình hơn là theo đuổi xu hướng công nghệ. \n",
        "\n",
        "\n",
        "\n"
      ]
    },
    {
      "cell_type": "markdown",
      "metadata": {
        "id": "6Rs9C38ScKOz"
      },
      "source": [
        "## Những điều mà bài viết không nhắc đến \n",
        "\n",
        "+ **Đó luôn là về dữ liệu.** Nếu không có dữ liệu tốt để bắt đầu, không có mô hình học máy nào sẽ giúp bạn. Nếu bạn muốn sử dụng máy học trong công việc kinh doanh của mình, điều đó bắt đầu bằng việc thu thập dữ liệu tốt.\n",
        "+ **Việc triển khai thay đổi mọi thứ.** Một mô hình ngoại tuyến tốt không phải lúc nào cũng có nghĩa là một mô hình trực tuyến tốt. Bài viết này đã tập trung vào mô hình dữ liệu. Sau khi bạn triển khai một mô hình, sẽ có quản lý cơ sở hạ tầng, xác minh dữ liệu, đào tạo lại mô hình, phân tích và hơn thế nữa. Bất kỳ nhà cung cấp dịch vụ đám mây nào cũng có những services đáp ứng cho những quá trình này nhưng việc kết hợp chúng lại với nhau vẫn là một nghệ thuật.\n",
        "+ **Thu thập dữ liệu và triển khai mô hình là  phần dài nhất của học máy.** Bài viết này chỉ tập trung vào mô hình hóa. Và thậm chí sau đó, nó bỏ lỡ các chi tiết cụ thể về cách chuẩn bị dữ liệu của bạn để được lập mô hình (các phần khác trong repo này đề cập đến điều đó).\n",
        "+ **Các công cụ giao dịch khác nhau. Học máy là một công cụ lớn bao gồm nhiều công cụ khác.** Từ các thư viện và khuôn khổ cho đến các kiến ​​trúc triển khai khác nhau. Thường có một số cách khác nhau để làm điều tương tự. Phương pháp hay nhất liên tục được thay đổi. Tuy nhiên, bài viết này tập trung vào xây dựng mô hình nên sẽ nhất quán một phiên bản.\n",
        "\n",
        "\n",
        "\n",
        "\n",
        "\n",
        "\n"
      ]
    },
    {
      "cell_type": "code",
      "metadata": {
        "id": "73j3TQHCc6ZT"
      },
      "source": [
        ""
      ],
      "execution_count": null,
      "outputs": []
    }
  ]
}