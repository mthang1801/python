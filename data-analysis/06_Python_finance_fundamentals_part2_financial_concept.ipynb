{
  "nbformat": 4,
  "nbformat_minor": 0,
  "metadata": {
    "colab": {
      "name": "Python_finance_fundamental_part2_financial_concept.ipynb",
      "provenance": [],
      "toc_visible": true
    },
    "kernelspec": {
      "name": "python3",
      "display_name": "Python 3"
    },
    "language_info": {
      "name": "python"
    }
  },
  "cells": [
    {
      "cell_type": "markdown",
      "metadata": {
        "id": "cpMq-1YhnDVk"
      },
      "source": [
        "Trong phần trước, chúng ta đã nói về kỹ các kỹ thuật phân bổ danh mục đầu tư. Nó dựa trên tỉ lệ Sharpe tốt nhất (nghĩa là độ biến động sao cho càng thấp càng tốt nhưng lãi suất trung bình phải đảm bảo càng cao càng tốt) để đánh giá được danh mục đó đáp ứng được tiêu chí đầu tư an toàn, hạn chế rủi ro tối đa. Trong phần này, chúng ta sẽ đi sâu vào những lý thuyết cốt lõi về thị trường tài chính, đó là nền tảng cơ bản để bạn có thể hiểu được ý nghĩa của thị trường. \n"
      ]
    },
    {
      "cell_type": "markdown",
      "metadata": {
        "id": "FTM6JSHmoy6o"
      },
      "source": [
        "## Các loại quỹ đầu tư \n",
        "\n",
        "Trên thị trường tài chính, có rất nhiều loại quỹ đầu tư. Nhưng chúng ta sẽ chỉ tập trung một số loại quỹ rất thịnh hành và xuất hiện từ rất lâu : \n",
        "+ Quỹ hoán đổi danh mục (ETF - Exchange traded funds)\n",
        "+ Quỹ tương hỗ (Mutual funds) \n",
        "+ Quỹ phòng hộ (Hedge funds)\n",
        "\n",
        "Chúng ta sẽ so sánh tổng quan về 3 loại quỹ : \n",
        "\n",
        "| Nội dung | Quỹ hoán đổi danh muc | Quỹ tương hỗ | Quỹ phòng hộ | \n",
        "| --- | --- | --- | --- | \n",
        "| Phí đầu tư | 0.01% - 1%/năm | 0.5% - 3%/năm |  phí quản lý vào khoảng 2%/năm và thêm khoảng 20% phí hiệu suất (trích ra từ lợi nhuận kiếm được) |\n",
        "| Tính thanh khoản | Mua/Bán như là cổ phiếu | Mua/Bán vào cuối ngày thông qua nhà môi giới (broker) | Phụ thuộc vào hợp đồng | \n",
        "\n",
        "Chúng ta sẽ đi qua từng loại quỹ đầu tư"
      ]
    },
    {
      "cell_type": "markdown",
      "metadata": {
        "id": "h58Yt8QgpiJz"
      },
      "source": [
        "### Quỹ hoán đổi danh mục (ETF) \n",
        "\n",
        "Quỹ hoán đổi danh mục (ETF, Exchange Traded Fund) là quỹ hoạt động mô phỏng theo sự biến động của một chỉ số tham chiếu, như chỉ số chứng khoán.\n",
        "\n",
        "Quĩ ETF vừa mang đặc điểm của một quĩ đầu tư, vừa mang đặc điểm của một cố phiếu được niêm yết và giao dịch trên sàn chứng khoán.\n",
        "\n",
        "ETFs là chứng chỉ tín thác, cung cấp cho các nhà đầu tư quyền hưởng lợi theo một tỉ lệ nhất định đối với phần vốn và dòng tiền của các chứng khoán được giữ bởi các tổ chức tài chính phát hành chứng chỉ đó. Có nghĩa là, một danh mục chứng khoán được nắm giữ ở một tổ chức tài chính hoặc một quĩ đầu tư uỷ thác, sau đó một chứng chỉ chung sẽ được phát hành đại diện cho quyền sở hữu danh mục. Theo cách này, ETFs tương tự như chứng chỉ Uỷ thác Hoa Kỳ (American depository receipts - ADRs).\n",
        "\n",
        "VD Chứng chỉ uỷ thác Standard & Poor's 500 (Standard & Poor's 500 Depository Receipts - SPDRSs hay đôi lúc còn được gọi là \"Spider\"), một loại chứng chỉ uỷ thác đầu tư dựa trên tất cả các chứng khoán của S&P 500.\n",
        "\n",
        "**Lợi thế :**\n",
        "+ ETF trở thành một hình thức đầu tư phân tán rủi ro tốt và chi phí khá thấp (thường dưới 1%).\n",
        "+ Cơ chế hoạt động của ETF cũng làm cho giá chứng chỉ quĩ thường theo sát giá trị tài sản ròng (NAV), chứ không biến động quá xa như các quĩ tương hỗ\n",
        "+  ETFs có thể mua, bán (và bán khống) giống như các chứng khoán thông thường thông qua một thị trường tập trung hoặc phi tập trung.\n",
        "+ Không phải chi trả những khoản chi phí quản lí, khả năng giao dịch liên tục khi thị trường còn đang mở cửa và khả năng tính toán một cách chính xác các vấn đề liên quan đến thuế của các khoản tăng vốn.\n",
        "\n",
        "**Bất lợi** :\n",
        "+ Chi phí môi giới và việc ETFs không có khả năng tái đầu tư vào cổ tức trừ khi là đầu tư theo quí.\n",
        "\n"
      ]
    },
    {
      "cell_type": "markdown",
      "metadata": {
        "id": "sQwvhUhEsqj3"
      },
      "source": [
        "### Quỹ tương hỗ (Mutual fund) \n",
        "\n",
        "Quỹ tương hỗ (mutual fund) là một loại phương tiện đầu tư tập thể được quản lý chuyên nghiệp mà hồ tiền từ nhiều nhà đầu tư để mua các chứng khoán chẳng hạn như cổ phiếu, trái phiếu, công cụ thị trường tiền tệ và các tài sản tương tự.\n",
        "\n",
        "Các quỹ tương hỗ được điều hành bởi các nhà quản lý tiền tệ, những người đầu tư vốn của quỹ và cố gắng tạo ra lợi nhuận và thu nhập vốn cho các nhà đầu tư của quỹ.\n",
        "\n",
        "Danh mục đầu tư của quỹ tương hỗ được cấu trúc và duy trì để phù hợp với các mục tiêu đầu tư được nêu trong bản cáo bạch của quỹ.\n",
        "\n",
        "Các quỹ tương hỗ tiết lộ các khoản nắm giữ của họ thường mỗi quý một lần, mặc dù điều này có thể khác nhau tùy theo quỹ.\n",
        "\n",
        "**Ưu điểm**: \n",
        "+ Tăng cường đa dạng hóa\n",
        "+ Thanh khoản hàng ngày\n",
        "+ Quản lý đầu tư chuyên nghiệp\n",
        "+ Khả năng tham gia trong các đầu tư mà có thể chỉ dành cho các nhà đầu tư lớn\n",
        "+ Dịch vụ và tiện lợi\n",
        "+ Giám sát Chính phủ \n",
        "+ Dễ so sánh\n",
        "\n",
        "**Nhược điểm**:\n",
        "+ Tốn phí\n",
        "+ Ít kiểm soát thời gian của sự công nhận những lợi ích\n",
        "+ Thu nhập ít dự đoán được\n",
        "+ Không có cơ hội để tùy chỉnh\n",
        "\n",
        "\n"
      ]
    },
    {
      "cell_type": "markdown",
      "metadata": {
        "id": "TMgbL5gtsuxy"
      },
      "source": [
        "### Quỹ phòng hộ \n",
        "\n",
        "Quỹ phòng hộ (Hedge funds) là các quỹ đầu tư tư nhân được quản lý chủ động, họ sử dụng nguồn vốn thu thập được từ các nhà đầu tư rồi đầu tư vào một loạt các thị trường tài chính khác nhau. Các chiến lược mà những quỹ này sử dụng là rất đa dạng. Việc đầu tư vào các quỹ này tương đối khó khăn vì nó đòi hỏi người tham gia là những cá nhân giàu có, các nhà đầu tư chuyên nghiệp.\n",
        "\n",
        "Các quỹ phòng hộ thường yêu cầu các nhà đầu tư giữ tiền đầu tư trong một khoảng thời gian cụ thể, thường là ít nhất một năm. Trong giai đoạn này, các nhà đầu tư không thể rút tiền.\n",
        "\n",
        "Các quỹ phòng hộ cũng thường dùng đòn bẩy để gia tăng lợi nhuận của các khoản đầu tư nhưng đây là một con dao hai lưỡi và đã có rất nhiều quỹ lụi bại vì công cụ này.\n",
        "\n",
        "Cách thức hoạt động của quỹ phòng hộ : \n",
        "+ Các quỹ phòng hộ đầu tư vào hàng loạt các thị trường tài chính. Không giống như các quỹ tương hỗ (Mutual funds) chỉ được phép đầu tư vào trái phiếu và cổ phiếu, các quỹ phòng hộ có thể đầu tư vào tất cả các thị trường tài chính như bất động sản, hàng hóa hoặc forex. \n",
        "+ Chỉ những nhà đầu tư đủ điều kiện mới có thể đầu tư vào các quỹ phòng hộ. Cơ quan quản lý cố gắng bảo vệ các nhà đầu tư thiếu kinh nghiệm hoặc những người không hiểu các rủi ro liên quan đến việc đầu tư vào các quỹ phòng hộ. Do vậy, chỉ những cá nhân có thu nhập ròng hàng năm trên 200.000\\$ (trong 2 năm vừa qua) hoặc các cá nhân có giá trị tài sản ròng trên 1 triệu\\$ mới được phép đầu tư vào quỹ này. ​\n",
        "\n",
        "**Một số lợi ích của quỹ phòng hộ bao gồm**:\n",
        "+ Chiến lược đầu tư có khả năng tạo ra lợi nhuận tích cực ngay cả khi thị trường tăng hoặc giảm\n",
        "+ Các quỹ phòng hộ có danh mục đầu tư cân bằng có thể làm giảm rủi ro và biến động danh mục tổng thể và tăng lợi nhuận\n",
        "+ Nhà quản lý quỹ là những người tài năng nhất thế giới\n",
        "\n",
        "**Tuy nhiên, các quỹ phòng hộ cũng có những rủi ro như**:\n",
        "+ Các quỹ phòng hộ có tính thanh khoản thấp hơn so với các quỹ hỗ tương. Họ thường yêu cầu nhà đầu tư đầu tư tiền trong một khoảng thời gian dài.\n",
        "+ Sử dụng đòn bẩy, hoặc tiền vay có thể tăng đáng kể lợi nhuận nhưng cũng có thể biến một khoản thua lỗ nhỏ thành một khoản thua lỗ lớn.\n",
        "\n",
        "Phần lớn những gì chúng ta làm trong khóa học này bắt chước cách hoạt động của một quỹ phòng hộ. \n",
        "\n",
        "\n",
        "\n",
        "\n"
      ]
    },
    {
      "cell_type": "markdown",
      "metadata": {
        "id": "evmMyLNd1pjA"
      },
      "source": [
        "## Order Book\n",
        "\n",
        "Order Book tạm dịch ra tiếng Việt là bảng giá hay sổ lệnh. Order book là một danh sách điện tử hiển thị các lệnh mua và bán cho một công cụ tài chính hoặc chứng khoán cụ thể được sắp xếp theo mức giá.\n",
        "\n",
        "Order book là một danh sách điện tử hiển thị các lệnh mua và bán cho một công cụ tài chính hoặc chứng khoán cụ thể được sắp xếp theo mức giá. Order Book liệt kê số lượng cổ phiếu đang được chào mua hoặc chào bán tại mỗi bước giá hoặc độ sâu thị trường.\n",
        "\n",
        "Order Book cũng xác định những người tham gia thị trường đằng sau các lệnh mua và bán, mặc dù một số người lựa chọn ẩn danh.\n",
        "\n",
        "Order book được sử dụng bởi hầu hết mọi trao đổi cho các tài sản khác nhau bao gồm cổ phiếu, trái phiếu, tiền tệ và thậm chí cả tiền điện tử như Bitcoin. Mặc dù Order book thường chứa cùng một thông tin, việc thiết lập có thể hơi khác nhau giữa các nguồn hoặc giữa các sàn giao dịch. Thông tin mua và bán có thể xuất hiện ở trên cùng hay dưới cùng, hoặc ở bên trái và bên phải màn hình.\n",
        "\n",
        "**Ý nghĩa**:\n",
        "\n",
        "+ Order Book giúp các nhà giao dịch đưa ra quyết định giao dịch sáng suốt hơn. Họ có thể xem các công ty môi giới nào đang mua hoặc bán cổ phiếu và xác định xem hành động của thị trường đang được thúc đẩy bởi các nhà đầu tư cá nhân hay nhà đầu tư tổ chức.\n",
        "+ Khi Order Book cho thấy sự mất cân bằng, điều đó có thể cung cấp manh mối cho xu hướng cổ phiếu trong ngắn hạn. Ví dụ, sự mất cân đối lớn của các lệnh mua so với các lệnh bán có thể cho thấy sự tăng giá của cổ phiếu do áp lực mua\n",
        "\n",
        "\n"
      ]
    },
    {
      "cell_type": "markdown",
      "metadata": {
        "id": "HqoRHx_b3pqG"
      },
      "source": [
        "## Bán khống (Short Selling)\n",
        "\n",
        "Bán khống trong tài chính là một cách kiếm lời dựa vào việc bán một tài sản mà người bán tin rằng giá của tài sản đó sẽ giảm trong tương lai gần. Bán khống trong giao dịch chứng khoán là bán những cổ phiếu mà người bán không thực sự sở hữu mà chỉ vay những cổ phiếu này và đồng ý trả tiền cho những cổ phiếu đó vào một thời điểm trong tương lai.\n",
        "\n",
        "Khi thực hiện bán khống chứng khoán, người bán hi vọng giá của những cổ phiếu đó sẽ giảm trong tương lai ở thời điểm người bán phải trả tiền cho chúng. Lợi nhuận người bán nhận được chính là khoản chênh lệch giá giữa hai lần bán và mua.\n",
        "\n",
        "Trên thực tế, người vay mượn chứng khoán để bán khống không thể đặt lệnh bán trực tiếp mà phải nhờ người cho vay bán dùm bởi sở hữu chứng khoán vẫn là người đang cho vay.\n",
        "\n",
        "Bán khống là một hình thức kiếm lợi nhuận với những rủi ro cơ bản dễ nhận biết. Rủi ro lớn nhất trong bán khống là khi người bán dự đoán sai biến đổi về giá của cổ phiếu. Người bán tham gia bán khống với hy vọng kiếm được lợi nhuận khi giá cổ phiếu sẽ giảm trong thời gian bán khống. Ngược lại nếu giá cổ phiếu tăng, người bán sẽ chịu lỗ bằng giá trị tăng thêm của cổ phiếu.\n",
        "\n"
      ]
    },
    {
      "cell_type": "code",
      "metadata": {
        "id": "QlGFaWLsBEzt"
      },
      "source": [
        ""
      ],
      "execution_count": null,
      "outputs": []
    }
  ]
}