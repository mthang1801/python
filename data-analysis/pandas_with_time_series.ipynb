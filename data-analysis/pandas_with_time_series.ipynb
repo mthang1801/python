{
  "nbformat": 4,
  "nbformat_minor": 0,
  "metadata": {
    "colab": {
      "name": "pandas_with_time_series.ipynb",
      "provenance": []
    },
    "kernelspec": {
      "name": "python3",
      "display_name": "Python 3"
    },
    "language_info": {
      "name": "python"
    }
  },
  "cells": [
    {
      "cell_type": "markdown",
      "metadata": {
        "id": "bk9W35fGa9CN"
      },
      "source": [
        "## DatetimeIndex \n",
        "\n",
        "Thông thường, bạn sẽ xử lý chuỗi thời gian dưới dạng index khi làm việc với pandas DataFrame từ một số API tài chính. May mắn thay, `pandas` có rất nhiều tính năng và phương pháp để làm việc với chuỗi thời gian!\n",
        "\n"
      ]
    },
    {
      "cell_type": "code",
      "metadata": {
        "id": "16ddEurxfbUt"
      },
      "source": [
        "import pandas as pd \n",
        "import numpy as np \n",
        "import matplotlib.pyplot as plt\n",
        "import datetime "
      ],
      "execution_count": null,
      "outputs": []
    },
    {
      "cell_type": "code",
      "metadata": {
        "id": "Cdzo6JXVfdYe"
      },
      "source": [
        "YEAR = 2021 \n",
        "MONTH = 10 \n",
        "DAY = 1 \n",
        "HOUR = 10 \n",
        "MINUTE = 35 \n",
        "SECOND = 10"
      ],
      "execution_count": null,
      "outputs": []
    },
    {
      "cell_type": "code",
      "metadata": {
        "colab": {
          "base_uri": "https://localhost:8080/"
        },
        "id": "p7H1BwJRfsAk",
        "outputId": "f4a41ca6-1ac5-4fbe-829c-fd31d8b60682"
      },
      "source": [
        "# Tạo một danh sách / mảng gồm 30 phần tử là ngày giờ mẫu\n",
        "dates = pd.date_range(datetime.datetime(YEAR,MONTH, DAY), periods=30, freq=\"D\")\n",
        "dates"
      ],
      "execution_count": null,
      "outputs": [
        {
          "output_type": "execute_result",
          "data": {
            "text/plain": [
              "DatetimeIndex(['2021-10-01', '2021-10-02', '2021-10-03', '2021-10-04',\n",
              "               '2021-10-05', '2021-10-06', '2021-10-07', '2021-10-08',\n",
              "               '2021-10-09', '2021-10-10', '2021-10-11', '2021-10-12',\n",
              "               '2021-10-13', '2021-10-14', '2021-10-15', '2021-10-16',\n",
              "               '2021-10-17', '2021-10-18', '2021-10-19', '2021-10-20',\n",
              "               '2021-10-21', '2021-10-22', '2021-10-23', '2021-10-24',\n",
              "               '2021-10-25', '2021-10-26', '2021-10-27', '2021-10-28',\n",
              "               '2021-10-29', '2021-10-30'],\n",
              "              dtype='datetime64[ns]', freq='D')"
            ]
          },
          "metadata": {},
          "execution_count": 87
        }
      ]
    },
    {
      "cell_type": "code",
      "metadata": {
        "colab": {
          "base_uri": "https://localhost:8080/"
        },
        "id": "qpdf2Riigllv",
        "outputId": "e1fdd9d4-c258-421b-fca9-773464318dd7"
      },
      "source": [
        "# Chuyển thành index\n",
        "idx = pd.DatetimeIndex(dates)\n",
        "idx"
      ],
      "execution_count": null,
      "outputs": [
        {
          "output_type": "execute_result",
          "data": {
            "text/plain": [
              "DatetimeIndex(['2021-10-01', '2021-10-02', '2021-10-03', '2021-10-04',\n",
              "               '2021-10-05', '2021-10-06', '2021-10-07', '2021-10-08',\n",
              "               '2021-10-09', '2021-10-10', '2021-10-11', '2021-10-12',\n",
              "               '2021-10-13', '2021-10-14', '2021-10-15', '2021-10-16',\n",
              "               '2021-10-17', '2021-10-18', '2021-10-19', '2021-10-20',\n",
              "               '2021-10-21', '2021-10-22', '2021-10-23', '2021-10-24',\n",
              "               '2021-10-25', '2021-10-26', '2021-10-27', '2021-10-28',\n",
              "               '2021-10-29', '2021-10-30'],\n",
              "              dtype='datetime64[ns]', freq='D')"
            ]
          },
          "metadata": {},
          "execution_count": 88
        }
      ]
    },
    {
      "cell_type": "code",
      "metadata": {
        "colab": {
          "base_uri": "https://localhost:8080/"
        },
        "id": "O_B-Xx0og4Tg",
        "outputId": "0dad598c-9da0-44db-ef18-9e150073d1bf"
      },
      "source": [
        "# Tạo dữ liệu và gắn index thành DataFrame\n",
        "data = np.random.randn(30,2)\n",
        "data"
      ],
      "execution_count": null,
      "outputs": [
        {
          "output_type": "execute_result",
          "data": {
            "text/plain": [
              "array([[ 0.36361336, -1.73971483],\n",
              "       [-0.19858113,  0.98319856],\n",
              "       [ 1.07195601,  0.9949728 ],\n",
              "       [ 0.79369679, -0.97748573],\n",
              "       [-0.13236322,  0.94084078],\n",
              "       [-1.51452298,  0.61353132],\n",
              "       [ 1.2805291 , -3.53867713],\n",
              "       [ 0.13547449, -2.21481574],\n",
              "       [-0.16058487, -0.2040426 ],\n",
              "       [-1.02095091, -0.44295418],\n",
              "       [-0.70132525, -0.77882398],\n",
              "       [ 0.77995298,  0.24559178],\n",
              "       [ 1.09092537,  1.10077735],\n",
              "       [-1.78511947, -0.44975245],\n",
              "       [ 2.63377598,  0.13736559],\n",
              "       [-0.94880457,  1.51749947],\n",
              "       [-0.19740421, -1.88900656],\n",
              "       [-1.79564129, -0.0587545 ],\n",
              "       [-0.95856506,  0.15447706],\n",
              "       [ 0.08707046, -0.03401143],\n",
              "       [ 0.2174337 ,  0.37712608],\n",
              "       [-0.42433548, -0.19073314],\n",
              "       [ 0.62383668,  0.43810171],\n",
              "       [-1.77792598, -1.32660949],\n",
              "       [-0.90466078, -1.02162894],\n",
              "       [ 0.07649843,  0.1167422 ],\n",
              "       [ 0.62693314, -1.17409432],\n",
              "       [-1.14619047, -0.89343662],\n",
              "       [ 0.91807994,  0.69108624],\n",
              "       [-0.10418072, -0.84473524]])"
            ]
          },
          "metadata": {},
          "execution_count": 89
        }
      ]
    },
    {
      "cell_type": "code",
      "metadata": {
        "colab": {
          "base_uri": "https://localhost:8080/",
          "height": 979
        },
        "id": "iS5UDq-xhCGv",
        "outputId": "fe2f7042-5c49-4ec8-db6b-336999fdb405"
      },
      "source": [
        "df = pd.DataFrame(data, index=idx, columns=[\"A\",\"B\"])\n",
        "df"
      ],
      "execution_count": null,
      "outputs": [
        {
          "output_type": "execute_result",
          "data": {
            "text/html": [
              "<div>\n",
              "<style scoped>\n",
              "    .dataframe tbody tr th:only-of-type {\n",
              "        vertical-align: middle;\n",
              "    }\n",
              "\n",
              "    .dataframe tbody tr th {\n",
              "        vertical-align: top;\n",
              "    }\n",
              "\n",
              "    .dataframe thead th {\n",
              "        text-align: right;\n",
              "    }\n",
              "</style>\n",
              "<table border=\"1\" class=\"dataframe\">\n",
              "  <thead>\n",
              "    <tr style=\"text-align: right;\">\n",
              "      <th></th>\n",
              "      <th>A</th>\n",
              "      <th>B</th>\n",
              "    </tr>\n",
              "  </thead>\n",
              "  <tbody>\n",
              "    <tr>\n",
              "      <th>2021-10-01</th>\n",
              "      <td>0.363613</td>\n",
              "      <td>-1.739715</td>\n",
              "    </tr>\n",
              "    <tr>\n",
              "      <th>2021-10-02</th>\n",
              "      <td>-0.198581</td>\n",
              "      <td>0.983199</td>\n",
              "    </tr>\n",
              "    <tr>\n",
              "      <th>2021-10-03</th>\n",
              "      <td>1.071956</td>\n",
              "      <td>0.994973</td>\n",
              "    </tr>\n",
              "    <tr>\n",
              "      <th>2021-10-04</th>\n",
              "      <td>0.793697</td>\n",
              "      <td>-0.977486</td>\n",
              "    </tr>\n",
              "    <tr>\n",
              "      <th>2021-10-05</th>\n",
              "      <td>-0.132363</td>\n",
              "      <td>0.940841</td>\n",
              "    </tr>\n",
              "    <tr>\n",
              "      <th>2021-10-06</th>\n",
              "      <td>-1.514523</td>\n",
              "      <td>0.613531</td>\n",
              "    </tr>\n",
              "    <tr>\n",
              "      <th>2021-10-07</th>\n",
              "      <td>1.280529</td>\n",
              "      <td>-3.538677</td>\n",
              "    </tr>\n",
              "    <tr>\n",
              "      <th>2021-10-08</th>\n",
              "      <td>0.135474</td>\n",
              "      <td>-2.214816</td>\n",
              "    </tr>\n",
              "    <tr>\n",
              "      <th>2021-10-09</th>\n",
              "      <td>-0.160585</td>\n",
              "      <td>-0.204043</td>\n",
              "    </tr>\n",
              "    <tr>\n",
              "      <th>2021-10-10</th>\n",
              "      <td>-1.020951</td>\n",
              "      <td>-0.442954</td>\n",
              "    </tr>\n",
              "    <tr>\n",
              "      <th>2021-10-11</th>\n",
              "      <td>-0.701325</td>\n",
              "      <td>-0.778824</td>\n",
              "    </tr>\n",
              "    <tr>\n",
              "      <th>2021-10-12</th>\n",
              "      <td>0.779953</td>\n",
              "      <td>0.245592</td>\n",
              "    </tr>\n",
              "    <tr>\n",
              "      <th>2021-10-13</th>\n",
              "      <td>1.090925</td>\n",
              "      <td>1.100777</td>\n",
              "    </tr>\n",
              "    <tr>\n",
              "      <th>2021-10-14</th>\n",
              "      <td>-1.785119</td>\n",
              "      <td>-0.449752</td>\n",
              "    </tr>\n",
              "    <tr>\n",
              "      <th>2021-10-15</th>\n",
              "      <td>2.633776</td>\n",
              "      <td>0.137366</td>\n",
              "    </tr>\n",
              "    <tr>\n",
              "      <th>2021-10-16</th>\n",
              "      <td>-0.948805</td>\n",
              "      <td>1.517499</td>\n",
              "    </tr>\n",
              "    <tr>\n",
              "      <th>2021-10-17</th>\n",
              "      <td>-0.197404</td>\n",
              "      <td>-1.889007</td>\n",
              "    </tr>\n",
              "    <tr>\n",
              "      <th>2021-10-18</th>\n",
              "      <td>-1.795641</td>\n",
              "      <td>-0.058755</td>\n",
              "    </tr>\n",
              "    <tr>\n",
              "      <th>2021-10-19</th>\n",
              "      <td>-0.958565</td>\n",
              "      <td>0.154477</td>\n",
              "    </tr>\n",
              "    <tr>\n",
              "      <th>2021-10-20</th>\n",
              "      <td>0.087070</td>\n",
              "      <td>-0.034011</td>\n",
              "    </tr>\n",
              "    <tr>\n",
              "      <th>2021-10-21</th>\n",
              "      <td>0.217434</td>\n",
              "      <td>0.377126</td>\n",
              "    </tr>\n",
              "    <tr>\n",
              "      <th>2021-10-22</th>\n",
              "      <td>-0.424335</td>\n",
              "      <td>-0.190733</td>\n",
              "    </tr>\n",
              "    <tr>\n",
              "      <th>2021-10-23</th>\n",
              "      <td>0.623837</td>\n",
              "      <td>0.438102</td>\n",
              "    </tr>\n",
              "    <tr>\n",
              "      <th>2021-10-24</th>\n",
              "      <td>-1.777926</td>\n",
              "      <td>-1.326609</td>\n",
              "    </tr>\n",
              "    <tr>\n",
              "      <th>2021-10-25</th>\n",
              "      <td>-0.904661</td>\n",
              "      <td>-1.021629</td>\n",
              "    </tr>\n",
              "    <tr>\n",
              "      <th>2021-10-26</th>\n",
              "      <td>0.076498</td>\n",
              "      <td>0.116742</td>\n",
              "    </tr>\n",
              "    <tr>\n",
              "      <th>2021-10-27</th>\n",
              "      <td>0.626933</td>\n",
              "      <td>-1.174094</td>\n",
              "    </tr>\n",
              "    <tr>\n",
              "      <th>2021-10-28</th>\n",
              "      <td>-1.146190</td>\n",
              "      <td>-0.893437</td>\n",
              "    </tr>\n",
              "    <tr>\n",
              "      <th>2021-10-29</th>\n",
              "      <td>0.918080</td>\n",
              "      <td>0.691086</td>\n",
              "    </tr>\n",
              "    <tr>\n",
              "      <th>2021-10-30</th>\n",
              "      <td>-0.104181</td>\n",
              "      <td>-0.844735</td>\n",
              "    </tr>\n",
              "  </tbody>\n",
              "</table>\n",
              "</div>"
            ],
            "text/plain": [
              "                   A         B\n",
              "2021-10-01  0.363613 -1.739715\n",
              "2021-10-02 -0.198581  0.983199\n",
              "2021-10-03  1.071956  0.994973\n",
              "2021-10-04  0.793697 -0.977486\n",
              "2021-10-05 -0.132363  0.940841\n",
              "2021-10-06 -1.514523  0.613531\n",
              "2021-10-07  1.280529 -3.538677\n",
              "2021-10-08  0.135474 -2.214816\n",
              "2021-10-09 -0.160585 -0.204043\n",
              "2021-10-10 -1.020951 -0.442954\n",
              "2021-10-11 -0.701325 -0.778824\n",
              "2021-10-12  0.779953  0.245592\n",
              "2021-10-13  1.090925  1.100777\n",
              "2021-10-14 -1.785119 -0.449752\n",
              "2021-10-15  2.633776  0.137366\n",
              "2021-10-16 -0.948805  1.517499\n",
              "2021-10-17 -0.197404 -1.889007\n",
              "2021-10-18 -1.795641 -0.058755\n",
              "2021-10-19 -0.958565  0.154477\n",
              "2021-10-20  0.087070 -0.034011\n",
              "2021-10-21  0.217434  0.377126\n",
              "2021-10-22 -0.424335 -0.190733\n",
              "2021-10-23  0.623837  0.438102\n",
              "2021-10-24 -1.777926 -1.326609\n",
              "2021-10-25 -0.904661 -1.021629\n",
              "2021-10-26  0.076498  0.116742\n",
              "2021-10-27  0.626933 -1.174094\n",
              "2021-10-28 -1.146190 -0.893437\n",
              "2021-10-29  0.918080  0.691086\n",
              "2021-10-30 -0.104181 -0.844735"
            ]
          },
          "metadata": {},
          "execution_count": 90
        }
      ]
    },
    {
      "cell_type": "code",
      "metadata": {
        "colab": {
          "base_uri": "https://localhost:8080/"
        },
        "id": "wFp8rxlrhIpV",
        "outputId": "d717dc93-8b8c-4aba-d11f-9538d748106e"
      },
      "source": [
        "df.index"
      ],
      "execution_count": null,
      "outputs": [
        {
          "output_type": "execute_result",
          "data": {
            "text/plain": [
              "DatetimeIndex(['2021-10-01', '2021-10-02', '2021-10-03', '2021-10-04',\n",
              "               '2021-10-05', '2021-10-06', '2021-10-07', '2021-10-08',\n",
              "               '2021-10-09', '2021-10-10', '2021-10-11', '2021-10-12',\n",
              "               '2021-10-13', '2021-10-14', '2021-10-15', '2021-10-16',\n",
              "               '2021-10-17', '2021-10-18', '2021-10-19', '2021-10-20',\n",
              "               '2021-10-21', '2021-10-22', '2021-10-23', '2021-10-24',\n",
              "               '2021-10-25', '2021-10-26', '2021-10-27', '2021-10-28',\n",
              "               '2021-10-29', '2021-10-30'],\n",
              "              dtype='datetime64[ns]', freq='D')"
            ]
          },
          "metadata": {},
          "execution_count": 91
        }
      ]
    },
    {
      "cell_type": "code",
      "metadata": {
        "id": "HSIOTOk7hVUn",
        "colab": {
          "base_uri": "https://localhost:8080/"
        },
        "outputId": "833e2a3b-d2d2-482e-ee98-2f42aa25f8c8"
      },
      "source": [
        "# Vị trí index có ngày lớn nhất\n",
        "df.index.argmax()"
      ],
      "execution_count": null,
      "outputs": [
        {
          "output_type": "execute_result",
          "data": {
            "text/plain": [
              "29"
            ]
          },
          "metadata": {},
          "execution_count": 92
        }
      ]
    },
    {
      "cell_type": "code",
      "metadata": {
        "colab": {
          "base_uri": "https://localhost:8080/"
        },
        "id": "USlke4SxhYd5",
        "outputId": "ad09f78e-7a25-42a8-eb43-211accabdfbd"
      },
      "source": [
        "df.index.max()"
      ],
      "execution_count": null,
      "outputs": [
        {
          "output_type": "execute_result",
          "data": {
            "text/plain": [
              "Timestamp('2021-10-30 00:00:00', freq='D')"
            ]
          },
          "metadata": {},
          "execution_count": 93
        }
      ]
    },
    {
      "cell_type": "code",
      "metadata": {
        "colab": {
          "base_uri": "https://localhost:8080/"
        },
        "id": "D-SEgMGxhe0-",
        "outputId": "7fcb2a8e-316a-4056-d317-3a117d8f1f61"
      },
      "source": [
        "# Vị trí index có ngày sớm nhất\n",
        "df.index.argmin()"
      ],
      "execution_count": null,
      "outputs": [
        {
          "output_type": "execute_result",
          "data": {
            "text/plain": [
              "0"
            ]
          },
          "metadata": {},
          "execution_count": 94
        }
      ]
    },
    {
      "cell_type": "code",
      "metadata": {
        "colab": {
          "base_uri": "https://localhost:8080/"
        },
        "id": "HhMpD-eOhlnz",
        "outputId": "6d40aff9-634e-4f7c-e573-0f19233791e1"
      },
      "source": [
        "df.index.min()"
      ],
      "execution_count": null,
      "outputs": [
        {
          "output_type": "execute_result",
          "data": {
            "text/plain": [
              "Timestamp('2021-10-01 00:00:00', freq='D')"
            ]
          },
          "metadata": {},
          "execution_count": 95
        }
      ]
    },
    {
      "cell_type": "markdown",
      "metadata": {
        "id": "vcTORcu2hooF"
      },
      "source": [
        "## Dịch chuyển thời gian (Time Shifting)\n",
        "\n",
        "Đôi khi bạn có thể cần phải chuyển tất cả dữ liệu của mình lên hoặc xuống dọc theo index chuỗi thời gian. Trên thực tế, rất nhiều phương pháp có sẵn trong `pandas` thực hiện được điều này.\n"
      ]
    },
    {
      "cell_type": "code",
      "metadata": {
        "colab": {
          "base_uri": "https://localhost:8080/"
        },
        "id": "PQ8dQ3tmiqtT",
        "outputId": "bdebaac4-f6d7-4d47-84ab-020d2a43fc21"
      },
      "source": [
        "!wget https://www.dropbox.com/s/wclru5a6pm2njac/GOOG.csv"
      ],
      "execution_count": null,
      "outputs": [
        {
          "output_type": "stream",
          "name": "stdout",
          "text": [
            "--2021-10-02 04:00:54--  https://www.dropbox.com/s/wclru5a6pm2njac/GOOG.csv\n",
            "Resolving www.dropbox.com (www.dropbox.com)... 162.125.2.18, 2620:100:6027:18::a27d:4812\n",
            "Connecting to www.dropbox.com (www.dropbox.com)|162.125.2.18|:443... connected.\n",
            "HTTP request sent, awaiting response... 301 Moved Permanently\n",
            "Location: /s/raw/wclru5a6pm2njac/GOOG.csv [following]\n",
            "--2021-10-02 04:00:54--  https://www.dropbox.com/s/raw/wclru5a6pm2njac/GOOG.csv\n",
            "Reusing existing connection to www.dropbox.com:443.\n",
            "HTTP request sent, awaiting response... 302 Found\n",
            "Location: https://uc1405b057aa115ffc4c792f536d.dl.dropboxusercontent.com/cd/0/inline/BXPP_TYSrAv1F7AQ93yi708xYWi03MGf7jTTId91iobf9H4EYf77Uy-dWpHRwpBEW72LpGvmxVTzv9OpVD6c58DJDqcJM24hHxT37ggJSdN3Y5562UJ0kaqKRB5kPV7XywX3Md1Nv4N9a7RYKBuSdBB0/file# [following]\n",
            "--2021-10-02 04:00:55--  https://uc1405b057aa115ffc4c792f536d.dl.dropboxusercontent.com/cd/0/inline/BXPP_TYSrAv1F7AQ93yi708xYWi03MGf7jTTId91iobf9H4EYf77Uy-dWpHRwpBEW72LpGvmxVTzv9OpVD6c58DJDqcJM24hHxT37ggJSdN3Y5562UJ0kaqKRB5kPV7XywX3Md1Nv4N9a7RYKBuSdBB0/file\n",
            "Resolving uc1405b057aa115ffc4c792f536d.dl.dropboxusercontent.com (uc1405b057aa115ffc4c792f536d.dl.dropboxusercontent.com)... 162.125.66.15, 2620:100:6017:15::a27d:20f\n",
            "Connecting to uc1405b057aa115ffc4c792f536d.dl.dropboxusercontent.com (uc1405b057aa115ffc4c792f536d.dl.dropboxusercontent.com)|162.125.66.15|:443... connected.\n",
            "HTTP request sent, awaiting response... 200 OK\n",
            "Length: 185739 (181K) [text/plain]\n",
            "Saving to: ‘GOOG.csv.1’\n",
            "\n",
            "GOOG.csv.1          100%[===================>] 181.39K   355KB/s    in 0.5s    \n",
            "\n",
            "2021-10-02 04:00:57 (355 KB/s) - ‘GOOG.csv.1’ saved [185739/185739]\n",
            "\n"
          ]
        }
      ]
    },
    {
      "cell_type": "code",
      "metadata": {
        "id": "0eLHWnAUixxI"
      },
      "source": [
        "google = pd.read_csv(\"GOOG.csv\")"
      ],
      "execution_count": null,
      "outputs": []
    },
    {
      "cell_type": "code",
      "metadata": {
        "id": "dBXQDT8oi1BO"
      },
      "source": [
        "# CHuyển cột Date thành index\n",
        "google[\"Date\"] = pd.to_datetime(google[\"Date\"])\n",
        "google.set_index(\"Date\", inplace=True)\n"
      ],
      "execution_count": null,
      "outputs": []
    },
    {
      "cell_type": "code",
      "metadata": {
        "colab": {
          "base_uri": "https://localhost:8080/",
          "height": 235
        },
        "id": "rxkOZZlOjI00",
        "outputId": "5b30fe92-9780-48b1-a61a-70a55591927e"
      },
      "source": [
        "google.head()"
      ],
      "execution_count": null,
      "outputs": [
        {
          "output_type": "execute_result",
          "data": {
            "text/html": [
              "<div>\n",
              "<style scoped>\n",
              "    .dataframe tbody tr th:only-of-type {\n",
              "        vertical-align: middle;\n",
              "    }\n",
              "\n",
              "    .dataframe tbody tr th {\n",
              "        vertical-align: top;\n",
              "    }\n",
              "\n",
              "    .dataframe thead th {\n",
              "        text-align: right;\n",
              "    }\n",
              "</style>\n",
              "<table border=\"1\" class=\"dataframe\">\n",
              "  <thead>\n",
              "    <tr style=\"text-align: right;\">\n",
              "      <th></th>\n",
              "      <th>Open</th>\n",
              "      <th>High</th>\n",
              "      <th>Low</th>\n",
              "      <th>Close</th>\n",
              "      <th>Adj Close</th>\n",
              "      <th>Volume</th>\n",
              "    </tr>\n",
              "    <tr>\n",
              "      <th>Date</th>\n",
              "      <th></th>\n",
              "      <th></th>\n",
              "      <th></th>\n",
              "      <th></th>\n",
              "      <th></th>\n",
              "      <th></th>\n",
              "    </tr>\n",
              "  </thead>\n",
              "  <tbody>\n",
              "    <tr>\n",
              "      <th>2012-01-03</th>\n",
              "      <td>325.250885</td>\n",
              "      <td>332.827484</td>\n",
              "      <td>324.966949</td>\n",
              "      <td>331.462585</td>\n",
              "      <td>331.462585</td>\n",
              "      <td>7380561</td>\n",
              "    </tr>\n",
              "    <tr>\n",
              "      <th>2012-01-04</th>\n",
              "      <td>331.273315</td>\n",
              "      <td>333.873566</td>\n",
              "      <td>329.076538</td>\n",
              "      <td>332.892242</td>\n",
              "      <td>332.892242</td>\n",
              "      <td>5749470</td>\n",
              "    </tr>\n",
              "    <tr>\n",
              "      <th>2012-01-05</th>\n",
              "      <td>329.828735</td>\n",
              "      <td>330.745270</td>\n",
              "      <td>326.889740</td>\n",
              "      <td>328.274536</td>\n",
              "      <td>328.274536</td>\n",
              "      <td>6590410</td>\n",
              "    </tr>\n",
              "    <tr>\n",
              "      <th>2012-01-06</th>\n",
              "      <td>328.344299</td>\n",
              "      <td>328.767700</td>\n",
              "      <td>323.681763</td>\n",
              "      <td>323.796326</td>\n",
              "      <td>323.796326</td>\n",
              "      <td>5405987</td>\n",
              "    </tr>\n",
              "    <tr>\n",
              "      <th>2012-01-09</th>\n",
              "      <td>322.042908</td>\n",
              "      <td>322.291962</td>\n",
              "      <td>309.455078</td>\n",
              "      <td>310.067780</td>\n",
              "      <td>310.067780</td>\n",
              "      <td>11688849</td>\n",
              "    </tr>\n",
              "  </tbody>\n",
              "</table>\n",
              "</div>"
            ],
            "text/plain": [
              "                  Open        High  ...   Adj Close    Volume\n",
              "Date                                ...                      \n",
              "2012-01-03  325.250885  332.827484  ...  331.462585   7380561\n",
              "2012-01-04  331.273315  333.873566  ...  332.892242   5749470\n",
              "2012-01-05  329.828735  330.745270  ...  328.274536   6590410\n",
              "2012-01-06  328.344299  328.767700  ...  323.796326   5405987\n",
              "2012-01-09  322.042908  322.291962  ...  310.067780  11688849\n",
              "\n",
              "[5 rows x 6 columns]"
            ]
          },
          "metadata": {},
          "execution_count": 99
        }
      ]
    },
    {
      "cell_type": "code",
      "metadata": {
        "colab": {
          "base_uri": "https://localhost:8080/",
          "height": 235
        },
        "id": "NKELjDLxkRz0",
        "outputId": "fe9c4719-8d27-4382-bd56-29fc1643fa54"
      },
      "source": [
        "google.tail()"
      ],
      "execution_count": null,
      "outputs": [
        {
          "output_type": "execute_result",
          "data": {
            "text/html": [
              "<div>\n",
              "<style scoped>\n",
              "    .dataframe tbody tr th:only-of-type {\n",
              "        vertical-align: middle;\n",
              "    }\n",
              "\n",
              "    .dataframe tbody tr th {\n",
              "        vertical-align: top;\n",
              "    }\n",
              "\n",
              "    .dataframe thead th {\n",
              "        text-align: right;\n",
              "    }\n",
              "</style>\n",
              "<table border=\"1\" class=\"dataframe\">\n",
              "  <thead>\n",
              "    <tr style=\"text-align: right;\">\n",
              "      <th></th>\n",
              "      <th>Open</th>\n",
              "      <th>High</th>\n",
              "      <th>Low</th>\n",
              "      <th>Close</th>\n",
              "      <th>Adj Close</th>\n",
              "      <th>Volume</th>\n",
              "    </tr>\n",
              "    <tr>\n",
              "      <th>Date</th>\n",
              "      <th></th>\n",
              "      <th></th>\n",
              "      <th></th>\n",
              "      <th></th>\n",
              "      <th></th>\n",
              "      <th></th>\n",
              "    </tr>\n",
              "  </thead>\n",
              "  <tbody>\n",
              "    <tr>\n",
              "      <th>2021-09-15</th>\n",
              "      <td>2875.179932</td>\n",
              "      <td>2911.629883</td>\n",
              "      <td>2845.120117</td>\n",
              "      <td>2904.120117</td>\n",
              "      <td>2904.120117</td>\n",
              "      <td>1032400</td>\n",
              "    </tr>\n",
              "    <tr>\n",
              "      <th>2021-09-16</th>\n",
              "      <td>2902.419922</td>\n",
              "      <td>2904.000000</td>\n",
              "      <td>2868.326904</td>\n",
              "      <td>2887.469971</td>\n",
              "      <td>2887.469971</td>\n",
              "      <td>1014600</td>\n",
              "    </tr>\n",
              "    <tr>\n",
              "      <th>2021-09-17</th>\n",
              "      <td>2875.969971</td>\n",
              "      <td>2884.989990</td>\n",
              "      <td>2821.229980</td>\n",
              "      <td>2829.270020</td>\n",
              "      <td>2829.270020</td>\n",
              "      <td>2929500</td>\n",
              "    </tr>\n",
              "    <tr>\n",
              "      <th>2021-09-20</th>\n",
              "      <td>2780.003906</td>\n",
              "      <td>2787.250000</td>\n",
              "      <td>2741.060059</td>\n",
              "      <td>2780.340088</td>\n",
              "      <td>2780.340088</td>\n",
              "      <td>1745900</td>\n",
              "    </tr>\n",
              "    <tr>\n",
              "      <th>2021-09-21</th>\n",
              "      <td>2802.340088</td>\n",
              "      <td>2816.231934</td>\n",
              "      <td>2778.110107</td>\n",
              "      <td>2792.929932</td>\n",
              "      <td>2792.929932</td>\n",
              "      <td>906100</td>\n",
              "    </tr>\n",
              "  </tbody>\n",
              "</table>\n",
              "</div>"
            ],
            "text/plain": [
              "                   Open         High  ...    Adj Close   Volume\n",
              "Date                                  ...                      \n",
              "2021-09-15  2875.179932  2911.629883  ...  2904.120117  1032400\n",
              "2021-09-16  2902.419922  2904.000000  ...  2887.469971  1014600\n",
              "2021-09-17  2875.969971  2884.989990  ...  2829.270020  2929500\n",
              "2021-09-20  2780.003906  2787.250000  ...  2780.340088  1745900\n",
              "2021-09-21  2802.340088  2816.231934  ...  2792.929932   906100\n",
              "\n",
              "[5 rows x 6 columns]"
            ]
          },
          "metadata": {},
          "execution_count": 100
        }
      ]
    },
    {
      "cell_type": "markdown",
      "metadata": {
        "id": "IwvtZzE8kWSI"
      },
      "source": [
        "### .shift() tới"
      ]
    },
    {
      "cell_type": "code",
      "metadata": {
        "colab": {
          "base_uri": "https://localhost:8080/",
          "height": 235
        },
        "id": "T5h0ZzlXkYSS",
        "outputId": "cb0b40af-6459-4e12-9cf7-e186f60183f4"
      },
      "source": [
        "google.shift(1).head()"
      ],
      "execution_count": null,
      "outputs": [
        {
          "output_type": "execute_result",
          "data": {
            "text/html": [
              "<div>\n",
              "<style scoped>\n",
              "    .dataframe tbody tr th:only-of-type {\n",
              "        vertical-align: middle;\n",
              "    }\n",
              "\n",
              "    .dataframe tbody tr th {\n",
              "        vertical-align: top;\n",
              "    }\n",
              "\n",
              "    .dataframe thead th {\n",
              "        text-align: right;\n",
              "    }\n",
              "</style>\n",
              "<table border=\"1\" class=\"dataframe\">\n",
              "  <thead>\n",
              "    <tr style=\"text-align: right;\">\n",
              "      <th></th>\n",
              "      <th>Open</th>\n",
              "      <th>High</th>\n",
              "      <th>Low</th>\n",
              "      <th>Close</th>\n",
              "      <th>Adj Close</th>\n",
              "      <th>Volume</th>\n",
              "    </tr>\n",
              "    <tr>\n",
              "      <th>Date</th>\n",
              "      <th></th>\n",
              "      <th></th>\n",
              "      <th></th>\n",
              "      <th></th>\n",
              "      <th></th>\n",
              "      <th></th>\n",
              "    </tr>\n",
              "  </thead>\n",
              "  <tbody>\n",
              "    <tr>\n",
              "      <th>2012-01-03</th>\n",
              "      <td>NaN</td>\n",
              "      <td>NaN</td>\n",
              "      <td>NaN</td>\n",
              "      <td>NaN</td>\n",
              "      <td>NaN</td>\n",
              "      <td>NaN</td>\n",
              "    </tr>\n",
              "    <tr>\n",
              "      <th>2012-01-04</th>\n",
              "      <td>325.250885</td>\n",
              "      <td>332.827484</td>\n",
              "      <td>324.966949</td>\n",
              "      <td>331.462585</td>\n",
              "      <td>331.462585</td>\n",
              "      <td>7380561.0</td>\n",
              "    </tr>\n",
              "    <tr>\n",
              "      <th>2012-01-05</th>\n",
              "      <td>331.273315</td>\n",
              "      <td>333.873566</td>\n",
              "      <td>329.076538</td>\n",
              "      <td>332.892242</td>\n",
              "      <td>332.892242</td>\n",
              "      <td>5749470.0</td>\n",
              "    </tr>\n",
              "    <tr>\n",
              "      <th>2012-01-06</th>\n",
              "      <td>329.828735</td>\n",
              "      <td>330.745270</td>\n",
              "      <td>326.889740</td>\n",
              "      <td>328.274536</td>\n",
              "      <td>328.274536</td>\n",
              "      <td>6590410.0</td>\n",
              "    </tr>\n",
              "    <tr>\n",
              "      <th>2012-01-09</th>\n",
              "      <td>328.344299</td>\n",
              "      <td>328.767700</td>\n",
              "      <td>323.681763</td>\n",
              "      <td>323.796326</td>\n",
              "      <td>323.796326</td>\n",
              "      <td>5405987.0</td>\n",
              "    </tr>\n",
              "  </tbody>\n",
              "</table>\n",
              "</div>"
            ],
            "text/plain": [
              "                  Open        High  ...   Adj Close     Volume\n",
              "Date                                ...                       \n",
              "2012-01-03         NaN         NaN  ...         NaN        NaN\n",
              "2012-01-04  325.250885  332.827484  ...  331.462585  7380561.0\n",
              "2012-01-05  331.273315  333.873566  ...  332.892242  5749470.0\n",
              "2012-01-06  329.828735  330.745270  ...  328.274536  6590410.0\n",
              "2012-01-09  328.344299  328.767700  ...  323.796326  5405987.0\n",
              "\n",
              "[5 rows x 6 columns]"
            ]
          },
          "metadata": {},
          "execution_count": 101
        }
      ]
    },
    {
      "cell_type": "code",
      "metadata": {
        "colab": {
          "base_uri": "https://localhost:8080/",
          "height": 235
        },
        "id": "5uyN8edhkrWY",
        "outputId": "4ae02581-3a27-4ff2-a97d-a456e4302e6c"
      },
      "source": [
        "google.shift(1).tail()"
      ],
      "execution_count": null,
      "outputs": [
        {
          "output_type": "execute_result",
          "data": {
            "text/html": [
              "<div>\n",
              "<style scoped>\n",
              "    .dataframe tbody tr th:only-of-type {\n",
              "        vertical-align: middle;\n",
              "    }\n",
              "\n",
              "    .dataframe tbody tr th {\n",
              "        vertical-align: top;\n",
              "    }\n",
              "\n",
              "    .dataframe thead th {\n",
              "        text-align: right;\n",
              "    }\n",
              "</style>\n",
              "<table border=\"1\" class=\"dataframe\">\n",
              "  <thead>\n",
              "    <tr style=\"text-align: right;\">\n",
              "      <th></th>\n",
              "      <th>Open</th>\n",
              "      <th>High</th>\n",
              "      <th>Low</th>\n",
              "      <th>Close</th>\n",
              "      <th>Adj Close</th>\n",
              "      <th>Volume</th>\n",
              "    </tr>\n",
              "    <tr>\n",
              "      <th>Date</th>\n",
              "      <th></th>\n",
              "      <th></th>\n",
              "      <th></th>\n",
              "      <th></th>\n",
              "      <th></th>\n",
              "      <th></th>\n",
              "    </tr>\n",
              "  </thead>\n",
              "  <tbody>\n",
              "    <tr>\n",
              "      <th>2021-09-15</th>\n",
              "      <td>2883.219971</td>\n",
              "      <td>2894.550049</td>\n",
              "      <td>2858.110107</td>\n",
              "      <td>2868.120117</td>\n",
              "      <td>2868.120117</td>\n",
              "      <td>945800.0</td>\n",
              "    </tr>\n",
              "    <tr>\n",
              "      <th>2021-09-16</th>\n",
              "      <td>2875.179932</td>\n",
              "      <td>2911.629883</td>\n",
              "      <td>2845.120117</td>\n",
              "      <td>2904.120117</td>\n",
              "      <td>2904.120117</td>\n",
              "      <td>1032400.0</td>\n",
              "    </tr>\n",
              "    <tr>\n",
              "      <th>2021-09-17</th>\n",
              "      <td>2902.419922</td>\n",
              "      <td>2904.000000</td>\n",
              "      <td>2868.326904</td>\n",
              "      <td>2887.469971</td>\n",
              "      <td>2887.469971</td>\n",
              "      <td>1014600.0</td>\n",
              "    </tr>\n",
              "    <tr>\n",
              "      <th>2021-09-20</th>\n",
              "      <td>2875.969971</td>\n",
              "      <td>2884.989990</td>\n",
              "      <td>2821.229980</td>\n",
              "      <td>2829.270020</td>\n",
              "      <td>2829.270020</td>\n",
              "      <td>2929500.0</td>\n",
              "    </tr>\n",
              "    <tr>\n",
              "      <th>2021-09-21</th>\n",
              "      <td>2780.003906</td>\n",
              "      <td>2787.250000</td>\n",
              "      <td>2741.060059</td>\n",
              "      <td>2780.340088</td>\n",
              "      <td>2780.340088</td>\n",
              "      <td>1745900.0</td>\n",
              "    </tr>\n",
              "  </tbody>\n",
              "</table>\n",
              "</div>"
            ],
            "text/plain": [
              "                   Open         High  ...    Adj Close     Volume\n",
              "Date                                  ...                        \n",
              "2021-09-15  2883.219971  2894.550049  ...  2868.120117   945800.0\n",
              "2021-09-16  2875.179932  2911.629883  ...  2904.120117  1032400.0\n",
              "2021-09-17  2902.419922  2904.000000  ...  2887.469971  1014600.0\n",
              "2021-09-20  2875.969971  2884.989990  ...  2829.270020  2929500.0\n",
              "2021-09-21  2780.003906  2787.250000  ...  2780.340088  1745900.0\n",
              "\n",
              "[5 rows x 6 columns]"
            ]
          },
          "metadata": {},
          "execution_count": 102
        }
      ]
    },
    {
      "cell_type": "markdown",
      "metadata": {
        "id": "jeQ2ZAd0kzKP"
      },
      "source": [
        "### .shift() lùi"
      ]
    },
    {
      "cell_type": "code",
      "metadata": {
        "colab": {
          "base_uri": "https://localhost:8080/",
          "height": 235
        },
        "id": "0_CnnLY1k2GT",
        "outputId": "268333ab-e4c7-4e6b-b0a6-eb8e6d98ed24"
      },
      "source": [
        "google.shift(-1).head()"
      ],
      "execution_count": null,
      "outputs": [
        {
          "output_type": "execute_result",
          "data": {
            "text/html": [
              "<div>\n",
              "<style scoped>\n",
              "    .dataframe tbody tr th:only-of-type {\n",
              "        vertical-align: middle;\n",
              "    }\n",
              "\n",
              "    .dataframe tbody tr th {\n",
              "        vertical-align: top;\n",
              "    }\n",
              "\n",
              "    .dataframe thead th {\n",
              "        text-align: right;\n",
              "    }\n",
              "</style>\n",
              "<table border=\"1\" class=\"dataframe\">\n",
              "  <thead>\n",
              "    <tr style=\"text-align: right;\">\n",
              "      <th></th>\n",
              "      <th>Open</th>\n",
              "      <th>High</th>\n",
              "      <th>Low</th>\n",
              "      <th>Close</th>\n",
              "      <th>Adj Close</th>\n",
              "      <th>Volume</th>\n",
              "    </tr>\n",
              "    <tr>\n",
              "      <th>Date</th>\n",
              "      <th></th>\n",
              "      <th></th>\n",
              "      <th></th>\n",
              "      <th></th>\n",
              "      <th></th>\n",
              "      <th></th>\n",
              "    </tr>\n",
              "  </thead>\n",
              "  <tbody>\n",
              "    <tr>\n",
              "      <th>2012-01-03</th>\n",
              "      <td>331.273315</td>\n",
              "      <td>333.873566</td>\n",
              "      <td>329.076538</td>\n",
              "      <td>332.892242</td>\n",
              "      <td>332.892242</td>\n",
              "      <td>5749470.0</td>\n",
              "    </tr>\n",
              "    <tr>\n",
              "      <th>2012-01-04</th>\n",
              "      <td>329.828735</td>\n",
              "      <td>330.745270</td>\n",
              "      <td>326.889740</td>\n",
              "      <td>328.274536</td>\n",
              "      <td>328.274536</td>\n",
              "      <td>6590410.0</td>\n",
              "    </tr>\n",
              "    <tr>\n",
              "      <th>2012-01-05</th>\n",
              "      <td>328.344299</td>\n",
              "      <td>328.767700</td>\n",
              "      <td>323.681763</td>\n",
              "      <td>323.796326</td>\n",
              "      <td>323.796326</td>\n",
              "      <td>5405987.0</td>\n",
              "    </tr>\n",
              "    <tr>\n",
              "      <th>2012-01-06</th>\n",
              "      <td>322.042908</td>\n",
              "      <td>322.291962</td>\n",
              "      <td>309.455078</td>\n",
              "      <td>310.067780</td>\n",
              "      <td>310.067780</td>\n",
              "      <td>11688849.0</td>\n",
              "    </tr>\n",
              "    <tr>\n",
              "      <th>2012-01-09</th>\n",
              "      <td>313.699188</td>\n",
              "      <td>315.716614</td>\n",
              "      <td>307.303162</td>\n",
              "      <td>310.406525</td>\n",
              "      <td>310.406525</td>\n",
              "      <td>8824152.0</td>\n",
              "    </tr>\n",
              "  </tbody>\n",
              "</table>\n",
              "</div>"
            ],
            "text/plain": [
              "                  Open        High  ...   Adj Close      Volume\n",
              "Date                                ...                        \n",
              "2012-01-03  331.273315  333.873566  ...  332.892242   5749470.0\n",
              "2012-01-04  329.828735  330.745270  ...  328.274536   6590410.0\n",
              "2012-01-05  328.344299  328.767700  ...  323.796326   5405987.0\n",
              "2012-01-06  322.042908  322.291962  ...  310.067780  11688849.0\n",
              "2012-01-09  313.699188  315.716614  ...  310.406525   8824152.0\n",
              "\n",
              "[5 rows x 6 columns]"
            ]
          },
          "metadata": {},
          "execution_count": 103
        }
      ]
    },
    {
      "cell_type": "code",
      "metadata": {
        "colab": {
          "base_uri": "https://localhost:8080/",
          "height": 235
        },
        "id": "rXUgbu0Ik5kp",
        "outputId": "dae20f36-ce94-4865-c47d-ab83bbe178aa"
      },
      "source": [
        "google.shift(-1).tail()"
      ],
      "execution_count": null,
      "outputs": [
        {
          "output_type": "execute_result",
          "data": {
            "text/html": [
              "<div>\n",
              "<style scoped>\n",
              "    .dataframe tbody tr th:only-of-type {\n",
              "        vertical-align: middle;\n",
              "    }\n",
              "\n",
              "    .dataframe tbody tr th {\n",
              "        vertical-align: top;\n",
              "    }\n",
              "\n",
              "    .dataframe thead th {\n",
              "        text-align: right;\n",
              "    }\n",
              "</style>\n",
              "<table border=\"1\" class=\"dataframe\">\n",
              "  <thead>\n",
              "    <tr style=\"text-align: right;\">\n",
              "      <th></th>\n",
              "      <th>Open</th>\n",
              "      <th>High</th>\n",
              "      <th>Low</th>\n",
              "      <th>Close</th>\n",
              "      <th>Adj Close</th>\n",
              "      <th>Volume</th>\n",
              "    </tr>\n",
              "    <tr>\n",
              "      <th>Date</th>\n",
              "      <th></th>\n",
              "      <th></th>\n",
              "      <th></th>\n",
              "      <th></th>\n",
              "      <th></th>\n",
              "      <th></th>\n",
              "    </tr>\n",
              "  </thead>\n",
              "  <tbody>\n",
              "    <tr>\n",
              "      <th>2021-09-15</th>\n",
              "      <td>2902.419922</td>\n",
              "      <td>2904.000000</td>\n",
              "      <td>2868.326904</td>\n",
              "      <td>2887.469971</td>\n",
              "      <td>2887.469971</td>\n",
              "      <td>1014600.0</td>\n",
              "    </tr>\n",
              "    <tr>\n",
              "      <th>2021-09-16</th>\n",
              "      <td>2875.969971</td>\n",
              "      <td>2884.989990</td>\n",
              "      <td>2821.229980</td>\n",
              "      <td>2829.270020</td>\n",
              "      <td>2829.270020</td>\n",
              "      <td>2929500.0</td>\n",
              "    </tr>\n",
              "    <tr>\n",
              "      <th>2021-09-17</th>\n",
              "      <td>2780.003906</td>\n",
              "      <td>2787.250000</td>\n",
              "      <td>2741.060059</td>\n",
              "      <td>2780.340088</td>\n",
              "      <td>2780.340088</td>\n",
              "      <td>1745900.0</td>\n",
              "    </tr>\n",
              "    <tr>\n",
              "      <th>2021-09-20</th>\n",
              "      <td>2802.340088</td>\n",
              "      <td>2816.231934</td>\n",
              "      <td>2778.110107</td>\n",
              "      <td>2792.929932</td>\n",
              "      <td>2792.929932</td>\n",
              "      <td>906100.0</td>\n",
              "    </tr>\n",
              "    <tr>\n",
              "      <th>2021-09-21</th>\n",
              "      <td>NaN</td>\n",
              "      <td>NaN</td>\n",
              "      <td>NaN</td>\n",
              "      <td>NaN</td>\n",
              "      <td>NaN</td>\n",
              "      <td>NaN</td>\n",
              "    </tr>\n",
              "  </tbody>\n",
              "</table>\n",
              "</div>"
            ],
            "text/plain": [
              "                   Open         High  ...    Adj Close     Volume\n",
              "Date                                  ...                        \n",
              "2021-09-15  2902.419922  2904.000000  ...  2887.469971  1014600.0\n",
              "2021-09-16  2875.969971  2884.989990  ...  2829.270020  2929500.0\n",
              "2021-09-17  2780.003906  2787.250000  ...  2780.340088  1745900.0\n",
              "2021-09-20  2802.340088  2816.231934  ...  2792.929932   906100.0\n",
              "2021-09-21          NaN          NaN  ...          NaN        NaN\n",
              "\n",
              "[5 rows x 6 columns]"
            ]
          },
          "metadata": {},
          "execution_count": 104
        }
      ]
    },
    {
      "cell_type": "markdown",
      "metadata": {
        "id": "bTB58ZCklkJ0"
      },
      "source": [
        "## Lấy mẫu dữ liệu theo thời gian (resample)\n",
        "\n",
        "Chúng ta sẽ tiếp tục sử dụng dữ liệu `google` để thử nghiệm "
      ]
    },
    {
      "cell_type": "code",
      "metadata": {
        "colab": {
          "base_uri": "https://localhost:8080/",
          "height": 450
        },
        "id": "vLeVEG8Zlm-3",
        "outputId": "14717421-dd15-499b-9743-a03d09a853f1"
      },
      "source": [
        "google"
      ],
      "execution_count": null,
      "outputs": [
        {
          "output_type": "execute_result",
          "data": {
            "text/html": [
              "<div>\n",
              "<style scoped>\n",
              "    .dataframe tbody tr th:only-of-type {\n",
              "        vertical-align: middle;\n",
              "    }\n",
              "\n",
              "    .dataframe tbody tr th {\n",
              "        vertical-align: top;\n",
              "    }\n",
              "\n",
              "    .dataframe thead th {\n",
              "        text-align: right;\n",
              "    }\n",
              "</style>\n",
              "<table border=\"1\" class=\"dataframe\">\n",
              "  <thead>\n",
              "    <tr style=\"text-align: right;\">\n",
              "      <th></th>\n",
              "      <th>Open</th>\n",
              "      <th>High</th>\n",
              "      <th>Low</th>\n",
              "      <th>Close</th>\n",
              "      <th>Adj Close</th>\n",
              "      <th>Volume</th>\n",
              "    </tr>\n",
              "    <tr>\n",
              "      <th>Date</th>\n",
              "      <th></th>\n",
              "      <th></th>\n",
              "      <th></th>\n",
              "      <th></th>\n",
              "      <th></th>\n",
              "      <th></th>\n",
              "    </tr>\n",
              "  </thead>\n",
              "  <tbody>\n",
              "    <tr>\n",
              "      <th>2012-01-03</th>\n",
              "      <td>325.250885</td>\n",
              "      <td>332.827484</td>\n",
              "      <td>324.966949</td>\n",
              "      <td>331.462585</td>\n",
              "      <td>331.462585</td>\n",
              "      <td>7380561</td>\n",
              "    </tr>\n",
              "    <tr>\n",
              "      <th>2012-01-04</th>\n",
              "      <td>331.273315</td>\n",
              "      <td>333.873566</td>\n",
              "      <td>329.076538</td>\n",
              "      <td>332.892242</td>\n",
              "      <td>332.892242</td>\n",
              "      <td>5749470</td>\n",
              "    </tr>\n",
              "    <tr>\n",
              "      <th>2012-01-05</th>\n",
              "      <td>329.828735</td>\n",
              "      <td>330.745270</td>\n",
              "      <td>326.889740</td>\n",
              "      <td>328.274536</td>\n",
              "      <td>328.274536</td>\n",
              "      <td>6590410</td>\n",
              "    </tr>\n",
              "    <tr>\n",
              "      <th>2012-01-06</th>\n",
              "      <td>328.344299</td>\n",
              "      <td>328.767700</td>\n",
              "      <td>323.681763</td>\n",
              "      <td>323.796326</td>\n",
              "      <td>323.796326</td>\n",
              "      <td>5405987</td>\n",
              "    </tr>\n",
              "    <tr>\n",
              "      <th>2012-01-09</th>\n",
              "      <td>322.042908</td>\n",
              "      <td>322.291962</td>\n",
              "      <td>309.455078</td>\n",
              "      <td>310.067780</td>\n",
              "      <td>310.067780</td>\n",
              "      <td>11688849</td>\n",
              "    </tr>\n",
              "    <tr>\n",
              "      <th>...</th>\n",
              "      <td>...</td>\n",
              "      <td>...</td>\n",
              "      <td>...</td>\n",
              "      <td>...</td>\n",
              "      <td>...</td>\n",
              "      <td>...</td>\n",
              "    </tr>\n",
              "    <tr>\n",
              "      <th>2021-09-15</th>\n",
              "      <td>2875.179932</td>\n",
              "      <td>2911.629883</td>\n",
              "      <td>2845.120117</td>\n",
              "      <td>2904.120117</td>\n",
              "      <td>2904.120117</td>\n",
              "      <td>1032400</td>\n",
              "    </tr>\n",
              "    <tr>\n",
              "      <th>2021-09-16</th>\n",
              "      <td>2902.419922</td>\n",
              "      <td>2904.000000</td>\n",
              "      <td>2868.326904</td>\n",
              "      <td>2887.469971</td>\n",
              "      <td>2887.469971</td>\n",
              "      <td>1014600</td>\n",
              "    </tr>\n",
              "    <tr>\n",
              "      <th>2021-09-17</th>\n",
              "      <td>2875.969971</td>\n",
              "      <td>2884.989990</td>\n",
              "      <td>2821.229980</td>\n",
              "      <td>2829.270020</td>\n",
              "      <td>2829.270020</td>\n",
              "      <td>2929500</td>\n",
              "    </tr>\n",
              "    <tr>\n",
              "      <th>2021-09-20</th>\n",
              "      <td>2780.003906</td>\n",
              "      <td>2787.250000</td>\n",
              "      <td>2741.060059</td>\n",
              "      <td>2780.340088</td>\n",
              "      <td>2780.340088</td>\n",
              "      <td>1745900</td>\n",
              "    </tr>\n",
              "    <tr>\n",
              "      <th>2021-09-21</th>\n",
              "      <td>2802.340088</td>\n",
              "      <td>2816.231934</td>\n",
              "      <td>2778.110107</td>\n",
              "      <td>2792.929932</td>\n",
              "      <td>2792.929932</td>\n",
              "      <td>906100</td>\n",
              "    </tr>\n",
              "  </tbody>\n",
              "</table>\n",
              "<p>2446 rows × 6 columns</p>\n",
              "</div>"
            ],
            "text/plain": [
              "                   Open         High  ...    Adj Close    Volume\n",
              "Date                                  ...                       \n",
              "2012-01-03   325.250885   332.827484  ...   331.462585   7380561\n",
              "2012-01-04   331.273315   333.873566  ...   332.892242   5749470\n",
              "2012-01-05   329.828735   330.745270  ...   328.274536   6590410\n",
              "2012-01-06   328.344299   328.767700  ...   323.796326   5405987\n",
              "2012-01-09   322.042908   322.291962  ...   310.067780  11688849\n",
              "...                 ...          ...  ...          ...       ...\n",
              "2021-09-15  2875.179932  2911.629883  ...  2904.120117   1032400\n",
              "2021-09-16  2902.419922  2904.000000  ...  2887.469971   1014600\n",
              "2021-09-17  2875.969971  2884.989990  ...  2829.270020   2929500\n",
              "2021-09-20  2780.003906  2787.250000  ...  2780.340088   1745900\n",
              "2021-09-21  2802.340088  2816.231934  ...  2792.929932    906100\n",
              "\n",
              "[2446 rows x 6 columns]"
            ]
          },
          "metadata": {},
          "execution_count": 105
        }
      ]
    },
    {
      "cell_type": "markdown",
      "metadata": {
        "id": "WWwE9Fsyl_iz"
      },
      "source": [
        "Thao tác phổ biến với dữ liệu chuỗi thời gian là lấy mẫu dựa trên index từ chuỗi thời gian. Hãy xem cách sử dụng phương thức `resample()`.\n",
        "\n",
        "Tất cả các chuỗi thời gian có thể có được tập hợp : \n",
        "\n",
        "<table border=\"1\" class=\"docutils\">\n",
        "<colgroup>\n",
        "<col width=\"13%\" />\n",
        "<col width=\"87%\" />\n",
        "</colgroup>\n",
        "<thead valign=\"bottom\">\n",
        "<tr class=\"row-odd\"><th class=\"head\">Alias</th>\n",
        "<th class=\"head\">Description</th>\n",
        "</tr>\n",
        "</thead>\n",
        "<tbody valign=\"top\">\n",
        "<tr class=\"row-even\"><td>B</td>\n",
        "<td>business day frequency</td>\n",
        "</tr>\n",
        "<tr class=\"row-odd\"><td>C</td>\n",
        "<td>custom business day frequency (experimental)</td>\n",
        "</tr>\n",
        "<tr class=\"row-even\"><td>D</td>\n",
        "<td>calendar day frequency</td>\n",
        "</tr>\n",
        "<tr class=\"row-odd\"><td>W</td>\n",
        "<td>weekly frequency</td>\n",
        "</tr>\n",
        "<tr class=\"row-even\"><td>M</td>\n",
        "<td>month end frequency</td>\n",
        "</tr>\n",
        "<tr class=\"row-odd\"><td>SM</td>\n",
        "<td>semi-month end frequency (15th and end of month)</td>\n",
        "</tr>\n",
        "<tr class=\"row-even\"><td>BM</td>\n",
        "<td>business month end frequency</td>\n",
        "</tr>\n",
        "<tr class=\"row-odd\"><td>CBM</td>\n",
        "<td>custom business month end frequency</td>\n",
        "</tr>\n",
        "<tr class=\"row-even\"><td>MS</td>\n",
        "<td>month start frequency</td>\n",
        "</tr>\n",
        "<tr class=\"row-odd\"><td>SMS</td>\n",
        "<td>semi-month start frequency (1st and 15th)</td>\n",
        "</tr>\n",
        "<tr class=\"row-even\"><td>BMS</td>\n",
        "<td>business month start frequency</td>\n",
        "</tr>\n",
        "<tr class=\"row-odd\"><td>CBMS</td>\n",
        "<td>custom business month start frequency</td>\n",
        "</tr>\n",
        "<tr class=\"row-even\"><td>Q</td>\n",
        "<td>quarter end frequency</td>\n",
        "</tr>\n",
        "<tr class=\"row-odd\"><td>BQ</td>\n",
        "<td>business quarter endfrequency</td>\n",
        "</tr>\n",
        "<tr class=\"row-even\"><td>QS</td>\n",
        "<td>quarter start frequency</td>\n",
        "</tr>\n",
        "<tr class=\"row-odd\"><td>BQS</td>\n",
        "<td>business quarter start frequency</td>\n",
        "</tr>\n",
        "<tr class=\"row-even\"><td>A</td>\n",
        "<td>year end frequency</td>\n",
        "</tr>\n",
        "<tr class=\"row-odd\"><td>BA</td>\n",
        "<td>business year end frequency</td>\n",
        "</tr>\n",
        "<tr class=\"row-even\"><td>AS</td>\n",
        "<td>year start frequency</td>\n",
        "</tr>\n",
        "<tr class=\"row-odd\"><td>BAS</td>\n",
        "<td>business year start frequency</td>\n",
        "</tr>\n",
        "<tr class=\"row-even\"><td>BH</td>\n",
        "<td>business hour frequency</td>\n",
        "</tr>\n",
        "<tr class=\"row-odd\"><td>H</td>\n",
        "<td>hourly frequency</td>\n",
        "</tr>\n",
        "<tr class=\"row-even\"><td>T, min</td>\n",
        "<td>minutely frequency</td>\n",
        "</tr>\n",
        "<tr class=\"row-odd\"><td>S</td>\n",
        "<td>secondly frequency</td>\n",
        "</tr>\n",
        "<tr class=\"row-even\"><td>L, ms</td>\n",
        "<td>milliseconds</td>\n",
        "</tr>\n",
        "<tr class=\"row-odd\"><td>U, us</td>\n",
        "<td>microseconds</td>\n",
        "</tr>\n",
        "<tr class=\"row-even\"><td>N</td>\n",
        "<td>nanoseconds</td>\n",
        "</tr>\n",
        "</tbody>\n",
        "</table>\n"
      ]
    },
    {
      "cell_type": "code",
      "metadata": {
        "colab": {
          "base_uri": "https://localhost:8080/"
        },
        "id": "F2-hdRcbmHdJ",
        "outputId": "8cd969df-3e10-4edc-eb98-ac02b478650d"
      },
      "source": [
        "google.index"
      ],
      "execution_count": null,
      "outputs": [
        {
          "output_type": "execute_result",
          "data": {
            "text/plain": [
              "DatetimeIndex(['2012-01-03', '2012-01-04', '2012-01-05', '2012-01-06',\n",
              "               '2012-01-09', '2012-01-10', '2012-01-11', '2012-01-12',\n",
              "               '2012-01-13', '2012-01-17',\n",
              "               ...\n",
              "               '2021-09-08', '2021-09-09', '2021-09-10', '2021-09-13',\n",
              "               '2021-09-14', '2021-09-15', '2021-09-16', '2021-09-17',\n",
              "               '2021-09-20', '2021-09-21'],\n",
              "              dtype='datetime64[ns]', name='Date', length=2446, freq=None)"
            ]
          },
          "metadata": {},
          "execution_count": 106
        }
      ]
    },
    {
      "cell_type": "markdown",
      "metadata": {
        "id": "jag-E-zUrLeB"
      },
      "source": [
        "Sử dụng `respample(\"Y\")` để lấy trung bình tất cả các cột theo từng năm"
      ]
    },
    {
      "cell_type": "code",
      "metadata": {
        "colab": {
          "base_uri": "https://localhost:8080/",
          "height": 390
        },
        "id": "9CZpCj6nmVWH",
        "outputId": "053c035a-0e38-4950-b5f8-d4daf3ec915f"
      },
      "source": [
        "google.resample(\"Y\").mean()"
      ],
      "execution_count": null,
      "outputs": [
        {
          "output_type": "execute_result",
          "data": {
            "text/html": [
              "<div>\n",
              "<style scoped>\n",
              "    .dataframe tbody tr th:only-of-type {\n",
              "        vertical-align: middle;\n",
              "    }\n",
              "\n",
              "    .dataframe tbody tr th {\n",
              "        vertical-align: top;\n",
              "    }\n",
              "\n",
              "    .dataframe thead th {\n",
              "        text-align: right;\n",
              "    }\n",
              "</style>\n",
              "<table border=\"1\" class=\"dataframe\">\n",
              "  <thead>\n",
              "    <tr style=\"text-align: right;\">\n",
              "      <th></th>\n",
              "      <th>Open</th>\n",
              "      <th>High</th>\n",
              "      <th>Low</th>\n",
              "      <th>Close</th>\n",
              "      <th>Adj Close</th>\n",
              "      <th>Volume</th>\n",
              "    </tr>\n",
              "    <tr>\n",
              "      <th>Date</th>\n",
              "      <th></th>\n",
              "      <th></th>\n",
              "      <th></th>\n",
              "      <th></th>\n",
              "      <th></th>\n",
              "      <th></th>\n",
              "    </tr>\n",
              "  </thead>\n",
              "  <tbody>\n",
              "    <tr>\n",
              "      <th>2012-12-31</th>\n",
              "      <td>320.195071</td>\n",
              "      <td>322.927847</td>\n",
              "      <td>317.288286</td>\n",
              "      <td>320.208021</td>\n",
              "      <td>320.208021</td>\n",
              "      <td>5.228273e+06</td>\n",
              "    </tr>\n",
              "    <tr>\n",
              "      <th>2013-12-31</th>\n",
              "      <td>440.160271</td>\n",
              "      <td>443.407307</td>\n",
              "      <td>437.217431</td>\n",
              "      <td>440.470378</td>\n",
              "      <td>440.470378</td>\n",
              "      <td>4.190450e+06</td>\n",
              "    </tr>\n",
              "    <tr>\n",
              "      <th>2014-12-31</th>\n",
              "      <td>560.709645</td>\n",
              "      <td>564.495206</td>\n",
              "      <td>555.162255</td>\n",
              "      <td>559.803290</td>\n",
              "      <td>559.803290</td>\n",
              "      <td>2.487099e+06</td>\n",
              "    </tr>\n",
              "    <tr>\n",
              "      <th>2015-12-31</th>\n",
              "      <td>602.057314</td>\n",
              "      <td>607.442765</td>\n",
              "      <td>596.090603</td>\n",
              "      <td>602.005681</td>\n",
              "      <td>602.005681</td>\n",
              "      <td>2.069450e+06</td>\n",
              "    </tr>\n",
              "    <tr>\n",
              "      <th>2016-12-31</th>\n",
              "      <td>743.732459</td>\n",
              "      <td>749.421629</td>\n",
              "      <td>737.597905</td>\n",
              "      <td>743.486707</td>\n",
              "      <td>743.486707</td>\n",
              "      <td>1.832266e+06</td>\n",
              "    </tr>\n",
              "    <tr>\n",
              "      <th>2017-12-31</th>\n",
              "      <td>921.121193</td>\n",
              "      <td>926.898963</td>\n",
              "      <td>915.331412</td>\n",
              "      <td>921.780837</td>\n",
              "      <td>921.780837</td>\n",
              "      <td>1.476514e+06</td>\n",
              "    </tr>\n",
              "    <tr>\n",
              "      <th>2018-12-31</th>\n",
              "      <td>1113.554101</td>\n",
              "      <td>1125.777606</td>\n",
              "      <td>1101.001658</td>\n",
              "      <td>1113.225134</td>\n",
              "      <td>1113.225134</td>\n",
              "      <td>1.741965e+06</td>\n",
              "    </tr>\n",
              "    <tr>\n",
              "      <th>2019-12-31</th>\n",
              "      <td>1187.009821</td>\n",
              "      <td>1196.787599</td>\n",
              "      <td>1178.523734</td>\n",
              "      <td>1188.393057</td>\n",
              "      <td>1188.393057</td>\n",
              "      <td>1.413869e+06</td>\n",
              "    </tr>\n",
              "    <tr>\n",
              "      <th>2020-12-31</th>\n",
              "      <td>1479.566622</td>\n",
              "      <td>1499.179412</td>\n",
              "      <td>1462.068905</td>\n",
              "      <td>1481.403811</td>\n",
              "      <td>1481.403811</td>\n",
              "      <td>1.891680e+06</td>\n",
              "    </tr>\n",
              "    <tr>\n",
              "      <th>2021-12-31</th>\n",
              "      <td>2362.508934</td>\n",
              "      <td>2384.484799</td>\n",
              "      <td>2344.292453</td>\n",
              "      <td>2366.078617</td>\n",
              "      <td>2366.078617</td>\n",
              "      <td>1.318839e+06</td>\n",
              "    </tr>\n",
              "  </tbody>\n",
              "</table>\n",
              "</div>"
            ],
            "text/plain": [
              "                   Open         High  ...    Adj Close        Volume\n",
              "Date                                  ...                           \n",
              "2012-12-31   320.195071   322.927847  ...   320.208021  5.228273e+06\n",
              "2013-12-31   440.160271   443.407307  ...   440.470378  4.190450e+06\n",
              "2014-12-31   560.709645   564.495206  ...   559.803290  2.487099e+06\n",
              "2015-12-31   602.057314   607.442765  ...   602.005681  2.069450e+06\n",
              "2016-12-31   743.732459   749.421629  ...   743.486707  1.832266e+06\n",
              "2017-12-31   921.121193   926.898963  ...   921.780837  1.476514e+06\n",
              "2018-12-31  1113.554101  1125.777606  ...  1113.225134  1.741965e+06\n",
              "2019-12-31  1187.009821  1196.787599  ...  1188.393057  1.413869e+06\n",
              "2020-12-31  1479.566622  1499.179412  ...  1481.403811  1.891680e+06\n",
              "2021-12-31  2362.508934  2384.484799  ...  2366.078617  1.318839e+06\n",
              "\n",
              "[10 rows x 6 columns]"
            ]
          },
          "metadata": {},
          "execution_count": 107
        }
      ]
    },
    {
      "cell_type": "markdown",
      "metadata": {
        "id": "7GZi9l-1mdF5"
      },
      "source": [
        "Ngoài ra, bạn cũng có thể tổng hợp các phương pháp tính toán như lấy tổng (sum), lấy trung bình (mean), lấy trung vị (median), độ lệch chuẩn (std)... cho tất cả các cột hoặc một số cột cụ thể. \n",
        "\n",
        "Ví dụ, lấy tổng, trung bình và độ lệch chuẩn cho giá cổ phiếu của Google thời điểm đóng cửa hàng tuần "
      ]
    },
    {
      "cell_type": "code",
      "metadata": {
        "id": "N-ly5ygjm3UT",
        "colab": {
          "base_uri": "https://localhost:8080/",
          "height": 450
        },
        "outputId": "84db80cc-79fb-46eb-a27a-f88d4b50445f"
      },
      "source": [
        "google[\"Close\"].resample(\"W\").agg([\"sum\", \"mean\", \"std\"])"
      ],
      "execution_count": null,
      "outputs": [
        {
          "output_type": "execute_result",
          "data": {
            "text/html": [
              "<div>\n",
              "<style scoped>\n",
              "    .dataframe tbody tr th:only-of-type {\n",
              "        vertical-align: middle;\n",
              "    }\n",
              "\n",
              "    .dataframe tbody tr th {\n",
              "        vertical-align: top;\n",
              "    }\n",
              "\n",
              "    .dataframe thead th {\n",
              "        text-align: right;\n",
              "    }\n",
              "</style>\n",
              "<table border=\"1\" class=\"dataframe\">\n",
              "  <thead>\n",
              "    <tr style=\"text-align: right;\">\n",
              "      <th></th>\n",
              "      <th>sum</th>\n",
              "      <th>mean</th>\n",
              "      <th>std</th>\n",
              "    </tr>\n",
              "    <tr>\n",
              "      <th>Date</th>\n",
              "      <th></th>\n",
              "      <th></th>\n",
              "      <th></th>\n",
              "    </tr>\n",
              "  </thead>\n",
              "  <tbody>\n",
              "    <tr>\n",
              "      <th>2012-01-08</th>\n",
              "      <td>1316.425689</td>\n",
              "      <td>329.106422</td>\n",
              "      <td>4.032083</td>\n",
              "    </tr>\n",
              "    <tr>\n",
              "      <th>2012-01-15</th>\n",
              "      <td>1557.257997</td>\n",
              "      <td>311.451599</td>\n",
              "      <td>1.410676</td>\n",
              "    </tr>\n",
              "    <tr>\n",
              "      <th>2012-01-22</th>\n",
              "      <td>1238.881379</td>\n",
              "      <td>309.720345</td>\n",
              "      <td>12.091145</td>\n",
              "    </tr>\n",
              "    <tr>\n",
              "      <th>2012-01-29</th>\n",
              "      <td>1436.625183</td>\n",
              "      <td>287.325037</td>\n",
              "      <td>3.796389</td>\n",
              "    </tr>\n",
              "    <tr>\n",
              "      <th>2012-02-05</th>\n",
              "      <td>1454.582855</td>\n",
              "      <td>290.916571</td>\n",
              "      <td>3.679589</td>\n",
              "    </tr>\n",
              "    <tr>\n",
              "      <th>...</th>\n",
              "      <td>...</td>\n",
              "      <td>...</td>\n",
              "      <td>...</td>\n",
              "    </tr>\n",
              "    <tr>\n",
              "      <th>2021-08-29</th>\n",
              "      <td>14262.429932</td>\n",
              "      <td>2852.485986</td>\n",
              "      <td>25.384317</td>\n",
              "    </tr>\n",
              "    <tr>\n",
              "      <th>2021-09-05</th>\n",
              "      <td>14515.349854</td>\n",
              "      <td>2903.069971</td>\n",
              "      <td>12.983167</td>\n",
              "    </tr>\n",
              "    <tr>\n",
              "      <th>2021-09-12</th>\n",
              "      <td>11544.739747</td>\n",
              "      <td>2886.184937</td>\n",
              "      <td>32.377184</td>\n",
              "    </tr>\n",
              "    <tr>\n",
              "      <th>2021-09-19</th>\n",
              "      <td>14358.280274</td>\n",
              "      <td>2871.656055</td>\n",
              "      <td>27.922325</td>\n",
              "    </tr>\n",
              "    <tr>\n",
              "      <th>2021-09-26</th>\n",
              "      <td>5573.270020</td>\n",
              "      <td>2786.635010</td>\n",
              "      <td>8.902364</td>\n",
              "    </tr>\n",
              "  </tbody>\n",
              "</table>\n",
              "<p>508 rows × 3 columns</p>\n",
              "</div>"
            ],
            "text/plain": [
              "                     sum         mean        std\n",
              "Date                                            \n",
              "2012-01-08   1316.425689   329.106422   4.032083\n",
              "2012-01-15   1557.257997   311.451599   1.410676\n",
              "2012-01-22   1238.881379   309.720345  12.091145\n",
              "2012-01-29   1436.625183   287.325037   3.796389\n",
              "2012-02-05   1454.582855   290.916571   3.679589\n",
              "...                  ...          ...        ...\n",
              "2021-08-29  14262.429932  2852.485986  25.384317\n",
              "2021-09-05  14515.349854  2903.069971  12.983167\n",
              "2021-09-12  11544.739747  2886.184937  32.377184\n",
              "2021-09-19  14358.280274  2871.656055  27.922325\n",
              "2021-09-26   5573.270020  2786.635010   8.902364\n",
              "\n",
              "[508 rows x 3 columns]"
            ]
          },
          "metadata": {},
          "execution_count": 108
        }
      ]
    },
    {
      "cell_type": "markdown",
      "metadata": {
        "id": "AdyOPEbcsVHk"
      },
      "source": [
        "## Rolling và Expanding\n",
        "\n"
      ]
    },
    {
      "cell_type": "markdown",
      "metadata": {
        "id": "kmtDLS9awYz7"
      },
      "source": [
        "### Rollling\n",
        "\n",
        "Một quy trình rất phổ biến với chuỗi thời gian là tạo dữ liệu dựa trên giá trị trung bình trượt. (rolling mean). Chúng ta sẽ sử dụng dữ liệu trên để thực hiện quá trình này "
      ]
    },
    {
      "cell_type": "code",
      "metadata": {
        "id": "h8rhxac7tNVT",
        "colab": {
          "base_uri": "https://localhost:8080/",
          "height": 450
        },
        "outputId": "24d6c14a-7385-4d5d-e50e-cedfeddd7b4c"
      },
      "source": [
        "google"
      ],
      "execution_count": null,
      "outputs": [
        {
          "output_type": "execute_result",
          "data": {
            "text/html": [
              "<div>\n",
              "<style scoped>\n",
              "    .dataframe tbody tr th:only-of-type {\n",
              "        vertical-align: middle;\n",
              "    }\n",
              "\n",
              "    .dataframe tbody tr th {\n",
              "        vertical-align: top;\n",
              "    }\n",
              "\n",
              "    .dataframe thead th {\n",
              "        text-align: right;\n",
              "    }\n",
              "</style>\n",
              "<table border=\"1\" class=\"dataframe\">\n",
              "  <thead>\n",
              "    <tr style=\"text-align: right;\">\n",
              "      <th></th>\n",
              "      <th>Open</th>\n",
              "      <th>High</th>\n",
              "      <th>Low</th>\n",
              "      <th>Close</th>\n",
              "      <th>Adj Close</th>\n",
              "      <th>Volume</th>\n",
              "    </tr>\n",
              "    <tr>\n",
              "      <th>Date</th>\n",
              "      <th></th>\n",
              "      <th></th>\n",
              "      <th></th>\n",
              "      <th></th>\n",
              "      <th></th>\n",
              "      <th></th>\n",
              "    </tr>\n",
              "  </thead>\n",
              "  <tbody>\n",
              "    <tr>\n",
              "      <th>2012-01-03</th>\n",
              "      <td>325.250885</td>\n",
              "      <td>332.827484</td>\n",
              "      <td>324.966949</td>\n",
              "      <td>331.462585</td>\n",
              "      <td>331.462585</td>\n",
              "      <td>7380561</td>\n",
              "    </tr>\n",
              "    <tr>\n",
              "      <th>2012-01-04</th>\n",
              "      <td>331.273315</td>\n",
              "      <td>333.873566</td>\n",
              "      <td>329.076538</td>\n",
              "      <td>332.892242</td>\n",
              "      <td>332.892242</td>\n",
              "      <td>5749470</td>\n",
              "    </tr>\n",
              "    <tr>\n",
              "      <th>2012-01-05</th>\n",
              "      <td>329.828735</td>\n",
              "      <td>330.745270</td>\n",
              "      <td>326.889740</td>\n",
              "      <td>328.274536</td>\n",
              "      <td>328.274536</td>\n",
              "      <td>6590410</td>\n",
              "    </tr>\n",
              "    <tr>\n",
              "      <th>2012-01-06</th>\n",
              "      <td>328.344299</td>\n",
              "      <td>328.767700</td>\n",
              "      <td>323.681763</td>\n",
              "      <td>323.796326</td>\n",
              "      <td>323.796326</td>\n",
              "      <td>5405987</td>\n",
              "    </tr>\n",
              "    <tr>\n",
              "      <th>2012-01-09</th>\n",
              "      <td>322.042908</td>\n",
              "      <td>322.291962</td>\n",
              "      <td>309.455078</td>\n",
              "      <td>310.067780</td>\n",
              "      <td>310.067780</td>\n",
              "      <td>11688849</td>\n",
              "    </tr>\n",
              "    <tr>\n",
              "      <th>...</th>\n",
              "      <td>...</td>\n",
              "      <td>...</td>\n",
              "      <td>...</td>\n",
              "      <td>...</td>\n",
              "      <td>...</td>\n",
              "      <td>...</td>\n",
              "    </tr>\n",
              "    <tr>\n",
              "      <th>2021-09-15</th>\n",
              "      <td>2875.179932</td>\n",
              "      <td>2911.629883</td>\n",
              "      <td>2845.120117</td>\n",
              "      <td>2904.120117</td>\n",
              "      <td>2904.120117</td>\n",
              "      <td>1032400</td>\n",
              "    </tr>\n",
              "    <tr>\n",
              "      <th>2021-09-16</th>\n",
              "      <td>2902.419922</td>\n",
              "      <td>2904.000000</td>\n",
              "      <td>2868.326904</td>\n",
              "      <td>2887.469971</td>\n",
              "      <td>2887.469971</td>\n",
              "      <td>1014600</td>\n",
              "    </tr>\n",
              "    <tr>\n",
              "      <th>2021-09-17</th>\n",
              "      <td>2875.969971</td>\n",
              "      <td>2884.989990</td>\n",
              "      <td>2821.229980</td>\n",
              "      <td>2829.270020</td>\n",
              "      <td>2829.270020</td>\n",
              "      <td>2929500</td>\n",
              "    </tr>\n",
              "    <tr>\n",
              "      <th>2021-09-20</th>\n",
              "      <td>2780.003906</td>\n",
              "      <td>2787.250000</td>\n",
              "      <td>2741.060059</td>\n",
              "      <td>2780.340088</td>\n",
              "      <td>2780.340088</td>\n",
              "      <td>1745900</td>\n",
              "    </tr>\n",
              "    <tr>\n",
              "      <th>2021-09-21</th>\n",
              "      <td>2802.340088</td>\n",
              "      <td>2816.231934</td>\n",
              "      <td>2778.110107</td>\n",
              "      <td>2792.929932</td>\n",
              "      <td>2792.929932</td>\n",
              "      <td>906100</td>\n",
              "    </tr>\n",
              "  </tbody>\n",
              "</table>\n",
              "<p>2446 rows × 6 columns</p>\n",
              "</div>"
            ],
            "text/plain": [
              "                   Open         High  ...    Adj Close    Volume\n",
              "Date                                  ...                       \n",
              "2012-01-03   325.250885   332.827484  ...   331.462585   7380561\n",
              "2012-01-04   331.273315   333.873566  ...   332.892242   5749470\n",
              "2012-01-05   329.828735   330.745270  ...   328.274536   6590410\n",
              "2012-01-06   328.344299   328.767700  ...   323.796326   5405987\n",
              "2012-01-09   322.042908   322.291962  ...   310.067780  11688849\n",
              "...                 ...          ...  ...          ...       ...\n",
              "2021-09-15  2875.179932  2911.629883  ...  2904.120117   1032400\n",
              "2021-09-16  2902.419922  2904.000000  ...  2887.469971   1014600\n",
              "2021-09-17  2875.969971  2884.989990  ...  2829.270020   2929500\n",
              "2021-09-20  2780.003906  2787.250000  ...  2780.340088   1745900\n",
              "2021-09-21  2802.340088  2816.231934  ...  2792.929932    906100\n",
              "\n",
              "[2446 rows x 6 columns]"
            ]
          },
          "metadata": {},
          "execution_count": 109
        }
      ]
    },
    {
      "cell_type": "code",
      "metadata": {
        "colab": {
          "base_uri": "https://localhost:8080/",
          "height": 433
        },
        "id": "qxRdSEMGtvS1",
        "outputId": "867a1d81-60da-410f-a433-3ce06b8a6c91"
      },
      "source": [
        "google[\"Close\"].plot(figsize=(12,7))"
      ],
      "execution_count": null,
      "outputs": [
        {
          "output_type": "execute_result",
          "data": {
            "text/plain": [
              "<matplotlib.axes._subplots.AxesSubplot at 0x7fa2895c41d0>"
            ]
          },
          "metadata": {},
          "execution_count": 110
        },
        {
          "output_type": "display_data",
          "data": {
            "image/png": "[encoded data removed]",
            "text/plain": [
              "<Figure size 864x504 with 1 Axes>"
            ]
          },
          "metadata": {
            "needs_background": "light"
          }
        }
      ]
    },
    {
      "cell_type": "markdown",
      "metadata": {
        "id": "JiZEdncmtyJc"
      },
      "source": [
        "Bây giờ, chúng ta sẽ tạo một trung bình trượt, phương thức này sẽ trượt qua toàn bộ từng dòng, sau đó mọi dòng sau đó sẽ là giá trị trung bình đại diện cho số khoảng trượt trước đó. "
      ]
    },
    {
      "cell_type": "code",
      "metadata": {
        "colab": {
          "base_uri": "https://localhost:8080/",
          "height": 450
        },
        "id": "V8rF0IavvCfK",
        "outputId": "5c1a7689-3eaa-4d70-f657-1857975723ef"
      },
      "source": [
        "google.rolling(window=2).mean()"
      ],
      "execution_count": null,
      "outputs": [
        {
          "output_type": "execute_result",
          "data": {
            "text/html": [
              "<div>\n",
              "<style scoped>\n",
              "    .dataframe tbody tr th:only-of-type {\n",
              "        vertical-align: middle;\n",
              "    }\n",
              "\n",
              "    .dataframe tbody tr th {\n",
              "        vertical-align: top;\n",
              "    }\n",
              "\n",
              "    .dataframe thead th {\n",
              "        text-align: right;\n",
              "    }\n",
              "</style>\n",
              "<table border=\"1\" class=\"dataframe\">\n",
              "  <thead>\n",
              "    <tr style=\"text-align: right;\">\n",
              "      <th></th>\n",
              "      <th>Open</th>\n",
              "      <th>High</th>\n",
              "      <th>Low</th>\n",
              "      <th>Close</th>\n",
              "      <th>Adj Close</th>\n",
              "      <th>Volume</th>\n",
              "    </tr>\n",
              "    <tr>\n",
              "      <th>Date</th>\n",
              "      <th></th>\n",
              "      <th></th>\n",
              "      <th></th>\n",
              "      <th></th>\n",
              "      <th></th>\n",
              "      <th></th>\n",
              "    </tr>\n",
              "  </thead>\n",
              "  <tbody>\n",
              "    <tr>\n",
              "      <th>2012-01-03</th>\n",
              "      <td>NaN</td>\n",
              "      <td>NaN</td>\n",
              "      <td>NaN</td>\n",
              "      <td>NaN</td>\n",
              "      <td>NaN</td>\n",
              "      <td>NaN</td>\n",
              "    </tr>\n",
              "    <tr>\n",
              "      <th>2012-01-04</th>\n",
              "      <td>328.262100</td>\n",
              "      <td>333.350525</td>\n",
              "      <td>327.021743</td>\n",
              "      <td>332.177414</td>\n",
              "      <td>332.177414</td>\n",
              "      <td>6565015.5</td>\n",
              "    </tr>\n",
              "    <tr>\n",
              "      <th>2012-01-05</th>\n",
              "      <td>330.551025</td>\n",
              "      <td>332.309418</td>\n",
              "      <td>327.983139</td>\n",
              "      <td>330.583389</td>\n",
              "      <td>330.583389</td>\n",
              "      <td>6169940.0</td>\n",
              "    </tr>\n",
              "    <tr>\n",
              "      <th>2012-01-06</th>\n",
              "      <td>329.086517</td>\n",
              "      <td>329.756485</td>\n",
              "      <td>325.285751</td>\n",
              "      <td>326.035431</td>\n",
              "      <td>326.035431</td>\n",
              "      <td>5998198.5</td>\n",
              "    </tr>\n",
              "    <tr>\n",
              "      <th>2012-01-09</th>\n",
              "      <td>325.193604</td>\n",
              "      <td>325.529831</td>\n",
              "      <td>316.568420</td>\n",
              "      <td>316.932053</td>\n",
              "      <td>316.932053</td>\n",
              "      <td>8547418.0</td>\n",
              "    </tr>\n",
              "    <tr>\n",
              "      <th>...</th>\n",
              "      <td>...</td>\n",
              "      <td>...</td>\n",
              "      <td>...</td>\n",
              "      <td>...</td>\n",
              "      <td>...</td>\n",
              "      <td>...</td>\n",
              "    </tr>\n",
              "    <tr>\n",
              "      <th>2021-09-15</th>\n",
              "      <td>2879.199952</td>\n",
              "      <td>2903.089966</td>\n",
              "      <td>2851.615112</td>\n",
              "      <td>2886.120117</td>\n",
              "      <td>2886.120117</td>\n",
              "      <td>989100.0</td>\n",
              "    </tr>\n",
              "    <tr>\n",
              "      <th>2021-09-16</th>\n",
              "      <td>2888.799927</td>\n",
              "      <td>2907.814941</td>\n",
              "      <td>2856.723511</td>\n",
              "      <td>2895.795044</td>\n",
              "      <td>2895.795044</td>\n",
              "      <td>1023500.0</td>\n",
              "    </tr>\n",
              "    <tr>\n",
              "      <th>2021-09-17</th>\n",
              "      <td>2889.194947</td>\n",
              "      <td>2894.494995</td>\n",
              "      <td>2844.778442</td>\n",
              "      <td>2858.369996</td>\n",
              "      <td>2858.369996</td>\n",
              "      <td>1972050.0</td>\n",
              "    </tr>\n",
              "    <tr>\n",
              "      <th>2021-09-20</th>\n",
              "      <td>2827.986939</td>\n",
              "      <td>2836.119995</td>\n",
              "      <td>2781.145020</td>\n",
              "      <td>2804.805054</td>\n",
              "      <td>2804.805054</td>\n",
              "      <td>2337700.0</td>\n",
              "    </tr>\n",
              "    <tr>\n",
              "      <th>2021-09-21</th>\n",
              "      <td>2791.171997</td>\n",
              "      <td>2801.740967</td>\n",
              "      <td>2759.585083</td>\n",
              "      <td>2786.635010</td>\n",
              "      <td>2786.635010</td>\n",
              "      <td>1326000.0</td>\n",
              "    </tr>\n",
              "  </tbody>\n",
              "</table>\n",
              "<p>2446 rows × 6 columns</p>\n",
              "</div>"
            ],
            "text/plain": [
              "                   Open         High  ...    Adj Close     Volume\n",
              "Date                                  ...                        \n",
              "2012-01-03          NaN          NaN  ...          NaN        NaN\n",
              "2012-01-04   328.262100   333.350525  ...   332.177414  6565015.5\n",
              "2012-01-05   330.551025   332.309418  ...   330.583389  6169940.0\n",
              "2012-01-06   329.086517   329.756485  ...   326.035431  5998198.5\n",
              "2012-01-09   325.193604   325.529831  ...   316.932053  8547418.0\n",
              "...                 ...          ...  ...          ...        ...\n",
              "2021-09-15  2879.199952  2903.089966  ...  2886.120117   989100.0\n",
              "2021-09-16  2888.799927  2907.814941  ...  2895.795044  1023500.0\n",
              "2021-09-17  2889.194947  2894.494995  ...  2858.369996  1972050.0\n",
              "2021-09-20  2827.986939  2836.119995  ...  2804.805054  2337700.0\n",
              "2021-09-21  2791.171997  2801.740967  ...  2786.635010  1326000.0\n",
              "\n",
              "[2446 rows x 6 columns]"
            ]
          },
          "metadata": {},
          "execution_count": 111
        }
      ]
    },
    {
      "cell_type": "markdown",
      "metadata": {
        "id": "AckIgiwevvUC"
      },
      "source": [
        "Đối chiếu trung bình trượt trong 30 ngày với giá trị thực của cổ phiểu Google lúc đóng cửa"
      ]
    },
    {
      "cell_type": "code",
      "metadata": {
        "colab": {
          "base_uri": "https://localhost:8080/",
          "height": 412
        },
        "id": "JGccG2rpvpkR",
        "outputId": "07cb5057-ef5f-4945-f91c-16abe6cb2e08"
      },
      "source": [
        "google[\"Close\"].plot(figsize=(17,7), label=\"Close Price\")\n",
        "google.rolling(window=30).mean()[\"Close\"].plot(label=\"Close Price 30d mean\")\n",
        "plt.legend()"
      ],
      "execution_count": null,
      "outputs": [
        {
          "output_type": "execute_result",
          "data": {
            "text/plain": [
              "<matplotlib.legend.Legend at 0x7fa2890fe9d0>"
            ]
          },
          "metadata": {},
          "execution_count": 112
        },
        {
          "output_type": "display_data",
          "data": {
            "image/png": "[encoded data removed]",
            "text/plain": [
              "<Figure size 1224x504 with 1 Axes>"
            ]
          },
          "metadata": {
            "needs_background": "light"
          }
        }
      ]
    },
    {
      "cell_type": "markdown",
      "metadata": {
        "id": "TtrY0_4jwb3e"
      },
      "source": [
        "### Expanding\n",
        "\n",
        "Điều gì sẽ xảy ra nếu bạn muốn xem xét mọi thứ từ đầu chuỗi thời gian dưới dạng giá trị trượt? Ví dụ: không chỉ tính đến khoảng thời gian 7 ngày hoặc trung bình trượt hàng tháng, mà thay vào đó, Tính đến mọi thứ kể từ đầu chuỗi thời gian, liên tục. Ví dụ : \n"
      ]
    },
    {
      "cell_type": "code",
      "metadata": {
        "colab": {
          "base_uri": "https://localhost:8080/",
          "height": 204
        },
        "id": "JIQS8FlywdXG",
        "outputId": "06f4e536-1e4a-4283-dfef-cf6d237a5e47"
      },
      "source": [
        "ex_df =  pd.DataFrame({\"B\": [1, 1, 2, 3, 4]})\n",
        "ex_df"
      ],
      "execution_count": null,
      "outputs": [
        {
          "output_type": "execute_result",
          "data": {
            "text/html": [
              "<div>\n",
              "<style scoped>\n",
              "    .dataframe tbody tr th:only-of-type {\n",
              "        vertical-align: middle;\n",
              "    }\n",
              "\n",
              "    .dataframe tbody tr th {\n",
              "        vertical-align: top;\n",
              "    }\n",
              "\n",
              "    .dataframe thead th {\n",
              "        text-align: right;\n",
              "    }\n",
              "</style>\n",
              "<table border=\"1\" class=\"dataframe\">\n",
              "  <thead>\n",
              "    <tr style=\"text-align: right;\">\n",
              "      <th></th>\n",
              "      <th>B</th>\n",
              "    </tr>\n",
              "  </thead>\n",
              "  <tbody>\n",
              "    <tr>\n",
              "      <th>0</th>\n",
              "      <td>1</td>\n",
              "    </tr>\n",
              "    <tr>\n",
              "      <th>1</th>\n",
              "      <td>1</td>\n",
              "    </tr>\n",
              "    <tr>\n",
              "      <th>2</th>\n",
              "      <td>2</td>\n",
              "    </tr>\n",
              "    <tr>\n",
              "      <th>3</th>\n",
              "      <td>3</td>\n",
              "    </tr>\n",
              "    <tr>\n",
              "      <th>4</th>\n",
              "      <td>4</td>\n",
              "    </tr>\n",
              "  </tbody>\n",
              "</table>\n",
              "</div>"
            ],
            "text/plain": [
              "   B\n",
              "0  1\n",
              "1  1\n",
              "2  2\n",
              "3  3\n",
              "4  4"
            ]
          },
          "metadata": {},
          "execution_count": 113
        }
      ]
    },
    {
      "cell_type": "code",
      "metadata": {
        "colab": {
          "base_uri": "https://localhost:8080/",
          "height": 204
        },
        "id": "ZQHCmhesxJXJ",
        "outputId": "9c442e23-f055-44e2-cf26-147b0fe6d655"
      },
      "source": [
        "ex_df.expanding(2).sum()"
      ],
      "execution_count": null,
      "outputs": [
        {
          "output_type": "execute_result",
          "data": {
            "text/html": [
              "<div>\n",
              "<style scoped>\n",
              "    .dataframe tbody tr th:only-of-type {\n",
              "        vertical-align: middle;\n",
              "    }\n",
              "\n",
              "    .dataframe tbody tr th {\n",
              "        vertical-align: top;\n",
              "    }\n",
              "\n",
              "    .dataframe thead th {\n",
              "        text-align: right;\n",
              "    }\n",
              "</style>\n",
              "<table border=\"1\" class=\"dataframe\">\n",
              "  <thead>\n",
              "    <tr style=\"text-align: right;\">\n",
              "      <th></th>\n",
              "      <th>B</th>\n",
              "    </tr>\n",
              "  </thead>\n",
              "  <tbody>\n",
              "    <tr>\n",
              "      <th>0</th>\n",
              "      <td>NaN</td>\n",
              "    </tr>\n",
              "    <tr>\n",
              "      <th>1</th>\n",
              "      <td>2.0</td>\n",
              "    </tr>\n",
              "    <tr>\n",
              "      <th>2</th>\n",
              "      <td>4.0</td>\n",
              "    </tr>\n",
              "    <tr>\n",
              "      <th>3</th>\n",
              "      <td>7.0</td>\n",
              "    </tr>\n",
              "    <tr>\n",
              "      <th>4</th>\n",
              "      <td>11.0</td>\n",
              "    </tr>\n",
              "  </tbody>\n",
              "</table>\n",
              "</div>"
            ],
            "text/plain": [
              "      B\n",
              "0   NaN\n",
              "1   2.0\n",
              "2   4.0\n",
              "3   7.0\n",
              "4  11.0"
            ]
          },
          "metadata": {},
          "execution_count": 114
        }
      ]
    },
    {
      "cell_type": "code",
      "metadata": {
        "colab": {
          "base_uri": "https://localhost:8080/",
          "height": 415
        },
        "id": "3sTpER39yB29",
        "outputId": "8c06ec65-a5fa-413b-b087-41de637e97d4"
      },
      "source": [
        "google[\"Close\"].expanding(30).mean().plot(figsize=(17,7))"
      ],
      "execution_count": null,
      "outputs": [
        {
          "output_type": "execute_result",
          "data": {
            "text/plain": [
              "<matplotlib.axes._subplots.AxesSubplot at 0x7fa2888c5bd0>"
            ]
          },
          "metadata": {},
          "execution_count": 115
        },
        {
          "output_type": "display_data",
          "data": {
            "image/png": "[encoded data removed]",
            "text/plain": [
              "<Figure size 1224x504 with 1 Axes>"
            ]
          },
          "metadata": {
            "needs_background": "light"
          }
        }
      ]
    },
    {
      "cell_type": "markdown",
      "metadata": {
        "id": "Adphz1l8KbRn"
      },
      "source": [
        "## Bollinger Bands\n",
        "\n",
        "**Bollinger Bands** được phát triển bởi John Bollinger, Bollinger Bands® là các dải biến động được đặt trên và dưới đường trung bình động. Độ biến động dựa trên độ lệch chuẩn, độ lệch này thay đổi khi độ biến động tăng và giảm. Các dải tự động mở rộng khi độ biến động tăng và thu hẹp khi độ biến động giảm. Bản chất động này của Dải Bollinger cũng có nghĩa là chúng có thể được sử dụng trên các chứng khoán khác nhau với các cài đặt tiêu chuẩn. Đối với các tín hiệu, Dải Bollinger có thể được sử dụng để xác định đỉnh và đáy hoặc để xác định sức mạnh của xu hướng.\n",
        "\n",
        "Dải Bollinger phản ánh xu hướng của đường SMA qua 20 kỳ và sự biến động với dải trên / dưới. Như vậy, chúng có thể được sử dụng để xác định xem giá tương đối cao hay thấp. Theo Bollinger, các dải nên chứa 88-89% giá hoạt động, điều này làm cho việc di chuyển bên ngoài dải có ý nghĩa quan trọng. Về mặt kỹ thuật, giá tương đối cao khi nằm ở dải trên và tương đối thấp khi nằm ở dải dưới. Tuy nhiên, mức tương đối cao không nên được coi là giảm giá hoặc là tín hiệu bán. Tương tự như vậy, mức tương đối thấp không nên được coi là xu hướng tăng hoặc là tín hiệu mua. Giá cao hay thấp đều có lý do. Cũng như các chỉ số báo cáo khác, Dải Bollinger không được sử dụng như một công cụ độc lập.\n",
        "\n",
        "Công thức : \n",
        "```\n",
        "BOLU=MA(TP,n)+m∗σ[TP,n]\n",
        "BOLD=MA(TP,n)−m∗σ[TP,n]\n",
        "where:\n",
        "BOLU=Upper Bollinger Band\n",
        "BOLD=Lower Bollinger Band\n",
        "MA=Moving average\n",
        "TP (typical price)=(High+Low+Close)÷3\n",
        "n=Number of days in smoothing period (typically 20)\n",
        "m=Number of standard deviations (typically 2)\n",
        "σ[TP,n]=Standard Deviation over last n periods of TP\n",
        "​```\n"
      ]
    },
    {
      "cell_type": "markdown",
      "metadata": {
        "id": "caaK9n1vOBrg"
      },
      "source": [
        "### Google Stock"
      ]
    },
    {
      "cell_type": "code",
      "metadata": {
        "colab": {
          "base_uri": "https://localhost:8080/",
          "height": 398
        },
        "id": "gH_YQU7cMaxQ",
        "outputId": "590b04c2-c7e9-4cfa-edbc-9e108d51ed27"
      },
      "source": [
        "google[\"Close : 20 days Mean\"] = google[\"Close\"].rolling(20).mean()\n",
        "google[\"Upper\"] = google[\"Close : 20 days Mean\"] + 2 * google[\"Close\"].rolling(20).std()\n",
        "google[\"Lower\"] = google[\"Close : 20 days Mean\"] - 2 * google[\"Close\"].rolling(20).std()\n",
        "google[[\"Close\", \"Close : 20 days Mean\", \"Upper\", \"Lower\"]].plot(figsize=(20,8))\n",
        "plt.fill_between(google.index, google[\"Upper\"], google[\"Lower\"], alpha=0.1)"
      ],
      "execution_count": null,
      "outputs": [
        {
          "output_type": "execute_result",
          "data": {
            "text/plain": [
              "<matplotlib.collections.PolyCollection at 0x7fa2866339d0>"
            ]
          },
          "metadata": {},
          "execution_count": 139
        },
        {
          "output_type": "display_data",
          "data": {
            "image/png": "[encoded data removed]",
            "text/plain": [
              "<Figure size 1440x576 with 1 Axes>"
            ]
          },
          "metadata": {
            "needs_background": "light"
          }
        }
      ]
    },
    {
      "cell_type": "markdown",
      "metadata": {
        "id": "X_1VxGyAN_zH"
      },
      "source": [
        "### Walmart Stock "
      ]
    },
    {
      "cell_type": "code",
      "metadata": {
        "colab": {
          "base_uri": "https://localhost:8080/"
        },
        "id": "fex5BhExORP5",
        "outputId": "5029439a-9cb4-4731-9efb-3ac6576f63e6"
      },
      "source": [
        "!wget https://gist.githubusercontent.com/mthang1801/4a51e73e036e33ce81a476fc52861e3a/raw/14072167ea428db5331a8335801cb921ede607fc/walmart_stock"
      ],
      "execution_count": null,
      "outputs": [
        {
          "output_type": "stream",
          "name": "stdout",
          "text": [
            "--2021-10-02 04:21:16--  https://gist.githubusercontent.com/mthang1801/4a51e73e036e33ce81a476fc52861e3a/raw/14072167ea428db5331a8335801cb921ede607fc/walmart_stock\n",
            "Resolving gist.githubusercontent.com (gist.githubusercontent.com)... 185.199.109.133, 185.199.111.133, 185.199.108.133, ...\n",
            "Connecting to gist.githubusercontent.com (gist.githubusercontent.com)|185.199.109.133|:443... connected.\n",
            "HTTP request sent, awaiting response... 200 OK\n",
            "Length: 90265 (88K) [text/plain]\n",
            "Saving to: ‘walmart_stock’\n",
            "\n",
            "\rwalmart_stock         0%[                    ]       0  --.-KB/s               \rwalmart_stock       100%[===================>]  88.15K  --.-KB/s    in 0.009s  \n",
            "\n",
            "2021-10-02 04:21:16 (9.72 MB/s) - ‘walmart_stock’ saved [90265/90265]\n",
            "\n"
          ]
        }
      ]
    },
    {
      "cell_type": "code",
      "metadata": {
        "colab": {
          "base_uri": "https://localhost:8080/",
          "height": 235
        },
        "id": "B4sntONdPBo_",
        "outputId": "3ade7077-0214-41b9-a425-28956a18966e"
      },
      "source": [
        "walmart = pd.read_csv(\"walmart_stock\", parse_dates=True, index_col=\"Date\")\n",
        "walmart.head()"
      ],
      "execution_count": null,
      "outputs": [
        {
          "output_type": "execute_result",
          "data": {
            "text/html": [
              "<div>\n",
              "<style scoped>\n",
              "    .dataframe tbody tr th:only-of-type {\n",
              "        vertical-align: middle;\n",
              "    }\n",
              "\n",
              "    .dataframe tbody tr th {\n",
              "        vertical-align: top;\n",
              "    }\n",
              "\n",
              "    .dataframe thead th {\n",
              "        text-align: right;\n",
              "    }\n",
              "</style>\n",
              "<table border=\"1\" class=\"dataframe\">\n",
              "  <thead>\n",
              "    <tr style=\"text-align: right;\">\n",
              "      <th></th>\n",
              "      <th>Open</th>\n",
              "      <th>High</th>\n",
              "      <th>Low</th>\n",
              "      <th>Close</th>\n",
              "      <th>Volume</th>\n",
              "      <th>Adj Close</th>\n",
              "    </tr>\n",
              "    <tr>\n",
              "      <th>Date</th>\n",
              "      <th></th>\n",
              "      <th></th>\n",
              "      <th></th>\n",
              "      <th></th>\n",
              "      <th></th>\n",
              "      <th></th>\n",
              "    </tr>\n",
              "  </thead>\n",
              "  <tbody>\n",
              "    <tr>\n",
              "      <th>2012-01-03</th>\n",
              "      <td>59.970001</td>\n",
              "      <td>61.060001</td>\n",
              "      <td>59.869999</td>\n",
              "      <td>60.330002</td>\n",
              "      <td>12668800</td>\n",
              "      <td>52.619235</td>\n",
              "    </tr>\n",
              "    <tr>\n",
              "      <th>2012-01-04</th>\n",
              "      <td>60.209999</td>\n",
              "      <td>60.349998</td>\n",
              "      <td>59.470001</td>\n",
              "      <td>59.709999</td>\n",
              "      <td>9593300</td>\n",
              "      <td>52.078475</td>\n",
              "    </tr>\n",
              "    <tr>\n",
              "      <th>2012-01-05</th>\n",
              "      <td>59.349998</td>\n",
              "      <td>59.619999</td>\n",
              "      <td>58.369999</td>\n",
              "      <td>59.419998</td>\n",
              "      <td>12768200</td>\n",
              "      <td>51.825539</td>\n",
              "    </tr>\n",
              "    <tr>\n",
              "      <th>2012-01-06</th>\n",
              "      <td>59.419998</td>\n",
              "      <td>59.450001</td>\n",
              "      <td>58.869999</td>\n",
              "      <td>59.000000</td>\n",
              "      <td>8069400</td>\n",
              "      <td>51.459220</td>\n",
              "    </tr>\n",
              "    <tr>\n",
              "      <th>2012-01-09</th>\n",
              "      <td>59.029999</td>\n",
              "      <td>59.549999</td>\n",
              "      <td>58.919998</td>\n",
              "      <td>59.180000</td>\n",
              "      <td>6679300</td>\n",
              "      <td>51.616215</td>\n",
              "    </tr>\n",
              "  </tbody>\n",
              "</table>\n",
              "</div>"
            ],
            "text/plain": [
              "                 Open       High        Low      Close    Volume  Adj Close\n",
              "Date                                                                       \n",
              "2012-01-03  59.970001  61.060001  59.869999  60.330002  12668800  52.619235\n",
              "2012-01-04  60.209999  60.349998  59.470001  59.709999   9593300  52.078475\n",
              "2012-01-05  59.349998  59.619999  58.369999  59.419998  12768200  51.825539\n",
              "2012-01-06  59.419998  59.450001  58.869999  59.000000   8069400  51.459220\n",
              "2012-01-09  59.029999  59.549999  58.919998  59.180000   6679300  51.616215"
            ]
          },
          "metadata": {},
          "execution_count": 128
        }
      ]
    },
    {
      "cell_type": "code",
      "metadata": {
        "colab": {
          "base_uri": "https://localhost:8080/",
          "height": 401
        },
        "id": "JHcfsvYfPHsE",
        "outputId": "5b7acbcf-640d-4c8e-fd45-fa86119f418b"
      },
      "source": [
        "walmart[\"Close : 20 days Mean\"] = walmart[\"Close\"].rolling(20).mean()\n",
        "walmart[\"Upper\"] = walmart[\"Close : 20 days Mean\"] + 2 * walmart[\"Close\"].rolling(20).std()\n",
        "walmart[\"Lower\"] = walmart[\"Close : 20 days Mean\"] - 2 * walmart[\"Close\"].rolling(20).std()\n",
        "walmart[[\"Close\", \"Close : 20 days Mean\", \"Upper\", \"Lower\"]].plot(figsize=(20,8))\n"
      ],
      "execution_count": null,
      "outputs": [
        {
          "output_type": "execute_result",
          "data": {
            "text/plain": [
              "<matplotlib.axes._subplots.AxesSubplot at 0x7fa2864be850>"
            ]
          },
          "metadata": {},
          "execution_count": 141
        },
        {
          "output_type": "display_data",
          "data": {
            "image/png": "[encoded data removed]",
            "text/plain": [
              "<Figure size 1440x576 with 1 Axes>"
            ]
          },
          "metadata": {
            "needs_background": "light"
          }
        }
      ]
    }
  ]
}