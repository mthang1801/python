{
  "nbformat": 4,
  "nbformat_minor": 0,
  "metadata": {
    "colab": {
      "name": "Finance_fundamental_part3_capm.ipynb",
      "provenance": [],
      "toc_visible": true
    },
    "kernelspec": {
      "name": "python3",
      "display_name": "Python 3"
    },
    "language_info": {
      "name": "python"
    }
  },
  "cells": [
    {
      "cell_type": "markdown",
      "metadata": {
        "id": "Ujw8_7bvSg9B"
      },
      "source": [
        "## Mô hình định giá tài sản vốn (CAPM)\n",
        "\n",
        "Trong phần trước, danh mục đầu tư là một tập hợp các chứng khoán có trọng số (mỗi chứng khoán được đầu tư với một tỷ lệ nhất định). Chúng ta có thể xác định lợi nhuận của danh mục bằng cách lấy tổng các lợi nhuận đầu tư của từng cổ phiếu tương ứng với tỉ lệ đầu tư của nó. Công thức đó như sau: \n",
        "\n",
        "$r_p(t) = \\sum_i^n w_ir_i(t)$ \n",
        "\n",
        "với : \n",
        "+ $r_p(t) $ : lợi nhuận  của danh mục ở thời điểm t \n",
        "+ $w_i $ : trọng số hay tỷ lệ đầu tư vào chứng khoán thứ i \n",
        "+ $r_i(t) $ : lợi nhuận của cổ phiếu thứ i \n",
        "\n",
        "Chúng ta có thể tưởng tượng rằng toàn bộ thị trường như một danh mục(chẳng hạn **S&P500**). Để lấy được tỷ lệ cổ phiếu trong danh mục, ta có thể sử dụng vốn hóa thị trường của cổ phiếu đó chia cho tổng vốn hóa thị trường của toàn bộ danh mục:\n",
        "\n",
        "### $w_i = \\frac{MarketCap_i}{\\sum_j^nMarketCap_i}$\n",
        "\n",
        "\n",
        "**Mô hình định giá tài sản vốn (CAPM)** là mô hình định giá mô tả mối quan hệ giữa rủi ro hệ thống và lợi nhuận kì vọng của tài sản, đặc biệt là cổ phiếu. \n",
        "\n",
        "Trong đó, rủi ro hệ thống là rủi ro cố hữu đối với toàn bộ thị trường hoặc phân khúc thị trường. Loại rủi ro này là không thể dự đoán và không thể tránh hoàn toàn. Ví dụ như rủi ro thay đổi chính sách của chính phủ, rủi ro đến từ các điều kiện tự nhiên (bão lụt, hạn hán...)\n",
        "\n",
        "Phương trình CAPM phát biểu như sau:\n",
        "\n",
        "$r_i(t) = \\beta_ir_m(t) + \\alpha_i(t)$\n",
        "\n",
        "với : \n",
        "+ $r_i(t)$ : Lợi nhuận cổ phiếu i tại thời điểm t \n",
        "+ $\\beta_i$ : Hệ số độ dốc (độ nhạy) của cổ phiếu i \n",
        "+ $\\alpha_i$ : Hệ số chặn của cổ phiếu i\n",
        "\n",
        "Phương trình trên phát biểu rằng lợi nhuận của một cổ phiếu tương đương với lợi nhuận của thị trường nhân với hệ số Beta cộng với một số  alpha còn lại.\n",
        "\n",
        "![](https://people.duke.edu/~charvey/classes/ba350/riskman/rm13.gif)\n",
        "\n",
        "Vì lợi nhuận của một cổ phiếu i sẽ không hoàn toàn chính xác với beta, chúng ta cần thêm hệ số chặn alpha. Với CAPM, alpha là một hệ số ngẫu nhiện không dự đoán trước được, nó được kỳ vọng bằng 0 để thể đánh bại thị trường chung.\n",
        "\n",
        "Đó là lợi nhuận của cổ phiếu i theo phương trình CAPM, từ ý tưởng đó, chúng ta có thể áp dụng để tính lợi nhuận cho cả danh mục (gồm nhiều cổ phiếu ) như sau : \n",
        "\n",
        "$r_p(t) =\\beta_pr_m(t) + \\sum_i^n\\alpha_iw_i(t)$\n",
        "\n",
        "Beta có thể chia thành các Beta khác nhau cho từng lĩnh vực của thị trường (Năng lượng, Sản xuất, Công nghệ, Tài chính, v.v.)\n",
        "\n",
        "Điểm chính ở đây chúng ta muốn tìm hiểu là sẽ có một số mối quan hệ giữa lợi tức danh mục đầu tư và lợi nhuận thị trường tổng thể.\n",
        "\n",
        "Ngoài phương trình trên, CAPM còn có một biến thể khác : \n",
        "\n",
        "$E(r_i) = r_f + \\beta_i * (E(r_m) - r_f)$\n",
        "\n",
        "Với : \n",
        "+ $E(r_i)$ : Lợi nhuận kỳ vọng của cổ phiếu i \n",
        "+ $r_f$ : Lãi suất phi rủi ro của thị trường\n",
        "+ $E(r_m)$ : Lợi nhuận kỳ vọng của thị trường \n",
        "+ $r_f$ : Lợi nhuận phi rủi ro\n",
        "+ βi : Độ nhạy của chứng khoán đối với thay đổi của thị trường\n",
        "  + βi =1: Biến thiên bằng thị trường, rủi ro bằng mức trung bình của thị trường\n",
        "  + βi > 1: Rủi ro cao hơn mức trung bình của thị trường\n",
        "  + βi <1: Rủi ro thấp hơn mức trung bình của thị trường\n",
        "\n",
        "\n",
        "\n",
        "\n",
        "\n",
        "\n",
        "\n",
        "\n",
        "\n",
        "\n",
        "\n",
        "\n",
        "\n",
        "\n",
        " \n",
        "\n",
        "\n",
        "\n",
        "\n",
        "\n",
        "\n",
        "\n"
      ]
    },
    {
      "cell_type": "markdown",
      "metadata": {
        "id": "hIY8nKVJAkrh"
      },
      "source": [
        "### Hệ số Beta\n",
        "\n",
        "Hệ số Beta là đại lượng đo lường mức độ rủi ro của cổ phiếu\n",
        "\n",
        "Có rất nhiều quan điểm về rủi ro nói chung của cổ phiếu, theo CAPM model thì rủi ro ở đây được hiểu là mức độ biến động của cổ phiếu so với thị trường chung.\n",
        "\n",
        "Theo đó nếu Beta càng lớn, cổ phiếu sẽ biến động so với thị trường càng mạnh và đương nhiên cổ phiếu sẽ càng rủi ro.\n",
        "\n",
        "Trở lại với CAPM, một số mốc Beta đặc biệt bạn nên chú ý:\n",
        "\n",
        "+ β =1: Cổ phiếu biến thiên bằng thị trường, rủi ro bằng mức trung bình của thị trường. Ví dụ khi chỉ số VNI tăng 1% thì cổ phiếu sẽ tăng 1%.\n",
        "+ β > 1: Rủi ro cao hơn mức trung bình của thị trường. Ví dụ nếu β = 1.5, VNI tăng 1% thì cổ phiếu sẽ tăng 1.5% \n",
        "+ β < 1 : : Rủi ro thấp hơn mức trung bình của thị trường. Ví dụ:  β = 0.8 khi VNI tăng 1% thì cổ phiếu tăng 0.8% \n",
        "\n",
        "**Cách tính chỉ số Beta** : \n",
        "\n",
        "### $\\beta = \\frac{Cov(R_i, R_m)}{var(R_m)}$\n",
        "\n",
        "### $Cov(R_i,R_m) = \\frac{\\sum(R_{i,n}-R_{i,avg}) * (R_{m,n}-R_{m,avg})}{(n-1)}$\n",
        "\n",
        "với : \n",
        "+ $R_m$ : lãi suất thị trường\n",
        "+ $R_i$ : lãi suất cổ phiếu i\n",
        "\n",
        "\n",
        "\n",
        "\n",
        "\n"
      ]
    },
    {
      "cell_type": "markdown",
      "metadata": {
        "id": "vUuG_jEzAox4"
      },
      "source": [
        "### Một số điểm hạn chế của mô hình CAPM\n",
        "\n",
        "+ Nhiều giả định phụ thuộc chủ quan vào người tính như Risk premium, mốc thời gian để tính Beta,…\n",
        "+ Dễ thay đổi ở những thời điểm định giá khác nhau.\n",
        "+ Tương đối khó tính đối với những người mới tham gia thị trường chứng khoán.\n",
        "+ Nhiều nghiên cứu trong thực tế đã chỉ ra CAPM còn nhiều bất cập, đôi khi là chưa chính xác.\n",
        "\n",
        "Do đó, dù có được tính theo cách nào, sử dụng giả các dữ liệu có sẵn hay tự đặt cho mình lợi nhuận kỳ vọng riêng…\n",
        "\n",
        "Điều quan trọng nhất vẫn là mức độ chịu đựng rủi ro, am hiểu doanh nghiệ.\n",
        "\n",
        "Không nên áp dụng quá cứng nhắc các chỉ tiêu trong mô hình CAPM với toàn bộ doanh nghiệp.\n",
        "\n"
      ]
    },
    {
      "cell_type": "markdown",
      "metadata": {
        "id": "dUSGmctNaeIR"
      },
      "source": [
        "### Xây dựng mô hình\n",
        "\n",
        "Chúng ta sẽ xây dựng mô hình định giá tài sản vốn cho cổ phiếu của công ty Google, trên quỹ S&P500 (thị trường) . "
      ]
    },
    {
      "cell_type": "code",
      "metadata": {
        "id": "y-XOvhuzF6jL"
      },
      "source": [
        "# Mô hình CAPM dưới dạng hồi quy tuyến tính đơn giản\n",
        "from scipy import stats"
      ],
      "execution_count": 1,
      "outputs": []
    },
    {
      "cell_type": "code",
      "metadata": {
        "colab": {
          "base_uri": "https://localhost:8080/"
        },
        "id": "aHgeQl8XIU2f",
        "outputId": "e60fb790-2043-4e61-934b-91e6f1fc8155"
      },
      "source": [
        "help(stats.linregress)"
      ],
      "execution_count": 2,
      "outputs": [
        {
          "output_type": "stream",
          "name": "stdout",
          "text": [
            "Help on function linregress in module scipy.stats._stats_mstats_common:\n",
            "\n",
            "linregress(x, y=None)\n",
            "    Calculate a linear least-squares regression for two sets of measurements.\n",
            "    \n",
            "    Parameters\n",
            "    ----------\n",
            "    x, y : array_like\n",
            "        Two sets of measurements.  Both arrays should have the same length.  If\n",
            "        only `x` is given (and ``y=None``), then it must be a two-dimensional\n",
            "        array where one dimension has length 2.  The two sets of measurements\n",
            "        are then found by splitting the array along the length-2 dimension.  In\n",
            "        the case where ``y=None`` and `x` is a 2x2 array, ``linregress(x)`` is\n",
            "        equivalent to ``linregress(x[0], x[1])``.\n",
            "    \n",
            "    Returns\n",
            "    -------\n",
            "    slope : float\n",
            "        Slope of the regression line.\n",
            "    intercept : float\n",
            "        Intercept of the regression line.\n",
            "    rvalue : float\n",
            "        Correlation coefficient.\n",
            "    pvalue : float\n",
            "        Two-sided p-value for a hypothesis test whose null hypothesis is\n",
            "        that the slope is zero, using Wald Test with t-distribution of\n",
            "        the test statistic.\n",
            "    stderr : float\n",
            "        Standard error of the estimated gradient.\n",
            "    \n",
            "    See also\n",
            "    --------\n",
            "    :func:`scipy.optimize.curve_fit` : Use non-linear\n",
            "     least squares to fit a function to data.\n",
            "    :func:`scipy.optimize.leastsq` : Minimize the sum of\n",
            "     squares of a set of equations.\n",
            "    \n",
            "    Notes\n",
            "    -----\n",
            "    Missing values are considered pair-wise: if a value is missing in `x`,\n",
            "    the corresponding value in `y` is masked.\n",
            "    \n",
            "    Examples\n",
            "    --------\n",
            "    >>> import matplotlib.pyplot as plt\n",
            "    >>> from scipy import stats\n",
            "    \n",
            "    Generate some data:\n",
            "    \n",
            "    >>> np.random.seed(12345678)\n",
            "    >>> x = np.random.random(10)\n",
            "    >>> y = 1.6*x + np.random.random(10)\n",
            "    \n",
            "    Perform the linear regression:\n",
            "    \n",
            "    >>> slope, intercept, r_value, p_value, std_err = stats.linregress(x, y)\n",
            "    >>> print(\"slope: %f    intercept: %f\" % (slope, intercept))\n",
            "    slope: 1.944864    intercept: 0.268578\n",
            "    \n",
            "    To get coefficient of determination (R-squared):\n",
            "    \n",
            "    >>> print(\"R-squared: %f\" % r_value**2)\n",
            "    R-squared: 0.735498\n",
            "    \n",
            "    Plot the data along with the fitted line:\n",
            "    \n",
            "    >>> plt.plot(x, y, 'o', label='original data')\n",
            "    >>> plt.plot(x, intercept + slope*x, 'r', label='fitted line')\n",
            "    >>> plt.legend()\n",
            "    >>> plt.show()\n",
            "    \n",
            "    Example for the case where only x is provided as a 2x2 array:\n",
            "    \n",
            "    >>> x = np.array([[0, 1], [0, 2]])\n",
            "    >>> r = stats.linregress(x)\n",
            "    >>> r.slope, r.intercept\n",
            "    (2.0, 0.0)\n",
            "\n"
          ]
        }
      ]
    },
    {
      "cell_type": "code",
      "metadata": {
        "id": "p2eCeA5_IXjU"
      },
      "source": [
        "import numpy as np \n",
        "import pandas as pd \n",
        "import matplotlib.pyplot as plt \n",
        "%matplotlib inline"
      ],
      "execution_count": 3,
      "outputs": []
    },
    {
      "cell_type": "code",
      "metadata": {
        "colab": {
          "base_uri": "https://localhost:8080/"
        },
        "id": "TvyJIaiXIrRn",
        "outputId": "455dd45a-ad12-4e1a-993c-cee05f87b248"
      },
      "source": [
        "!wget https://gist.githubusercontent.com/mthang1801/e87fcc3a55f4c057275ca7d6b148f7b1/raw/bc11ec9c90e370c7e24f95619b51f5cbd56a9d4d/GOOG.csv\n",
        "!wget https://gist.githubusercontent.com/mthang1801/450f3a81e65a4ef1a1123788fb993b6c/raw/58713bf34f58a3c2251c7d1cb125c1036cbab7d3/SPY.csv"
      ],
      "execution_count": 4,
      "outputs": [
        {
          "output_type": "stream",
          "name": "stdout",
          "text": [
            "--2021-10-05 12:25:45--  https://gist.githubusercontent.com/mthang1801/e87fcc3a55f4c057275ca7d6b148f7b1/raw/bc11ec9c90e370c7e24f95619b51f5cbd56a9d4d/GOOG.csv\n",
            "Resolving gist.githubusercontent.com (gist.githubusercontent.com)... 185.199.108.133, 185.199.110.133, 185.199.111.133, ...\n",
            "Connecting to gist.githubusercontent.com (gist.githubusercontent.com)|185.199.108.133|:443... connected.\n",
            "HTTP request sent, awaiting response... 200 OK\n",
            "Length: 186368 (182K) [text/plain]\n",
            "Saving to: ‘GOOG.csv’\n",
            "\n",
            "GOOG.csv            100%[===================>] 182.00K  --.-KB/s    in 0.02s   \n",
            "\n",
            "2021-10-05 12:25:45 (11.7 MB/s) - ‘GOOG.csv’ saved [186368/186368]\n",
            "\n",
            "--2021-10-05 12:25:45--  https://gist.githubusercontent.com/mthang1801/450f3a81e65a4ef1a1123788fb993b6c/raw/58713bf34f58a3c2251c7d1cb125c1036cbab7d3/SPY.csv\n",
            "Resolving gist.githubusercontent.com (gist.githubusercontent.com)... 185.199.108.133, 185.199.110.133, 185.199.111.133, ...\n",
            "Connecting to gist.githubusercontent.com (gist.githubusercontent.com)|185.199.108.133|:443... connected.\n",
            "HTTP request sent, awaiting response... 200 OK\n",
            "Length: 185180 (181K) [text/plain]\n",
            "Saving to: ‘SPY.csv’\n",
            "\n",
            "SPY.csv             100%[===================>] 180.84K  --.-KB/s    in 0.01s   \n",
            "\n",
            "2021-10-05 12:25:45 (14.2 MB/s) - ‘SPY.csv’ saved [185180/185180]\n",
            "\n"
          ]
        }
      ]
    },
    {
      "cell_type": "code",
      "metadata": {
        "id": "0EmvlkYGW1CI"
      },
      "source": [
        "goog = pd.read_csv(\"GOOG.csv\", parse_dates=True, index_col=[\"Date\"])\n",
        "spy_etf = pd.read_csv(\"SPY.csv\", parse_dates=True, index_col=[\"Date\"])"
      ],
      "execution_count": 5,
      "outputs": []
    },
    {
      "cell_type": "code",
      "metadata": {
        "id": "ak57Jas9W5_a"
      },
      "source": [
        "start_date = pd.to_datetime(\"2016-01-01\")\n",
        "end_date = pd.to_datetime(\"2018-10-01\")"
      ],
      "execution_count": 6,
      "outputs": []
    },
    {
      "cell_type": "code",
      "metadata": {
        "id": "YXk-hVupZOXo"
      },
      "source": [
        "goog = goog[start_date : end_date]\n",
        "spy_etf = spy_etf[start_date : end_date]\n"
      ],
      "execution_count": 7,
      "outputs": []
    },
    {
      "cell_type": "code",
      "metadata": {
        "colab": {
          "base_uri": "https://localhost:8080/",
          "height": 450
        },
        "id": "z32f-7R_aE4x",
        "outputId": "f1ab2ed5-99b2-471b-ab3f-92c3c09eb178"
      },
      "source": [
        "goog"
      ],
      "execution_count": 8,
      "outputs": [
        {
          "output_type": "execute_result",
          "data": {
            "text/html": [
              "<div>\n",
              "<style scoped>\n",
              "    .dataframe tbody tr th:only-of-type {\n",
              "        vertical-align: middle;\n",
              "    }\n",
              "\n",
              "    .dataframe tbody tr th {\n",
              "        vertical-align: top;\n",
              "    }\n",
              "\n",
              "    .dataframe thead th {\n",
              "        text-align: right;\n",
              "    }\n",
              "</style>\n",
              "<table border=\"1\" class=\"dataframe\">\n",
              "  <thead>\n",
              "    <tr style=\"text-align: right;\">\n",
              "      <th></th>\n",
              "      <th>Open</th>\n",
              "      <th>High</th>\n",
              "      <th>Low</th>\n",
              "      <th>Close</th>\n",
              "      <th>Adj Close</th>\n",
              "      <th>Volume</th>\n",
              "    </tr>\n",
              "    <tr>\n",
              "      <th>Date</th>\n",
              "      <th></th>\n",
              "      <th></th>\n",
              "      <th></th>\n",
              "      <th></th>\n",
              "      <th></th>\n",
              "      <th></th>\n",
              "    </tr>\n",
              "  </thead>\n",
              "  <tbody>\n",
              "    <tr>\n",
              "      <th>2016-01-04</th>\n",
              "      <td>743.000000</td>\n",
              "      <td>744.059998</td>\n",
              "      <td>731.257996</td>\n",
              "      <td>741.840027</td>\n",
              "      <td>741.840027</td>\n",
              "      <td>3272800</td>\n",
              "    </tr>\n",
              "    <tr>\n",
              "      <th>2016-01-05</th>\n",
              "      <td>746.450012</td>\n",
              "      <td>752.000000</td>\n",
              "      <td>738.640015</td>\n",
              "      <td>742.580017</td>\n",
              "      <td>742.580017</td>\n",
              "      <td>1950700</td>\n",
              "    </tr>\n",
              "    <tr>\n",
              "      <th>2016-01-06</th>\n",
              "      <td>730.000000</td>\n",
              "      <td>747.179993</td>\n",
              "      <td>728.919983</td>\n",
              "      <td>743.619995</td>\n",
              "      <td>743.619995</td>\n",
              "      <td>1947000</td>\n",
              "    </tr>\n",
              "    <tr>\n",
              "      <th>2016-01-07</th>\n",
              "      <td>730.309998</td>\n",
              "      <td>738.500000</td>\n",
              "      <td>719.059998</td>\n",
              "      <td>726.390015</td>\n",
              "      <td>726.390015</td>\n",
              "      <td>2963700</td>\n",
              "    </tr>\n",
              "    <tr>\n",
              "      <th>2016-01-08</th>\n",
              "      <td>731.450012</td>\n",
              "      <td>733.229980</td>\n",
              "      <td>713.000000</td>\n",
              "      <td>714.469971</td>\n",
              "      <td>714.469971</td>\n",
              "      <td>2450900</td>\n",
              "    </tr>\n",
              "    <tr>\n",
              "      <th>...</th>\n",
              "      <td>...</td>\n",
              "      <td>...</td>\n",
              "      <td>...</td>\n",
              "      <td>...</td>\n",
              "      <td>...</td>\n",
              "      <td>...</td>\n",
              "    </tr>\n",
              "    <tr>\n",
              "      <th>2018-09-25</th>\n",
              "      <td>1176.150024</td>\n",
              "      <td>1186.880005</td>\n",
              "      <td>1168.000000</td>\n",
              "      <td>1184.650024</td>\n",
              "      <td>1184.650024</td>\n",
              "      <td>977700</td>\n",
              "    </tr>\n",
              "    <tr>\n",
              "      <th>2018-09-26</th>\n",
              "      <td>1185.150024</td>\n",
              "      <td>1194.229980</td>\n",
              "      <td>1174.765015</td>\n",
              "      <td>1180.489990</td>\n",
              "      <td>1180.489990</td>\n",
              "      <td>1462300</td>\n",
              "    </tr>\n",
              "    <tr>\n",
              "      <th>2018-09-27</th>\n",
              "      <td>1186.729980</td>\n",
              "      <td>1202.099976</td>\n",
              "      <td>1183.630005</td>\n",
              "      <td>1194.640015</td>\n",
              "      <td>1194.640015</td>\n",
              "      <td>1260800</td>\n",
              "    </tr>\n",
              "    <tr>\n",
              "      <th>2018-09-28</th>\n",
              "      <td>1191.869995</td>\n",
              "      <td>1195.410034</td>\n",
              "      <td>1184.500000</td>\n",
              "      <td>1193.469971</td>\n",
              "      <td>1193.469971</td>\n",
              "      <td>1380600</td>\n",
              "    </tr>\n",
              "    <tr>\n",
              "      <th>2018-10-01</th>\n",
              "      <td>1199.890015</td>\n",
              "      <td>1209.900024</td>\n",
              "      <td>1190.300049</td>\n",
              "      <td>1195.310059</td>\n",
              "      <td>1195.310059</td>\n",
              "      <td>1357600</td>\n",
              "    </tr>\n",
              "  </tbody>\n",
              "</table>\n",
              "<p>692 rows × 6 columns</p>\n",
              "</div>"
            ],
            "text/plain": [
              "                   Open         High  ...    Adj Close   Volume\n",
              "Date                                  ...                      \n",
              "2016-01-04   743.000000   744.059998  ...   741.840027  3272800\n",
              "2016-01-05   746.450012   752.000000  ...   742.580017  1950700\n",
              "2016-01-06   730.000000   747.179993  ...   743.619995  1947000\n",
              "2016-01-07   730.309998   738.500000  ...   726.390015  2963700\n",
              "2016-01-08   731.450012   733.229980  ...   714.469971  2450900\n",
              "...                 ...          ...  ...          ...      ...\n",
              "2018-09-25  1176.150024  1186.880005  ...  1184.650024   977700\n",
              "2018-09-26  1185.150024  1194.229980  ...  1180.489990  1462300\n",
              "2018-09-27  1186.729980  1202.099976  ...  1194.640015  1260800\n",
              "2018-09-28  1191.869995  1195.410034  ...  1193.469971  1380600\n",
              "2018-10-01  1199.890015  1209.900024  ...  1195.310059  1357600\n",
              "\n",
              "[692 rows x 6 columns]"
            ]
          },
          "metadata": {},
          "execution_count": 8
        }
      ]
    },
    {
      "cell_type": "code",
      "metadata": {
        "colab": {
          "base_uri": "https://localhost:8080/",
          "height": 450
        },
        "id": "spSDAg5uaHkP",
        "outputId": "62766a02-852d-472a-9348-b7644fc611f0"
      },
      "source": [
        "spy_etf"
      ],
      "execution_count": 9,
      "outputs": [
        {
          "output_type": "execute_result",
          "data": {
            "text/html": [
              "<div>\n",
              "<style scoped>\n",
              "    .dataframe tbody tr th:only-of-type {\n",
              "        vertical-align: middle;\n",
              "    }\n",
              "\n",
              "    .dataframe tbody tr th {\n",
              "        vertical-align: top;\n",
              "    }\n",
              "\n",
              "    .dataframe thead th {\n",
              "        text-align: right;\n",
              "    }\n",
              "</style>\n",
              "<table border=\"1\" class=\"dataframe\">\n",
              "  <thead>\n",
              "    <tr style=\"text-align: right;\">\n",
              "      <th></th>\n",
              "      <th>Open</th>\n",
              "      <th>High</th>\n",
              "      <th>Low</th>\n",
              "      <th>Close</th>\n",
              "      <th>Adj Close</th>\n",
              "      <th>Volume</th>\n",
              "    </tr>\n",
              "    <tr>\n",
              "      <th>Date</th>\n",
              "      <th></th>\n",
              "      <th></th>\n",
              "      <th></th>\n",
              "      <th></th>\n",
              "      <th></th>\n",
              "      <th></th>\n",
              "    </tr>\n",
              "  </thead>\n",
              "  <tbody>\n",
              "    <tr>\n",
              "      <th>2016-01-04</th>\n",
              "      <td>200.490005</td>\n",
              "      <td>201.029999</td>\n",
              "      <td>198.589996</td>\n",
              "      <td>201.020004</td>\n",
              "      <td>180.745560</td>\n",
              "      <td>222353500</td>\n",
              "    </tr>\n",
              "    <tr>\n",
              "      <th>2016-01-05</th>\n",
              "      <td>201.399994</td>\n",
              "      <td>201.899994</td>\n",
              "      <td>200.050003</td>\n",
              "      <td>201.360001</td>\n",
              "      <td>181.051285</td>\n",
              "      <td>110845800</td>\n",
              "    </tr>\n",
              "    <tr>\n",
              "      <th>2016-01-06</th>\n",
              "      <td>198.339996</td>\n",
              "      <td>200.059998</td>\n",
              "      <td>197.600006</td>\n",
              "      <td>198.820007</td>\n",
              "      <td>178.767456</td>\n",
              "      <td>152112600</td>\n",
              "    </tr>\n",
              "    <tr>\n",
              "      <th>2016-01-07</th>\n",
              "      <td>195.330002</td>\n",
              "      <td>197.440002</td>\n",
              "      <td>193.589996</td>\n",
              "      <td>194.050003</td>\n",
              "      <td>174.478561</td>\n",
              "      <td>213436100</td>\n",
              "    </tr>\n",
              "    <tr>\n",
              "      <th>2016-01-08</th>\n",
              "      <td>195.190002</td>\n",
              "      <td>195.850006</td>\n",
              "      <td>191.580002</td>\n",
              "      <td>191.919998</td>\n",
              "      <td>172.563385</td>\n",
              "      <td>209817200</td>\n",
              "    </tr>\n",
              "    <tr>\n",
              "      <th>...</th>\n",
              "      <td>...</td>\n",
              "      <td>...</td>\n",
              "      <td>...</td>\n",
              "      <td>...</td>\n",
              "      <td>...</td>\n",
              "      <td>...</td>\n",
              "    </tr>\n",
              "    <tr>\n",
              "      <th>2018-09-25</th>\n",
              "      <td>291.529999</td>\n",
              "      <td>291.649994</td>\n",
              "      <td>290.480011</td>\n",
              "      <td>290.750000</td>\n",
              "      <td>275.791473</td>\n",
              "      <td>44370000</td>\n",
              "    </tr>\n",
              "    <tr>\n",
              "      <th>2018-09-26</th>\n",
              "      <td>290.910004</td>\n",
              "      <td>292.239990</td>\n",
              "      <td>289.410004</td>\n",
              "      <td>289.880005</td>\n",
              "      <td>274.966278</td>\n",
              "      <td>79739700</td>\n",
              "    </tr>\n",
              "    <tr>\n",
              "      <th>2018-09-27</th>\n",
              "      <td>290.410004</td>\n",
              "      <td>291.910004</td>\n",
              "      <td>290.100006</td>\n",
              "      <td>290.690002</td>\n",
              "      <td>275.734558</td>\n",
              "      <td>59249500</td>\n",
              "    </tr>\n",
              "    <tr>\n",
              "      <th>2018-09-28</th>\n",
              "      <td>289.989990</td>\n",
              "      <td>291.279999</td>\n",
              "      <td>289.950012</td>\n",
              "      <td>290.720001</td>\n",
              "      <td>275.763031</td>\n",
              "      <td>70091400</td>\n",
              "    </tr>\n",
              "    <tr>\n",
              "      <th>2018-10-01</th>\n",
              "      <td>292.109985</td>\n",
              "      <td>292.929993</td>\n",
              "      <td>290.980011</td>\n",
              "      <td>291.730011</td>\n",
              "      <td>276.721100</td>\n",
              "      <td>62078900</td>\n",
              "    </tr>\n",
              "  </tbody>\n",
              "</table>\n",
              "<p>692 rows × 6 columns</p>\n",
              "</div>"
            ],
            "text/plain": [
              "                  Open        High  ...   Adj Close     Volume\n",
              "Date                                ...                       \n",
              "2016-01-04  200.490005  201.029999  ...  180.745560  222353500\n",
              "2016-01-05  201.399994  201.899994  ...  181.051285  110845800\n",
              "2016-01-06  198.339996  200.059998  ...  178.767456  152112600\n",
              "2016-01-07  195.330002  197.440002  ...  174.478561  213436100\n",
              "2016-01-08  195.190002  195.850006  ...  172.563385  209817200\n",
              "...                ...         ...  ...         ...        ...\n",
              "2018-09-25  291.529999  291.649994  ...  275.791473   44370000\n",
              "2018-09-26  290.910004  292.239990  ...  274.966278   79739700\n",
              "2018-09-27  290.410004  291.910004  ...  275.734558   59249500\n",
              "2018-09-28  289.989990  291.279999  ...  275.763031   70091400\n",
              "2018-10-01  292.109985  292.929993  ...  276.721100   62078900\n",
              "\n",
              "[692 rows x 6 columns]"
            ]
          },
          "metadata": {},
          "execution_count": 9
        }
      ]
    },
    {
      "cell_type": "code",
      "metadata": {
        "colab": {
          "base_uri": "https://localhost:8080/",
          "height": 441
        },
        "id": "nyC6QUwIaIkk",
        "outputId": "0f087414-05e1-46ae-e12c-1bcfcaa48e74"
      },
      "source": [
        "goog[\"Close\"].plot(figsize=(15,7), label=\"GOOG\")\n",
        "spy_etf[\"Close\"].plot(label=\"SPY Index\")\n",
        "plt.legend()"
      ],
      "execution_count": 10,
      "outputs": [
        {
          "output_type": "execute_result",
          "data": {
            "text/plain": [
              "<matplotlib.legend.Legend at 0x7f90cabee850>"
            ]
          },
          "metadata": {},
          "execution_count": 10
        },
        {
          "output_type": "display_data",
          "data": {
            "image/png": "[encoded data removed]",
            "text/plain": [
              "<Figure size 1080x504 with 1 Axes>"
            ]
          },
          "metadata": {
            "needs_background": "light"
          }
        }
      ]
    },
    {
      "cell_type": "markdown",
      "metadata": {
        "id": "jBJjoqy0aR8y"
      },
      "source": [
        "### So sánh lợi nhuận tích lũy "
      ]
    },
    {
      "cell_type": "code",
      "metadata": {
        "id": "bk7fJVw4aqHR"
      },
      "source": [
        "goog[\"Cummulative\"] = goog[\"Close\"] / goog[\"Close\"][0]\n",
        "spy_etf[\"Cummulative\"] = spy_etf[\"Close\"] / spy_etf[\"Close\"][0]"
      ],
      "execution_count": 11,
      "outputs": []
    },
    {
      "cell_type": "code",
      "metadata": {
        "colab": {
          "base_uri": "https://localhost:8080/",
          "height": 441
        },
        "id": "BqB5zzp1a5sw",
        "outputId": "193f4858-280e-4a8e-8b16-8bc33894360d"
      },
      "source": [
        "goog[\"Cummulative\"].plot(figsize=(15,7), label=\"GOOG\")\n",
        "spy_etf[\"Cummulative\"].plot(label=\"SPY Index\")\n",
        "plt.legend()"
      ],
      "execution_count": 12,
      "outputs": [
        {
          "output_type": "execute_result",
          "data": {
            "text/plain": [
              "<matplotlib.legend.Legend at 0x7f90cab21c50>"
            ]
          },
          "metadata": {},
          "execution_count": 12
        },
        {
          "output_type": "display_data",
          "data": {
            "image/png": "[encoded data removed]",
            "text/plain": [
              "<Figure size 1080x504 with 1 Axes>"
            ]
          },
          "metadata": {
            "needs_background": "light"
          }
        }
      ]
    },
    {
      "cell_type": "markdown",
      "metadata": {
        "id": "ZA2u2CHZbH3C"
      },
      "source": [
        "#### Tính lợi nhuận hàng ngày "
      ]
    },
    {
      "cell_type": "code",
      "metadata": {
        "id": "09yLMDw_bnvN"
      },
      "source": [
        "goog[\"Daily Return\"] = goog[\"Close\"].pct_change(1)\n",
        "spy_etf[\"Daily Return\"] = spy_etf[\"Close\"].pct_change(1)"
      ],
      "execution_count": 13,
      "outputs": []
    },
    {
      "cell_type": "code",
      "metadata": {
        "colab": {
          "base_uri": "https://localhost:8080/",
          "height": 445
        },
        "id": "Ku45DDWZbv_A",
        "outputId": "bb2d452f-9ed9-48fa-d287-1ee2f7cac1c9"
      },
      "source": [
        "fig = plt.figure(figsize=(15,7))\n",
        "plt.scatter(goog[\"Daily Return\"], spy_etf[\"Daily Return\"], alpha=0.8, color=\"orange\")"
      ],
      "execution_count": 14,
      "outputs": [
        {
          "output_type": "execute_result",
          "data": {
            "text/plain": [
              "<matplotlib.collections.PathCollection at 0x7f90ca3151d0>"
            ]
          },
          "metadata": {},
          "execution_count": 14
        },
        {
          "output_type": "display_data",
          "data": {
            "image/png": "[encoded data removed]",
            "text/plain": [
              "<Figure size 1080x504 with 1 Axes>"
            ]
          },
          "metadata": {
            "needs_background": "light"
          }
        }
      ]
    },
    {
      "cell_type": "code",
      "metadata": {
        "colab": {
          "base_uri": "https://localhost:8080/",
          "height": 445
        },
        "id": "mk5-rrSJe1mP",
        "outputId": "7233c72a-ef0d-4d6f-e976-b35bebba4fa8"
      },
      "source": [
        "goog[\"Daily Return\"].plot.kde(figsize=(12,7))"
      ],
      "execution_count": 15,
      "outputs": [
        {
          "output_type": "execute_result",
          "data": {
            "text/plain": [
              "<matplotlib.axes._subplots.AxesSubplot at 0x7f90ca3157d0>"
            ]
          },
          "metadata": {},
          "execution_count": 15
        },
        {
          "output_type": "display_data",
          "data": {
            "image/png": "[encoded data removed]",
            "text/plain": [
              "<Figure size 864x504 with 1 Axes>"
            ]
          },
          "metadata": {
            "needs_background": "light"
          }
        }
      ]
    },
    {
      "cell_type": "code",
      "metadata": {
        "colab": {
          "base_uri": "https://localhost:8080/",
          "height": 445
        },
        "id": "M9M94zwIe7H5",
        "outputId": "51aa3487-cfa6-4999-d0d5-05d5941bcd28"
      },
      "source": [
        "spy_etf[\"Daily Return\"].plot.kde(figsize=(12,7))"
      ],
      "execution_count": 16,
      "outputs": [
        {
          "output_type": "execute_result",
          "data": {
            "text/plain": [
              "<matplotlib.axes._subplots.AxesSubplot at 0x7f90c8a46b50>"
            ]
          },
          "metadata": {},
          "execution_count": 16
        },
        {
          "output_type": "display_data",
          "data": {
            "image/png": "[encoded data removed]",
            "text/plain": [
              "<Figure size 864x504 with 1 Axes>"
            ]
          },
          "metadata": {
            "needs_background": "light"
          }
        }
      ]
    },
    {
      "cell_type": "code",
      "metadata": {
        "colab": {
          "base_uri": "https://localhost:8080/",
          "height": 282
        },
        "id": "zqkies-5cH61",
        "outputId": "ebe6ceed-7abc-43dc-de82-a79e0bf28712"
      },
      "source": [
        "box_df = pd.DataFrame({\"GOOG\" : goog[\"Daily Return\"], \n",
        "                       \"SPY\" : spy_etf[\"Daily Return\"]})\n",
        "\n",
        "box_df.plot.box()"
      ],
      "execution_count": 17,
      "outputs": [
        {
          "output_type": "execute_result",
          "data": {
            "text/plain": [
              "<matplotlib.axes._subplots.AxesSubplot at 0x7f90c8acb610>"
            ]
          },
          "metadata": {},
          "execution_count": 17
        },
        {
          "output_type": "display_data",
          "data": {
            "image/png": "[encoded data removed]",
            "text/plain": [
              "<Figure size 432x288 with 1 Axes>"
            ]
          },
          "metadata": {
            "needs_background": "light"
          }
        }
      ]
    },
    {
      "cell_type": "markdown",
      "metadata": {
        "id": "tvthGKXic7hn"
      },
      "source": [
        "Sử dụng `scipy.stats.linregress()` để tính chỉ số Beta, alpha,rvalue, pvalue và stdev. Tham số truyền vào gồm \n",
        "+ x : Lợi nhuận hàng ngày của cổ  phiếu Goog tính từ thời điểm 1\n",
        "+ y : Lợi nhuận hàng ngày của thị trường "
      ]
    },
    {
      "cell_type": "code",
      "metadata": {
        "id": "nLlAKwDYdLMr"
      },
      "source": [
        "beta, alpha, rvalue, pvalue, stderr = stats.linregress( goog[\"Daily Return\"].iloc[1:],spy_etf[\"Daily Return\"].iloc[1:] )"
      ],
      "execution_count": 18,
      "outputs": []
    },
    {
      "cell_type": "code",
      "metadata": {
        "colab": {
          "base_uri": "https://localhost:8080/"
        },
        "id": "sbUhZXuVdnMy",
        "outputId": "d12db0f2-3429-4f27-8c30-90a59915768b"
      },
      "source": [
        "beta"
      ],
      "execution_count": 19,
      "outputs": [
        {
          "output_type": "execute_result",
          "data": {
            "text/plain": [
              "0.3968965189580502"
            ]
          },
          "metadata": {},
          "execution_count": 19
        }
      ]
    },
    {
      "cell_type": "code",
      "metadata": {
        "colab": {
          "base_uri": "https://localhost:8080/"
        },
        "id": "2dRyUhtednkp",
        "outputId": "95a830bd-bbfe-4c25-a14b-a75f7f787e41"
      },
      "source": [
        "alpha "
      ],
      "execution_count": 20,
      "outputs": [
        {
          "output_type": "execute_result",
          "data": {
            "text/plain": [
              "0.00026002733609720006"
            ]
          },
          "metadata": {},
          "execution_count": 20
        }
      ]
    },
    {
      "cell_type": "code",
      "metadata": {
        "colab": {
          "base_uri": "https://localhost:8080/"
        },
        "id": "M519vfS7fUZT",
        "outputId": "ba1771d2-ed05-4f8a-9b98-fff7a6e6ab35"
      },
      "source": [
        "rvalue"
      ],
      "execution_count": 21,
      "outputs": [
        {
          "output_type": "execute_result",
          "data": {
            "text/plain": [
              "0.6868243902190786"
            ]
          },
          "metadata": {},
          "execution_count": 21
        }
      ]
    },
    {
      "cell_type": "code",
      "metadata": {
        "colab": {
          "base_uri": "https://localhost:8080/"
        },
        "id": "IzVCDhZ0fVhc",
        "outputId": "c7c7f870-9882-40de-d52d-a334a32b13fb"
      },
      "source": [
        "pvalue"
      ],
      "execution_count": 22,
      "outputs": [
        {
          "output_type": "execute_result",
          "data": {
            "text/plain": [
              "1.4778811338323659e-97"
            ]
          },
          "metadata": {},
          "execution_count": 22
        }
      ]
    },
    {
      "cell_type": "code",
      "metadata": {
        "colab": {
          "base_uri": "https://localhost:8080/"
        },
        "id": "Iutuhb6NfWEg",
        "outputId": "9166e9e5-7d16-453b-bccf-8b442e1ff4dd"
      },
      "source": [
        "stderr"
      ],
      "execution_count": 23,
      "outputs": [
        {
          "output_type": "execute_result",
          "data": {
            "text/plain": [
              "0.016001138027971453"
            ]
          },
          "metadata": {},
          "execution_count": 23
        }
      ]
    },
    {
      "cell_type": "code",
      "metadata": {
        "colab": {
          "base_uri": "https://localhost:8080/"
        },
        "id": "SdEN6HKJYa39",
        "outputId": "d3f36973-4d77-4658-d3ea-51f85960e956"
      },
      "source": [
        "spy_etf[\"Cummulative\"]"
      ],
      "execution_count": 24,
      "outputs": [
        {
          "output_type": "execute_result",
          "data": {
            "text/plain": [
              "Date\n",
              "2016-01-04    1.000000\n",
              "2016-01-05    1.001691\n",
              "2016-01-06    0.989056\n",
              "2016-01-07    0.965327\n",
              "2016-01-08    0.954731\n",
              "                ...   \n",
              "2018-09-25    1.446373\n",
              "2018-09-26    1.442046\n",
              "2018-09-27    1.446075\n",
              "2018-09-28    1.446224\n",
              "2018-10-01    1.451249\n",
              "Name: Cummulative, Length: 692, dtype: float64"
            ]
          },
          "metadata": {},
          "execution_count": 24
        }
      ]
    },
    {
      "cell_type": "markdown",
      "metadata": {
        "id": "pp9QC5NeXq2K"
      },
      "source": [
        "Như vậy, lợi nhuận kỳ vọng của cổ phiếu Google trên S&P500 : \n",
        "\n",
        "$r_g=0.00012959 + 0.470362 * r_m$ \n",
        "\n",
        "$r_m$ : ở đây chính `spy_etf[\"Cummulative\"]`\n"
      ]
    },
    {
      "cell_type": "code",
      "metadata": {
        "colab": {
          "base_uri": "https://localhost:8080/"
        },
        "id": "qrqWc5q3Y5ua",
        "outputId": "c7e12220-e526-415c-ff44-681ea9b77858"
      },
      "source": [
        "alpha + beta*spy_etf[\"Cummulative\"]"
      ],
      "execution_count": 25,
      "outputs": [
        {
          "output_type": "execute_result",
          "data": {
            "text/plain": [
              "Date\n",
              "2016-01-04    0.397157\n",
              "2016-01-05    0.397828\n",
              "2016-01-06    0.392813\n",
              "2016-01-07    0.383395\n",
              "2016-01-08    0.379189\n",
              "                ...   \n",
              "2018-09-25    0.574321\n",
              "2018-09-26    0.572603\n",
              "2018-09-27    0.574202\n",
              "2018-09-28    0.574261\n",
              "2018-10-01    0.576256\n",
              "Name: Cummulative, Length: 692, dtype: float64"
            ]
          },
          "metadata": {},
          "execution_count": 25
        }
      ]
    },
    {
      "cell_type": "markdown",
      "metadata": {
        "id": "reHRZkF5fYP9"
      },
      "source": [
        "#### Điều gì sẽ xảy ra nếu cổ phiếu hoàn toàn liên quan đến SP500?\n",
        "\n",
        "Chúng ta sẽ tạo một `spy_etf` giả định với lợi nhuận hàng ngày của nó chênh lệch trong khoảng [0-0.001] tỉ lệ lợi nhuận so với giá trị thực."
      ]
    },
    {
      "cell_type": "code",
      "metadata": {
        "colab": {
          "base_uri": "https://localhost:8080/"
        },
        "id": "JkFgLw2Tfe5z",
        "outputId": "1a7e004b-9965-4f9d-c045-3bc86dcce732"
      },
      "source": [
        "noise = np.random.normal(0,0.001, len(spy_etf[\"Daily Return\"].iloc[1:]))\n",
        "noise[:10]"
      ],
      "execution_count": 26,
      "outputs": [
        {
          "output_type": "execute_result",
          "data": {
            "text/plain": [
              "array([ 1.78892213e-03,  1.85007606e-03,  8.55143062e-05,  1.78197321e-03,\n",
              "       -9.99194326e-04,  6.43427019e-04,  3.28726347e-05,  6.53689113e-05,\n",
              "        1.35418673e-03, -5.37845351e-04])"
            ]
          },
          "metadata": {},
          "execution_count": 26
        }
      ]
    },
    {
      "cell_type": "code",
      "metadata": {
        "colab": {
          "base_uri": "https://localhost:8080/"
        },
        "id": "q4dZ3Ry0gchz",
        "outputId": "2c4cc5f2-b7cf-4c62-e34c-6990051ca1d3"
      },
      "source": [
        "spy_etf[\"Daily Return\"].iloc[1:] + noise"
      ],
      "execution_count": 27,
      "outputs": [
        {
          "output_type": "execute_result",
          "data": {
            "text/plain": [
              "Date\n",
              "2016-01-05    0.003480\n",
              "2016-01-06   -0.010764\n",
              "2016-01-07   -0.023906\n",
              "2016-01-08   -0.009195\n",
              "2016-01-11   -0.000009\n",
              "                ...   \n",
              "2018-09-25   -0.002163\n",
              "2018-09-26   -0.003208\n",
              "2018-09-27    0.001502\n",
              "2018-09-28    0.000519\n",
              "2018-10-01    0.002846\n",
              "Name: Daily Return, Length: 691, dtype: float64"
            ]
          },
          "metadata": {},
          "execution_count": 27
        }
      ]
    },
    {
      "cell_type": "code",
      "metadata": {
        "id": "a2ZJeS_EgmrH"
      },
      "source": [
        "beta, alpha, rvalue, pvalue, stderr = stats.linregress(spy_etf[\"Daily Return\"].iloc[1:] + noise, \n",
        "                                                       spy_etf[\"Daily Return\"].iloc[1:] )\n"
      ],
      "execution_count": 28,
      "outputs": []
    },
    {
      "cell_type": "code",
      "metadata": {
        "colab": {
          "base_uri": "https://localhost:8080/"
        },
        "id": "KbgV9T6bg3_T",
        "outputId": "b3f7a997-721a-4f87-8fbe-2788d0eb8952"
      },
      "source": [
        "beta "
      ],
      "execution_count": 29,
      "outputs": [
        {
          "output_type": "execute_result",
          "data": {
            "text/plain": [
              "0.9808133530233172"
            ]
          },
          "metadata": {},
          "execution_count": 29
        }
      ]
    },
    {
      "cell_type": "code",
      "metadata": {
        "colab": {
          "base_uri": "https://localhost:8080/"
        },
        "id": "IILkE8A5g4WX",
        "outputId": "3a26fd34-f279-4f89-e4d0-2e581b0e56a0"
      },
      "source": [
        "alpha"
      ],
      "execution_count": 30,
      "outputs": [
        {
          "output_type": "execute_result",
          "data": {
            "text/plain": [
              "9.692764890856763e-06"
            ]
          },
          "metadata": {},
          "execution_count": 30
        }
      ]
    },
    {
      "cell_type": "markdown",
      "metadata": {
        "id": "dwmD6sAeXANj"
      },
      "source": [
        "Lợi nhuận kỳ vọng của một cổ phiếu gần giống với thị trường "
      ]
    },
    {
      "cell_type": "code",
      "metadata": {
        "colab": {
          "base_uri": "https://localhost:8080/"
        },
        "id": "oSj2yDtgajPv",
        "outputId": "667735ac-af51-4676-e557-a9429b9edacc"
      },
      "source": [
        "alpha + beta*spy_etf[\"Cummulative\"]"
      ],
      "execution_count": 31,
      "outputs": [
        {
          "output_type": "execute_result",
          "data": {
            "text/plain": [
              "Date\n",
              "2016-01-04    0.980823\n",
              "2016-01-05    0.982482\n",
              "2016-01-06    0.970089\n",
              "2016-01-07    0.946815\n",
              "2016-01-08    0.936422\n",
              "                ...   \n",
              "2018-09-25    1.418632\n",
              "2018-09-26    1.414387\n",
              "2018-09-27    1.418339\n",
              "2018-09-28    1.418486\n",
              "2018-10-01    1.423414\n",
              "Name: Cummulative, Length: 692, dtype: float64"
            ]
          },
          "metadata": {},
          "execution_count": 31
        }
      ]
    },
    {
      "cell_type": "markdown",
      "metadata": {
        "id": "sqhisPJEbA88"
      },
      "source": [
        "## Giả thiết về thị trường hiệu quả Efficient Market Hypothesis)\n",
        "\n",
        "EMH là một lý thuyết đầu tư cho rằng không thể \"đánh bại thị trường\" vì hiệu quả thị trường chứng khoán khiến giá cổ phiếu hiện tại luôn kết hợp và phản ánh tất cả các thông tin liên quan.\n",
        "\n",
        "Theo EMH, cổ phiếu luôn giao dịch theo giá trị hợp lý của chúng trên các sàn giao dịch chứng khoán, khiến các nhà đầu tư không thể mua cổ phiếu bị định giá thấp hoặc bán cổ phiếu với giá tăng cao.\n",
        "\n",
        "Do đó, dù có là việc lựa chọn cổ phiếu của chuyên gia hoặc thời điểm thị trường cũng không thể vượt qua thị trường tổng thể thông qua. Cách duy nhất một nhà đầu tư có thể có được lợi nhuận cao hơn là mua các khoản đầu tư rủi ro hơn.\n",
        "\n",
        "Vậy EMH có đúng không ? \n",
        "+ Nếu EMH là đúng, thì rất nhiều kiến thức chúng ta đã học trong khóa học này không liên quan đến nó.\n",
        "+ Nếu EMH đúng cũng đồng nghĩa nó muốn nói rằng những quỹ phòng hộ chỉ có khả năng sinh lời chỉ là rất may mắn. \n",
        "+ Sự thành công của các chiến lược và quỹ phòng hộ khác nhau đã cho thấy cách giải thích mạnh nhất về EMH có lẽ là không đúng.\n",
        "+ Có những sự kiện cho thấy thị trường được định giá quá cao tại một số thời điểm nhất định trong lịch sử \n",
        "(khủng hoảng tài chính, bong bóng dot com, v.v.)\n",
        "\n",
        "Mặc dù một số khía cạnh của EMH chắc chắn là đúng, đặc biệt là khi thông tin được chấp nhận rộng rãi hơn. Nhưng thưc tế, chúng ta sẽ tiếp tục với giả định rằng thị trường không hoạt động hiệu quả 100%.\n",
        "\n",
        "\n",
        "\n",
        "\n",
        "\n",
        "\n",
        "\n",
        "\n",
        "\n",
        "\n",
        "\n"
      ]
    },
    {
      "cell_type": "code",
      "metadata": {
        "id": "c3AWArdEbQw-"
      },
      "source": [
        ""
      ],
      "execution_count": null,
      "outputs": []
    }
  ]
}